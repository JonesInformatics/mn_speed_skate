{
 "metadata": {
  "language_info": {
   "codemirror_mode": {
    "name": "ipython",
    "version": 3
   },
   "file_extension": ".py",
   "mimetype": "text/x-python",
   "name": "python",
   "nbconvert_exporter": "python",
   "pygments_lexer": "ipython3",
   "version": "3.8.3"
  },
  "orig_nbformat": 2,
  "kernelspec": {
   "name": "python383jvsc74a57bd02f055b12a15bc2dfb7529c0c6187f0771e54f5028f8503e224fe70e7f68ca49a",
   "display_name": "Python 3.8.3 64-bit ('base': conda)"
  }
 },
 "nbformat": 4,
 "nbformat_minor": 2,
 "cells": [
  {
   "cell_type": "code",
   "execution_count": 10,
   "metadata": {},
   "outputs": [],
   "source": [
    "import pandas as pd\n",
    "import matplotlib.pyplot as plt \n",
    "import datetime as datetime\n"
   ]
  },
  {
   "cell_type": "code",
   "execution_count": 24,
   "metadata": {},
   "outputs": [],
   "source": [
    "testing = pd.read_csv(\"testing_time.csv\")\n",
    "testing['datetime'] = pd.to_datetime(testing['time'])"
   ]
  },
  {
   "cell_type": "code",
   "execution_count": 20,
   "metadata": {},
   "outputs": [
    {
     "output_type": "error",
     "ename": "OutOfBoundsDatetime",
     "evalue": "Out of bounds nanosecond timestamp: 1-01-25 00:00:00",
     "traceback": [
      "\u001b[1;31m---------------------------------------------------------------------------\u001b[0m",
      "\u001b[1;31mTypeError\u001b[0m                                 Traceback (most recent call last)",
      "\u001b[1;32m~\\Anaconda3\\lib\\site-packages\\pandas\\core\\arrays\\datetimes.py\u001b[0m in \u001b[0;36mobjects_to_datetime64ns\u001b[1;34m(data, dayfirst, yearfirst, utc, errors, require_iso8601, allow_object)\u001b[0m\n\u001b[0;32m   2084\u001b[0m         \u001b[1;32mtry\u001b[0m\u001b[1;33m:\u001b[0m\u001b[1;33m\u001b[0m\u001b[1;33m\u001b[0m\u001b[0m\n\u001b[1;32m-> 2085\u001b[1;33m             \u001b[0mvalues\u001b[0m\u001b[1;33m,\u001b[0m \u001b[0mtz_parsed\u001b[0m \u001b[1;33m=\u001b[0m \u001b[0mconversion\u001b[0m\u001b[1;33m.\u001b[0m\u001b[0mdatetime_to_datetime64\u001b[0m\u001b[1;33m(\u001b[0m\u001b[0mdata\u001b[0m\u001b[1;33m)\u001b[0m\u001b[1;33m\u001b[0m\u001b[1;33m\u001b[0m\u001b[0m\n\u001b[0m\u001b[0;32m   2086\u001b[0m             \u001b[1;31m# If tzaware, these values represent unix timestamps, so we\u001b[0m\u001b[1;33m\u001b[0m\u001b[1;33m\u001b[0m\u001b[1;33m\u001b[0m\u001b[0m\n",
      "\u001b[1;32mpandas\\_libs\\tslibs\\conversion.pyx\u001b[0m in \u001b[0;36mpandas._libs.tslibs.conversion.datetime_to_datetime64\u001b[1;34m()\u001b[0m\n",
      "\u001b[1;31mTypeError\u001b[0m: Unrecognized value type: <class 'str'>",
      "\nDuring handling of the above exception, another exception occurred:\n",
      "\u001b[1;31mOutOfBoundsDatetime\u001b[0m                       Traceback (most recent call last)",
      "\u001b[1;32m<ipython-input-20-7a24afc30b44>\u001b[0m in \u001b[0;36m<module>\u001b[1;34m\u001b[0m\n\u001b[0;32m      2\u001b[0m \u001b[0mdf\u001b[0m \u001b[1;33m=\u001b[0m \u001b[0mpd\u001b[0m\u001b[1;33m.\u001b[0m\u001b[0mread_csv\u001b[0m\u001b[1;33m(\u001b[0m\u001b[1;34m\"auggie.csv\"\u001b[0m\u001b[1;33m)\u001b[0m\u001b[1;33m\u001b[0m\u001b[1;33m\u001b[0m\u001b[0m\n\u001b[0;32m      3\u001b[0m \u001b[0mdf\u001b[0m\u001b[1;33m.\u001b[0m\u001b[0msample\u001b[0m\u001b[1;33m(\u001b[0m\u001b[1;33m)\u001b[0m\u001b[1;33m\u001b[0m\u001b[1;33m\u001b[0m\u001b[0m\n\u001b[1;32m----> 4\u001b[1;33m \u001b[0mpd\u001b[0m\u001b[1;33m.\u001b[0m\u001b[0mto_datetime\u001b[0m\u001b[1;33m(\u001b[0m\u001b[0mdf\u001b[0m\u001b[1;33m[\u001b[0m\u001b[1;34m'Time'\u001b[0m\u001b[1;33m]\u001b[0m\u001b[1;33m)\u001b[0m\u001b[1;33m\u001b[0m\u001b[1;33m\u001b[0m\u001b[0m\n\u001b[0m\u001b[0;32m      5\u001b[0m \u001b[1;33m\u001b[0m\u001b[0m\n\u001b[0;32m      6\u001b[0m \u001b[1;31m#df['datetime'] = pd.to_datetime(df['Time'])\u001b[0m\u001b[1;33m\u001b[0m\u001b[1;33m\u001b[0m\u001b[1;33m\u001b[0m\u001b[0m\n",
      "\u001b[1;32m~\\Anaconda3\\lib\\site-packages\\pandas\\core\\tools\\datetimes.py\u001b[0m in \u001b[0;36mto_datetime\u001b[1;34m(arg, errors, dayfirst, yearfirst, utc, format, exact, unit, infer_datetime_format, origin, cache)\u001b[0m\n\u001b[0;32m    803\u001b[0m             \u001b[0mresult\u001b[0m \u001b[1;33m=\u001b[0m \u001b[0marg\u001b[0m\u001b[1;33m.\u001b[0m\u001b[0mmap\u001b[0m\u001b[1;33m(\u001b[0m\u001b[0mcache_array\u001b[0m\u001b[1;33m)\u001b[0m\u001b[1;33m\u001b[0m\u001b[1;33m\u001b[0m\u001b[0m\n\u001b[0;32m    804\u001b[0m         \u001b[1;32melse\u001b[0m\u001b[1;33m:\u001b[0m\u001b[1;33m\u001b[0m\u001b[1;33m\u001b[0m\u001b[0m\n\u001b[1;32m--> 805\u001b[1;33m             \u001b[0mvalues\u001b[0m \u001b[1;33m=\u001b[0m \u001b[0mconvert_listlike\u001b[0m\u001b[1;33m(\u001b[0m\u001b[0marg\u001b[0m\u001b[1;33m.\u001b[0m\u001b[0m_values\u001b[0m\u001b[1;33m,\u001b[0m \u001b[0mformat\u001b[0m\u001b[1;33m)\u001b[0m\u001b[1;33m\u001b[0m\u001b[1;33m\u001b[0m\u001b[0m\n\u001b[0m\u001b[0;32m    806\u001b[0m             \u001b[0mresult\u001b[0m \u001b[1;33m=\u001b[0m \u001b[0marg\u001b[0m\u001b[1;33m.\u001b[0m\u001b[0m_constructor\u001b[0m\u001b[1;33m(\u001b[0m\u001b[0mvalues\u001b[0m\u001b[1;33m,\u001b[0m \u001b[0mindex\u001b[0m\u001b[1;33m=\u001b[0m\u001b[0marg\u001b[0m\u001b[1;33m.\u001b[0m\u001b[0mindex\u001b[0m\u001b[1;33m,\u001b[0m \u001b[0mname\u001b[0m\u001b[1;33m=\u001b[0m\u001b[0marg\u001b[0m\u001b[1;33m.\u001b[0m\u001b[0mname\u001b[0m\u001b[1;33m)\u001b[0m\u001b[1;33m\u001b[0m\u001b[1;33m\u001b[0m\u001b[0m\n\u001b[0;32m    807\u001b[0m     \u001b[1;32melif\u001b[0m \u001b[0misinstance\u001b[0m\u001b[1;33m(\u001b[0m\u001b[0marg\u001b[0m\u001b[1;33m,\u001b[0m \u001b[1;33m(\u001b[0m\u001b[0mABCDataFrame\u001b[0m\u001b[1;33m,\u001b[0m \u001b[0mabc\u001b[0m\u001b[1;33m.\u001b[0m\u001b[0mMutableMapping\u001b[0m\u001b[1;33m)\u001b[0m\u001b[1;33m)\u001b[0m\u001b[1;33m:\u001b[0m\u001b[1;33m\u001b[0m\u001b[1;33m\u001b[0m\u001b[0m\n",
      "\u001b[1;32m~\\Anaconda3\\lib\\site-packages\\pandas\\core\\tools\\datetimes.py\u001b[0m in \u001b[0;36m_convert_listlike_datetimes\u001b[1;34m(arg, format, name, tz, unit, errors, infer_datetime_format, dayfirst, yearfirst, exact)\u001b[0m\n\u001b[0;32m    463\u001b[0m         \u001b[1;32massert\u001b[0m \u001b[0mformat\u001b[0m \u001b[1;32mis\u001b[0m \u001b[1;32mNone\u001b[0m \u001b[1;32mor\u001b[0m \u001b[0minfer_datetime_format\u001b[0m\u001b[1;33m\u001b[0m\u001b[1;33m\u001b[0m\u001b[0m\n\u001b[0;32m    464\u001b[0m         \u001b[0mutc\u001b[0m \u001b[1;33m=\u001b[0m \u001b[0mtz\u001b[0m \u001b[1;33m==\u001b[0m \u001b[1;34m\"utc\"\u001b[0m\u001b[1;33m\u001b[0m\u001b[1;33m\u001b[0m\u001b[0m\n\u001b[1;32m--> 465\u001b[1;33m         result, tz_parsed = objects_to_datetime64ns(\n\u001b[0m\u001b[0;32m    466\u001b[0m             \u001b[0marg\u001b[0m\u001b[1;33m,\u001b[0m\u001b[1;33m\u001b[0m\u001b[1;33m\u001b[0m\u001b[0m\n\u001b[0;32m    467\u001b[0m             \u001b[0mdayfirst\u001b[0m\u001b[1;33m=\u001b[0m\u001b[0mdayfirst\u001b[0m\u001b[1;33m,\u001b[0m\u001b[1;33m\u001b[0m\u001b[1;33m\u001b[0m\u001b[0m\n",
      "\u001b[1;32m~\\Anaconda3\\lib\\site-packages\\pandas\\core\\arrays\\datetimes.py\u001b[0m in \u001b[0;36mobjects_to_datetime64ns\u001b[1;34m(data, dayfirst, yearfirst, utc, errors, require_iso8601, allow_object)\u001b[0m\n\u001b[0;32m   2088\u001b[0m             \u001b[1;32mreturn\u001b[0m \u001b[0mvalues\u001b[0m\u001b[1;33m.\u001b[0m\u001b[0mview\u001b[0m\u001b[1;33m(\u001b[0m\u001b[1;34m\"i8\"\u001b[0m\u001b[1;33m)\u001b[0m\u001b[1;33m,\u001b[0m \u001b[0mtz_parsed\u001b[0m\u001b[1;33m\u001b[0m\u001b[1;33m\u001b[0m\u001b[0m\n\u001b[0;32m   2089\u001b[0m         \u001b[1;32mexcept\u001b[0m \u001b[1;33m(\u001b[0m\u001b[0mValueError\u001b[0m\u001b[1;33m,\u001b[0m \u001b[0mTypeError\u001b[0m\u001b[1;33m)\u001b[0m\u001b[1;33m:\u001b[0m\u001b[1;33m\u001b[0m\u001b[1;33m\u001b[0m\u001b[0m\n\u001b[1;32m-> 2090\u001b[1;33m             \u001b[1;32mraise\u001b[0m \u001b[0me\u001b[0m\u001b[1;33m\u001b[0m\u001b[1;33m\u001b[0m\u001b[0m\n\u001b[0m\u001b[0;32m   2091\u001b[0m \u001b[1;33m\u001b[0m\u001b[0m\n\u001b[0;32m   2092\u001b[0m     \u001b[1;32mif\u001b[0m \u001b[0mtz_parsed\u001b[0m \u001b[1;32mis\u001b[0m \u001b[1;32mnot\u001b[0m \u001b[1;32mNone\u001b[0m\u001b[1;33m:\u001b[0m\u001b[1;33m\u001b[0m\u001b[1;33m\u001b[0m\u001b[0m\n",
      "\u001b[1;32m~\\Anaconda3\\lib\\site-packages\\pandas\\core\\arrays\\datetimes.py\u001b[0m in \u001b[0;36mobjects_to_datetime64ns\u001b[1;34m(data, dayfirst, yearfirst, utc, errors, require_iso8601, allow_object)\u001b[0m\n\u001b[0;32m   2073\u001b[0m \u001b[1;33m\u001b[0m\u001b[0m\n\u001b[0;32m   2074\u001b[0m     \u001b[1;32mtry\u001b[0m\u001b[1;33m:\u001b[0m\u001b[1;33m\u001b[0m\u001b[1;33m\u001b[0m\u001b[0m\n\u001b[1;32m-> 2075\u001b[1;33m         result, tz_parsed = tslib.array_to_datetime(\n\u001b[0m\u001b[0;32m   2076\u001b[0m             \u001b[0mdata\u001b[0m\u001b[1;33m,\u001b[0m\u001b[1;33m\u001b[0m\u001b[1;33m\u001b[0m\u001b[0m\n\u001b[0;32m   2077\u001b[0m             \u001b[0merrors\u001b[0m\u001b[1;33m=\u001b[0m\u001b[0merrors\u001b[0m\u001b[1;33m,\u001b[0m\u001b[1;33m\u001b[0m\u001b[1;33m\u001b[0m\u001b[0m\n",
      "\u001b[1;32mpandas\\_libs\\tslib.pyx\u001b[0m in \u001b[0;36mpandas._libs.tslib.array_to_datetime\u001b[1;34m()\u001b[0m\n",
      "\u001b[1;32mpandas\\_libs\\tslib.pyx\u001b[0m in \u001b[0;36mpandas._libs.tslib.array_to_datetime\u001b[1;34m()\u001b[0m\n",
      "\u001b[1;32mpandas\\_libs\\tslib.pyx\u001b[0m in \u001b[0;36mpandas._libs.tslib.array_to_datetime\u001b[1;34m()\u001b[0m\n",
      "\u001b[1;32mpandas\\_libs\\tslib.pyx\u001b[0m in \u001b[0;36mpandas._libs.tslib.array_to_datetime\u001b[1;34m()\u001b[0m\n",
      "\u001b[1;32mpandas\\_libs\\tslibs\\conversion.pyx\u001b[0m in \u001b[0;36mpandas._libs.tslibs.conversion.convert_datetime_to_tsobject\u001b[1;34m()\u001b[0m\n",
      "\u001b[1;32mpandas\\_libs\\tslibs\\np_datetime.pyx\u001b[0m in \u001b[0;36mpandas._libs.tslibs.np_datetime.check_dts_bounds\u001b[1;34m()\u001b[0m\n",
      "\u001b[1;31mOutOfBoundsDatetime\u001b[0m: Out of bounds nanosecond timestamp: 1-01-25 00:00:00"
     ]
    }
   ],
   "source": [
    "# load Auggie's race results\n",
    "df = pd.read_csv(\"auggie.csv\")\n",
    "df.sample()\n",
    "#pd.to_datetime(df['Time'])\n",
    "\n",
    "#df['datetime'] = pd.to_datetime(df['Time'])"
   ]
  },
  {
   "cell_type": "code",
   "execution_count": 16,
   "metadata": {},
   "outputs": [
    {
     "output_type": "execute_result",
     "data": {
      "text/plain": [
       "                                     Race Name               Location  \\\n",
       "0       USA - Open National Championships 2022  Salt Lake City (USA)    \n",
       "1       USA - Open National Championships 2023  Salt Lake City (USA)    \n",
       "2       USA - Open National Championships 2024  Salt Lake City (USA)    \n",
       "3       USA - Open National Championships 2025  Salt Lake City (USA)    \n",
       "4       USA - Open National Championships 2026  Salt Lake City (USA)    \n",
       "5       USA - Open National Championships 2027  Salt Lake City (USA)    \n",
       "6                  10,000 Lakes Championships               Roseville   \n",
       "7                  10,000 Lakes Championships               Roseville   \n",
       "8                  10,000 Lakes Championships               Roseville   \n",
       "9                  10,000 Lakes Championships               Roseville   \n",
       "10                 10,000 Lakes Championships               Roseville   \n",
       "11                 10,000 Lakes Championships               Roseville   \n",
       "12                 10,000 Lakes Championships               Roseville   \n",
       "13                 10,000 Lakes Championships               Roseville   \n",
       "14                 10,000 Lakes Championships               Roseville   \n",
       "15                      Roseville Time Trials               Roseville   \n",
       "16                      Roseville Time Trials               Roseville   \n",
       "17                      Roseville Time Trials               Roseville   \n",
       "18                      Roseville Time Trials               Roseville   \n",
       "19                      Roseville Time Trials               Roseville   \n",
       "20                      Roseville Time Trials               Roseville   \n",
       "21                           PNIC Time Trials        Milwaukee (USA)    \n",
       "22                           PNIC Time Trials        Milwaukee (USA)    \n",
       "23   AmCup Final / Open Masters Championships   Salt Lake City (USA)    \n",
       "24   AmCup Final / Open Masters Championships   Salt Lake City (USA)    \n",
       "25   AmCup Final / Open Masters Championships   Salt Lake City (USA)    \n",
       "26   AmCup Final / Open Masters Championships   Salt Lake City (USA)    \n",
       "27   AmCup Final / Open Masters Championships   Salt Lake City (USA)    \n",
       "28                                Time Trials        Roseville (USA)    \n",
       "29                                Time Trials        Roseville (USA)    \n",
       "30                                Time Trials        Roseville (USA)    \n",
       "31  MInnesota State Gopher Open Championships        Roseville (USA)    \n",
       "32  MInnesota State Gopher Open Championships        Roseville (USA)    \n",
       "33  MInnesota State Gopher Open Championships        Roseville (USA)    \n",
       "34  MInnesota State Gopher Open Championships        Roseville (USA)    \n",
       "35                                Time Trials        Roseville (USA)    \n",
       "36         USA - Long Track Championships 2021  Salt Lake City (USA)    \n",
       "37         USA - Long Track Championships 2022  Salt Lake City (USA)    \n",
       "38         USA - Long Track Championships 2023  Salt Lake City (USA)    \n",
       "39         USA - Long Track Championships 2024  Salt Lake City (USA)    \n",
       "40         USA - Long Track Championships 2026  Salt Lake City (USA)    \n",
       "41                                Time Trials        Roseville (USA)    \n",
       "42                                     AmCup 3       Roseville (USA)    \n",
       "43                                     AmCup 4       Roseville (USA)    \n",
       "44                                     AmCup 5       Roseville (USA)    \n",
       "45                                     AmCup 6       Roseville (USA)    \n",
       "46                                     AmCup 7       Roseville (USA)    \n",
       "47                                     AmCup 8       Roseville (USA)    \n",
       "48                                Time Trials        Roseville (USA)    \n",
       "49                        Weekend Time Trials        Roseville (USA)    \n",
       "\n",
       "                           Race       Date     Time PR_SR?  \n",
       "0                         1500m   5-Mar-21  1.52.89  PR SB  \n",
       "1                         1000m   6-Mar-21  1.13.38  PR SB  \n",
       "2                         5000m   6-Mar-21  7.09.84    NaN  \n",
       "3                          500m   7-Mar-21    37.98    NaN  \n",
       "4                         1000m   7-Mar-21  1.13.25  PR SB  \n",
       "5         Team Pursuit (8 laps)   7-Mar-21  4.33.14    NaN  \n",
       "6                          500m  20-Feb-21    39.27    NaN  \n",
       "7                          100m  21-Feb-21    10.83     SB  \n",
       "8                         1500m  21-Feb-21  2.03.19    NaN  \n",
       "9                          300m   4-Feb-21    25.39     SB  \n",
       "10                         500m   4-Feb-21    40.17    NaN  \n",
       "11                         500m  23-Jan-21    38.35    NaN  \n",
       "12                        1500m  23-Jan-21  1.54.22  PR SB  \n",
       "13                        1000m  24-Jan-21  1.14.44     SB  \n",
       "14                        5000m  24-Jan-21  7.09.46     SB  \n",
       "15                         500m   9-Jan-21    40.56    NaN  \n",
       "16                        1500m   9-Jan-21  2.05.89    NaN  \n",
       "17                         500m  19-Dec-20    38.51    NaN  \n",
       "18                        1500m  19-Dec-20      DNF    NaN  \n",
       "19                         500m  12-Dec-20    37.99  PR SB  \n",
       "20                        1500m  12-Dec-20  1.56.01     SB  \n",
       "21                         500m  21-Nov-20    38.26  PR SB  \n",
       "22                        1000m  21-Nov-20  1.16.28     SB  \n",
       "23                     500m (1)   6-Mar-20    38.80    NaN  \n",
       "24                     500m (2)   6-Mar-20    38.64  PR SB  \n",
       "25                        5000m   6-Mar-20  7.07.21  PR SB  \n",
       "26                        1500m   7-Mar-20  1.55.83  PR SB  \n",
       "27                        1000m   8-Mar-20  1.14.31  PR SB  \n",
       "28                         500m  29-Feb-20    41.40    NaN  \n",
       "29                         500m  15-Feb-20    40.90    NaN  \n",
       "30                        3000m  15-Feb-20  4.30.87     SB  \n",
       "31                         100m   1-Feb-20    11.30     SB  \n",
       "32                         500m   1-Feb-20    41.23    NaN  \n",
       "33                        1500m   1-Feb-20  2.03.01    NaN  \n",
       "34                        1000m   2-Feb-20  1.19.24    NaN  \n",
       "35                        1000m  25-Jan-20  1.22.05    NaN  \n",
       "36                         500m  27-Dec-19      DNF    NaN  \n",
       "37                        5000m  27-Dec-19  7.12.31  PR SB  \n",
       "38                        1000m  28-Dec-19  1.14.82  PR SB  \n",
       "39  Mass Start (10 laps) Junior  28-Dec-19     18th    NaN  \n",
       "40                         500m  27-Dec-19    38.74  PR SB  \n",
       "41                         500m  21-Dec-19    40.91    NaN  \n",
       "42                     500m (2)   6-Dec-19    39.54    NaN  \n",
       "43                         500m   6-Dec-19    39.47    NaN  \n",
       "44                        3000m   6-Dec-19  4.35.90     SB  \n",
       "45                        1500m   7-Dec-19  2.07.33    NaN  \n",
       "46                        1000m   8-Dec-19  1.19.62    NaN  \n",
       "47         Mass Start (10 laps)   7-Dec-19      DNS    NaN  \n",
       "48                         500m  30-Nov-19    42.39    NaN  \n",
       "49                        1500m  16-Nov-19  2.07.34    NaN  "
      ],
      "text/html": "<div>\n<style scoped>\n    .dataframe tbody tr th:only-of-type {\n        vertical-align: middle;\n    }\n\n    .dataframe tbody tr th {\n        vertical-align: top;\n    }\n\n    .dataframe thead th {\n        text-align: right;\n    }\n</style>\n<table border=\"1\" class=\"dataframe\">\n  <thead>\n    <tr style=\"text-align: right;\">\n      <th></th>\n      <th>Race Name</th>\n      <th>Location</th>\n      <th>Race</th>\n      <th>Date</th>\n      <th>Time</th>\n      <th>PR_SR?</th>\n    </tr>\n  </thead>\n  <tbody>\n    <tr>\n      <th>0</th>\n      <td>USA - Open National Championships 2022</td>\n      <td>Salt Lake City (USA)</td>\n      <td>1500m</td>\n      <td>5-Mar-21</td>\n      <td>1.52.89</td>\n      <td>PR SB</td>\n    </tr>\n    <tr>\n      <th>1</th>\n      <td>USA - Open National Championships 2023</td>\n      <td>Salt Lake City (USA)</td>\n      <td>1000m</td>\n      <td>6-Mar-21</td>\n      <td>1.13.38</td>\n      <td>PR SB</td>\n    </tr>\n    <tr>\n      <th>2</th>\n      <td>USA - Open National Championships 2024</td>\n      <td>Salt Lake City (USA)</td>\n      <td>5000m</td>\n      <td>6-Mar-21</td>\n      <td>7.09.84</td>\n      <td>NaN</td>\n    </tr>\n    <tr>\n      <th>3</th>\n      <td>USA - Open National Championships 2025</td>\n      <td>Salt Lake City (USA)</td>\n      <td>500m</td>\n      <td>7-Mar-21</td>\n      <td>37.98</td>\n      <td>NaN</td>\n    </tr>\n    <tr>\n      <th>4</th>\n      <td>USA - Open National Championships 2026</td>\n      <td>Salt Lake City (USA)</td>\n      <td>1000m</td>\n      <td>7-Mar-21</td>\n      <td>1.13.25</td>\n      <td>PR SB</td>\n    </tr>\n    <tr>\n      <th>5</th>\n      <td>USA - Open National Championships 2027</td>\n      <td>Salt Lake City (USA)</td>\n      <td>Team Pursuit (8 laps)</td>\n      <td>7-Mar-21</td>\n      <td>4.33.14</td>\n      <td>NaN</td>\n    </tr>\n    <tr>\n      <th>6</th>\n      <td>10,000 Lakes Championships</td>\n      <td>Roseville</td>\n      <td>500m</td>\n      <td>20-Feb-21</td>\n      <td>39.27</td>\n      <td>NaN</td>\n    </tr>\n    <tr>\n      <th>7</th>\n      <td>10,000 Lakes Championships</td>\n      <td>Roseville</td>\n      <td>100m</td>\n      <td>21-Feb-21</td>\n      <td>10.83</td>\n      <td>SB</td>\n    </tr>\n    <tr>\n      <th>8</th>\n      <td>10,000 Lakes Championships</td>\n      <td>Roseville</td>\n      <td>1500m</td>\n      <td>21-Feb-21</td>\n      <td>2.03.19</td>\n      <td>NaN</td>\n    </tr>\n    <tr>\n      <th>9</th>\n      <td>10,000 Lakes Championships</td>\n      <td>Roseville</td>\n      <td>300m</td>\n      <td>4-Feb-21</td>\n      <td>25.39</td>\n      <td>SB</td>\n    </tr>\n    <tr>\n      <th>10</th>\n      <td>10,000 Lakes Championships</td>\n      <td>Roseville</td>\n      <td>500m</td>\n      <td>4-Feb-21</td>\n      <td>40.17</td>\n      <td>NaN</td>\n    </tr>\n    <tr>\n      <th>11</th>\n      <td>10,000 Lakes Championships</td>\n      <td>Roseville</td>\n      <td>500m</td>\n      <td>23-Jan-21</td>\n      <td>38.35</td>\n      <td>NaN</td>\n    </tr>\n    <tr>\n      <th>12</th>\n      <td>10,000 Lakes Championships</td>\n      <td>Roseville</td>\n      <td>1500m</td>\n      <td>23-Jan-21</td>\n      <td>1.54.22</td>\n      <td>PR SB</td>\n    </tr>\n    <tr>\n      <th>13</th>\n      <td>10,000 Lakes Championships</td>\n      <td>Roseville</td>\n      <td>1000m</td>\n      <td>24-Jan-21</td>\n      <td>1.14.44</td>\n      <td>SB</td>\n    </tr>\n    <tr>\n      <th>14</th>\n      <td>10,000 Lakes Championships</td>\n      <td>Roseville</td>\n      <td>5000m</td>\n      <td>24-Jan-21</td>\n      <td>7.09.46</td>\n      <td>SB</td>\n    </tr>\n    <tr>\n      <th>15</th>\n      <td>Roseville Time Trials</td>\n      <td>Roseville</td>\n      <td>500m</td>\n      <td>9-Jan-21</td>\n      <td>40.56</td>\n      <td>NaN</td>\n    </tr>\n    <tr>\n      <th>16</th>\n      <td>Roseville Time Trials</td>\n      <td>Roseville</td>\n      <td>1500m</td>\n      <td>9-Jan-21</td>\n      <td>2.05.89</td>\n      <td>NaN</td>\n    </tr>\n    <tr>\n      <th>17</th>\n      <td>Roseville Time Trials</td>\n      <td>Roseville</td>\n      <td>500m</td>\n      <td>19-Dec-20</td>\n      <td>38.51</td>\n      <td>NaN</td>\n    </tr>\n    <tr>\n      <th>18</th>\n      <td>Roseville Time Trials</td>\n      <td>Roseville</td>\n      <td>1500m</td>\n      <td>19-Dec-20</td>\n      <td>DNF</td>\n      <td>NaN</td>\n    </tr>\n    <tr>\n      <th>19</th>\n      <td>Roseville Time Trials</td>\n      <td>Roseville</td>\n      <td>500m</td>\n      <td>12-Dec-20</td>\n      <td>37.99</td>\n      <td>PR SB</td>\n    </tr>\n    <tr>\n      <th>20</th>\n      <td>Roseville Time Trials</td>\n      <td>Roseville</td>\n      <td>1500m</td>\n      <td>12-Dec-20</td>\n      <td>1.56.01</td>\n      <td>SB</td>\n    </tr>\n    <tr>\n      <th>21</th>\n      <td>PNIC Time Trials</td>\n      <td>Milwaukee (USA)</td>\n      <td>500m</td>\n      <td>21-Nov-20</td>\n      <td>38.26</td>\n      <td>PR SB</td>\n    </tr>\n    <tr>\n      <th>22</th>\n      <td>PNIC Time Trials</td>\n      <td>Milwaukee (USA)</td>\n      <td>1000m</td>\n      <td>21-Nov-20</td>\n      <td>1.16.28</td>\n      <td>SB</td>\n    </tr>\n    <tr>\n      <th>23</th>\n      <td>AmCup Final / Open Masters Championships</td>\n      <td>Salt Lake City (USA)</td>\n      <td>500m (1)</td>\n      <td>6-Mar-20</td>\n      <td>38.80</td>\n      <td>NaN</td>\n    </tr>\n    <tr>\n      <th>24</th>\n      <td>AmCup Final / Open Masters Championships</td>\n      <td>Salt Lake City (USA)</td>\n      <td>500m (2)</td>\n      <td>6-Mar-20</td>\n      <td>38.64</td>\n      <td>PR SB</td>\n    </tr>\n    <tr>\n      <th>25</th>\n      <td>AmCup Final / Open Masters Championships</td>\n      <td>Salt Lake City (USA)</td>\n      <td>5000m</td>\n      <td>6-Mar-20</td>\n      <td>7.07.21</td>\n      <td>PR SB</td>\n    </tr>\n    <tr>\n      <th>26</th>\n      <td>AmCup Final / Open Masters Championships</td>\n      <td>Salt Lake City (USA)</td>\n      <td>1500m</td>\n      <td>7-Mar-20</td>\n      <td>1.55.83</td>\n      <td>PR SB</td>\n    </tr>\n    <tr>\n      <th>27</th>\n      <td>AmCup Final / Open Masters Championships</td>\n      <td>Salt Lake City (USA)</td>\n      <td>1000m</td>\n      <td>8-Mar-20</td>\n      <td>1.14.31</td>\n      <td>PR SB</td>\n    </tr>\n    <tr>\n      <th>28</th>\n      <td>Time Trials</td>\n      <td>Roseville (USA)</td>\n      <td>500m</td>\n      <td>29-Feb-20</td>\n      <td>41.40</td>\n      <td>NaN</td>\n    </tr>\n    <tr>\n      <th>29</th>\n      <td>Time Trials</td>\n      <td>Roseville (USA)</td>\n      <td>500m</td>\n      <td>15-Feb-20</td>\n      <td>40.90</td>\n      <td>NaN</td>\n    </tr>\n    <tr>\n      <th>30</th>\n      <td>Time Trials</td>\n      <td>Roseville (USA)</td>\n      <td>3000m</td>\n      <td>15-Feb-20</td>\n      <td>4.30.87</td>\n      <td>SB</td>\n    </tr>\n    <tr>\n      <th>31</th>\n      <td>MInnesota State Gopher Open Championships</td>\n      <td>Roseville (USA)</td>\n      <td>100m</td>\n      <td>1-Feb-20</td>\n      <td>11.30</td>\n      <td>SB</td>\n    </tr>\n    <tr>\n      <th>32</th>\n      <td>MInnesota State Gopher Open Championships</td>\n      <td>Roseville (USA)</td>\n      <td>500m</td>\n      <td>1-Feb-20</td>\n      <td>41.23</td>\n      <td>NaN</td>\n    </tr>\n    <tr>\n      <th>33</th>\n      <td>MInnesota State Gopher Open Championships</td>\n      <td>Roseville (USA)</td>\n      <td>1500m</td>\n      <td>1-Feb-20</td>\n      <td>2.03.01</td>\n      <td>NaN</td>\n    </tr>\n    <tr>\n      <th>34</th>\n      <td>MInnesota State Gopher Open Championships</td>\n      <td>Roseville (USA)</td>\n      <td>1000m</td>\n      <td>2-Feb-20</td>\n      <td>1.19.24</td>\n      <td>NaN</td>\n    </tr>\n    <tr>\n      <th>35</th>\n      <td>Time Trials</td>\n      <td>Roseville (USA)</td>\n      <td>1000m</td>\n      <td>25-Jan-20</td>\n      <td>1.22.05</td>\n      <td>NaN</td>\n    </tr>\n    <tr>\n      <th>36</th>\n      <td>USA - Long Track Championships 2021</td>\n      <td>Salt Lake City (USA)</td>\n      <td>500m</td>\n      <td>27-Dec-19</td>\n      <td>DNF</td>\n      <td>NaN</td>\n    </tr>\n    <tr>\n      <th>37</th>\n      <td>USA - Long Track Championships 2022</td>\n      <td>Salt Lake City (USA)</td>\n      <td>5000m</td>\n      <td>27-Dec-19</td>\n      <td>7.12.31</td>\n      <td>PR SB</td>\n    </tr>\n    <tr>\n      <th>38</th>\n      <td>USA - Long Track Championships 2023</td>\n      <td>Salt Lake City (USA)</td>\n      <td>1000m</td>\n      <td>28-Dec-19</td>\n      <td>1.14.82</td>\n      <td>PR SB</td>\n    </tr>\n    <tr>\n      <th>39</th>\n      <td>USA - Long Track Championships 2024</td>\n      <td>Salt Lake City (USA)</td>\n      <td>Mass Start (10 laps) Junior</td>\n      <td>28-Dec-19</td>\n      <td>18th</td>\n      <td>NaN</td>\n    </tr>\n    <tr>\n      <th>40</th>\n      <td>USA - Long Track Championships 2026</td>\n      <td>Salt Lake City (USA)</td>\n      <td>500m</td>\n      <td>27-Dec-19</td>\n      <td>38.74</td>\n      <td>PR SB</td>\n    </tr>\n    <tr>\n      <th>41</th>\n      <td>Time Trials</td>\n      <td>Roseville (USA)</td>\n      <td>500m</td>\n      <td>21-Dec-19</td>\n      <td>40.91</td>\n      <td>NaN</td>\n    </tr>\n    <tr>\n      <th>42</th>\n      <td>AmCup 3</td>\n      <td>Roseville (USA)</td>\n      <td>500m (2)</td>\n      <td>6-Dec-19</td>\n      <td>39.54</td>\n      <td>NaN</td>\n    </tr>\n    <tr>\n      <th>43</th>\n      <td>AmCup 4</td>\n      <td>Roseville (USA)</td>\n      <td>500m</td>\n      <td>6-Dec-19</td>\n      <td>39.47</td>\n      <td>NaN</td>\n    </tr>\n    <tr>\n      <th>44</th>\n      <td>AmCup 5</td>\n      <td>Roseville (USA)</td>\n      <td>3000m</td>\n      <td>6-Dec-19</td>\n      <td>4.35.90</td>\n      <td>SB</td>\n    </tr>\n    <tr>\n      <th>45</th>\n      <td>AmCup 6</td>\n      <td>Roseville (USA)</td>\n      <td>1500m</td>\n      <td>7-Dec-19</td>\n      <td>2.07.33</td>\n      <td>NaN</td>\n    </tr>\n    <tr>\n      <th>46</th>\n      <td>AmCup 7</td>\n      <td>Roseville (USA)</td>\n      <td>1000m</td>\n      <td>8-Dec-19</td>\n      <td>1.19.62</td>\n      <td>NaN</td>\n    </tr>\n    <tr>\n      <th>47</th>\n      <td>AmCup 8</td>\n      <td>Roseville (USA)</td>\n      <td>Mass Start (10 laps)</td>\n      <td>7-Dec-19</td>\n      <td>DNS</td>\n      <td>NaN</td>\n    </tr>\n    <tr>\n      <th>48</th>\n      <td>Time Trials</td>\n      <td>Roseville (USA)</td>\n      <td>500m</td>\n      <td>30-Nov-19</td>\n      <td>42.39</td>\n      <td>NaN</td>\n    </tr>\n    <tr>\n      <th>49</th>\n      <td>Weekend Time Trials</td>\n      <td>Roseville (USA)</td>\n      <td>1500m</td>\n      <td>16-Nov-19</td>\n      <td>2.07.34</td>\n      <td>NaN</td>\n    </tr>\n  </tbody>\n</table>\n</div>"
     },
     "metadata": {},
     "execution_count": 16
    }
   ],
   "source": [
    "def convert_time():\n",
    "    '''function to convert time to workable form.'''\n",
    "\n",
    "    df[\"Time\"]= df[\"Time\"].str.replace(\",\", \".\")\n",
    "    #df['Time']= df['Time'].str.replace(',', '.')\n",
    "    return df\n",
    "\n",
    "convert_time()\n",
    "\n",
    "\n",
    "#df['datetime'] = pd.to_datetime(df['Time'])"
   ]
  },
  {
   "cell_type": "code",
   "execution_count": 18,
   "metadata": {},
   "outputs": [
    {
     "output_type": "execute_result",
     "data": {
      "text/plain": [
       "                 Race Name   Location   Race      Date     Time PR_SR?\n",
       "16  Roseville Time Trials   Roseville  1500m  9-Jan-21  2.05.89    NaN"
      ],
      "text/html": "<div>\n<style scoped>\n    .dataframe tbody tr th:only-of-type {\n        vertical-align: middle;\n    }\n\n    .dataframe tbody tr th {\n        vertical-align: top;\n    }\n\n    .dataframe thead th {\n        text-align: right;\n    }\n</style>\n<table border=\"1\" class=\"dataframe\">\n  <thead>\n    <tr style=\"text-align: right;\">\n      <th></th>\n      <th>Race Name</th>\n      <th>Location</th>\n      <th>Race</th>\n      <th>Date</th>\n      <th>Time</th>\n      <th>PR_SR?</th>\n    </tr>\n  </thead>\n  <tbody>\n    <tr>\n      <th>16</th>\n      <td>Roseville Time Trials</td>\n      <td>Roseville</td>\n      <td>1500m</td>\n      <td>9-Jan-21</td>\n      <td>2.05.89</td>\n      <td>NaN</td>\n    </tr>\n  </tbody>\n</table>\n</div>"
     },
     "metadata": {},
     "execution_count": 18
    }
   ],
   "source": [
    "# vall new dataframe from output of function\n",
    "new_df = convert_time()\n",
    "new_df.sample()"
   ]
  },
  {
   "cell_type": "code",
   "execution_count": 19,
   "metadata": {},
   "outputs": [
    {
     "output_type": "error",
     "ename": "ParserError",
     "evalue": "day is out of range for month: 1.52.89",
     "traceback": [
      "\u001b[1;31m---------------------------------------------------------------------------\u001b[0m",
      "\u001b[1;31mValueError\u001b[0m                                Traceback (most recent call last)",
      "\u001b[1;32m~\\Anaconda3\\lib\\site-packages\\dateutil\\parser\\_parser.py\u001b[0m in \u001b[0;36mparse\u001b[1;34m(self, timestr, default, ignoretz, tzinfos, **kwargs)\u001b[0m\n\u001b[0;32m    654\u001b[0m         \u001b[1;32mtry\u001b[0m\u001b[1;33m:\u001b[0m\u001b[1;33m\u001b[0m\u001b[1;33m\u001b[0m\u001b[0m\n\u001b[1;32m--> 655\u001b[1;33m             \u001b[0mret\u001b[0m \u001b[1;33m=\u001b[0m \u001b[0mself\u001b[0m\u001b[1;33m.\u001b[0m\u001b[0m_build_naive\u001b[0m\u001b[1;33m(\u001b[0m\u001b[0mres\u001b[0m\u001b[1;33m,\u001b[0m \u001b[0mdefault\u001b[0m\u001b[1;33m)\u001b[0m\u001b[1;33m\u001b[0m\u001b[1;33m\u001b[0m\u001b[0m\n\u001b[0m\u001b[0;32m    656\u001b[0m         \u001b[1;32mexcept\u001b[0m \u001b[0mValueError\u001b[0m \u001b[1;32mas\u001b[0m \u001b[0me\u001b[0m\u001b[1;33m:\u001b[0m\u001b[1;33m\u001b[0m\u001b[1;33m\u001b[0m\u001b[0m\n",
      "\u001b[1;32m~\\Anaconda3\\lib\\site-packages\\dateutil\\parser\\_parser.py\u001b[0m in \u001b[0;36m_build_naive\u001b[1;34m(self, res, default)\u001b[0m\n\u001b[0;32m   1240\u001b[0m \u001b[1;33m\u001b[0m\u001b[0m\n\u001b[1;32m-> 1241\u001b[1;33m         \u001b[0mnaive\u001b[0m \u001b[1;33m=\u001b[0m \u001b[0mdefault\u001b[0m\u001b[1;33m.\u001b[0m\u001b[0mreplace\u001b[0m\u001b[1;33m(\u001b[0m\u001b[1;33m**\u001b[0m\u001b[0mrepl\u001b[0m\u001b[1;33m)\u001b[0m\u001b[1;33m\u001b[0m\u001b[1;33m\u001b[0m\u001b[0m\n\u001b[0m\u001b[0;32m   1242\u001b[0m \u001b[1;33m\u001b[0m\u001b[0m\n",
      "\u001b[1;31mValueError\u001b[0m: day is out of range for month",
      "\nThe above exception was the direct cause of the following exception:\n",
      "\u001b[1;31mParserError\u001b[0m                               Traceback (most recent call last)",
      "\u001b[1;32mpandas\\_libs\\tslib.pyx\u001b[0m in \u001b[0;36mpandas._libs.tslib.array_to_datetime\u001b[1;34m()\u001b[0m\n",
      "\u001b[1;32mpandas\\_libs\\tslibs\\parsing.pyx\u001b[0m in \u001b[0;36mpandas._libs.tslibs.parsing.parse_datetime_string\u001b[1;34m()\u001b[0m\n",
      "\u001b[1;32m~\\Anaconda3\\lib\\site-packages\\dateutil\\parser\\_parser.py\u001b[0m in \u001b[0;36mparse\u001b[1;34m(timestr, parserinfo, **kwargs)\u001b[0m\n\u001b[0;32m   1373\u001b[0m     \u001b[1;32melse\u001b[0m\u001b[1;33m:\u001b[0m\u001b[1;33m\u001b[0m\u001b[1;33m\u001b[0m\u001b[0m\n\u001b[1;32m-> 1374\u001b[1;33m         \u001b[1;32mreturn\u001b[0m \u001b[0mDEFAULTPARSER\u001b[0m\u001b[1;33m.\u001b[0m\u001b[0mparse\u001b[0m\u001b[1;33m(\u001b[0m\u001b[0mtimestr\u001b[0m\u001b[1;33m,\u001b[0m \u001b[1;33m**\u001b[0m\u001b[0mkwargs\u001b[0m\u001b[1;33m)\u001b[0m\u001b[1;33m\u001b[0m\u001b[1;33m\u001b[0m\u001b[0m\n\u001b[0m\u001b[0;32m   1375\u001b[0m \u001b[1;33m\u001b[0m\u001b[0m\n",
      "\u001b[1;32m~\\Anaconda3\\lib\\site-packages\\dateutil\\parser\\_parser.py\u001b[0m in \u001b[0;36mparse\u001b[1;34m(self, timestr, default, ignoretz, tzinfos, **kwargs)\u001b[0m\n\u001b[0;32m    656\u001b[0m         \u001b[1;32mexcept\u001b[0m \u001b[0mValueError\u001b[0m \u001b[1;32mas\u001b[0m \u001b[0me\u001b[0m\u001b[1;33m:\u001b[0m\u001b[1;33m\u001b[0m\u001b[1;33m\u001b[0m\u001b[0m\n\u001b[1;32m--> 657\u001b[1;33m             \u001b[0msix\u001b[0m\u001b[1;33m.\u001b[0m\u001b[0mraise_from\u001b[0m\u001b[1;33m(\u001b[0m\u001b[0mParserError\u001b[0m\u001b[1;33m(\u001b[0m\u001b[0me\u001b[0m\u001b[1;33m.\u001b[0m\u001b[0margs\u001b[0m\u001b[1;33m[\u001b[0m\u001b[1;36m0\u001b[0m\u001b[1;33m]\u001b[0m \u001b[1;33m+\u001b[0m \u001b[1;34m\": %s\"\u001b[0m\u001b[1;33m,\u001b[0m \u001b[0mtimestr\u001b[0m\u001b[1;33m)\u001b[0m\u001b[1;33m,\u001b[0m \u001b[0me\u001b[0m\u001b[1;33m)\u001b[0m\u001b[1;33m\u001b[0m\u001b[1;33m\u001b[0m\u001b[0m\n\u001b[0m\u001b[0;32m    658\u001b[0m \u001b[1;33m\u001b[0m\u001b[0m\n",
      "\u001b[1;32m~\\Anaconda3\\lib\\site-packages\\six.py\u001b[0m in \u001b[0;36mraise_from\u001b[1;34m(value, from_value)\u001b[0m\n",
      "\u001b[1;31mParserError\u001b[0m: day is out of range for month: 1.52.89",
      "\nDuring handling of the above exception, another exception occurred:\n",
      "\u001b[1;31mTypeError\u001b[0m                                 Traceback (most recent call last)",
      "\u001b[1;32mpandas\\_libs\\tslib.pyx\u001b[0m in \u001b[0;36mpandas._libs.tslib.array_to_datetime\u001b[1;34m()\u001b[0m\n",
      "\u001b[1;31mTypeError\u001b[0m: invalid string coercion to datetime",
      "\nDuring handling of the above exception, another exception occurred:\n",
      "\u001b[1;31mValueError\u001b[0m                                Traceback (most recent call last)",
      "\u001b[1;32m~\\Anaconda3\\lib\\site-packages\\dateutil\\parser\\_parser.py\u001b[0m in \u001b[0;36mparse\u001b[1;34m(self, timestr, default, ignoretz, tzinfos, **kwargs)\u001b[0m\n\u001b[0;32m    654\u001b[0m         \u001b[1;32mtry\u001b[0m\u001b[1;33m:\u001b[0m\u001b[1;33m\u001b[0m\u001b[1;33m\u001b[0m\u001b[0m\n\u001b[1;32m--> 655\u001b[1;33m             \u001b[0mret\u001b[0m \u001b[1;33m=\u001b[0m \u001b[0mself\u001b[0m\u001b[1;33m.\u001b[0m\u001b[0m_build_naive\u001b[0m\u001b[1;33m(\u001b[0m\u001b[0mres\u001b[0m\u001b[1;33m,\u001b[0m \u001b[0mdefault\u001b[0m\u001b[1;33m)\u001b[0m\u001b[1;33m\u001b[0m\u001b[1;33m\u001b[0m\u001b[0m\n\u001b[0m\u001b[0;32m    656\u001b[0m         \u001b[1;32mexcept\u001b[0m \u001b[0mValueError\u001b[0m \u001b[1;32mas\u001b[0m \u001b[0me\u001b[0m\u001b[1;33m:\u001b[0m\u001b[1;33m\u001b[0m\u001b[1;33m\u001b[0m\u001b[0m\n",
      "\u001b[1;32m~\\Anaconda3\\lib\\site-packages\\dateutil\\parser\\_parser.py\u001b[0m in \u001b[0;36m_build_naive\u001b[1;34m(self, res, default)\u001b[0m\n\u001b[0;32m   1240\u001b[0m \u001b[1;33m\u001b[0m\u001b[0m\n\u001b[1;32m-> 1241\u001b[1;33m         \u001b[0mnaive\u001b[0m \u001b[1;33m=\u001b[0m \u001b[0mdefault\u001b[0m\u001b[1;33m.\u001b[0m\u001b[0mreplace\u001b[0m\u001b[1;33m(\u001b[0m\u001b[1;33m**\u001b[0m\u001b[0mrepl\u001b[0m\u001b[1;33m)\u001b[0m\u001b[1;33m\u001b[0m\u001b[1;33m\u001b[0m\u001b[0m\n\u001b[0m\u001b[0;32m   1242\u001b[0m \u001b[1;33m\u001b[0m\u001b[0m\n",
      "\u001b[1;31mValueError\u001b[0m: day is out of range for month",
      "\nThe above exception was the direct cause of the following exception:\n",
      "\u001b[1;31mParserError\u001b[0m                               Traceback (most recent call last)",
      "\u001b[1;32m<ipython-input-19-6a6fccc5937d>\u001b[0m in \u001b[0;36m<module>\u001b[1;34m\u001b[0m\n\u001b[0;32m      1\u001b[0m \u001b[1;31m# sample\u001b[0m\u001b[1;33m\u001b[0m\u001b[1;33m\u001b[0m\u001b[1;33m\u001b[0m\u001b[0m\n\u001b[0;32m      2\u001b[0m \u001b[0mnew_df\u001b[0m\u001b[1;33m.\u001b[0m\u001b[0mdtypes\u001b[0m\u001b[1;33m\u001b[0m\u001b[1;33m\u001b[0m\u001b[0m\n\u001b[1;32m----> 3\u001b[1;33m \u001b[0mnew_df\u001b[0m\u001b[1;33m[\u001b[0m\u001b[1;34m'datetime'\u001b[0m\u001b[1;33m]\u001b[0m \u001b[1;33m=\u001b[0m \u001b[0mpd\u001b[0m\u001b[1;33m.\u001b[0m\u001b[0mto_datetime\u001b[0m\u001b[1;33m(\u001b[0m\u001b[0mnew_df\u001b[0m\u001b[1;33m[\u001b[0m\u001b[1;34m'Time'\u001b[0m\u001b[1;33m]\u001b[0m\u001b[1;33m)\u001b[0m\u001b[1;33m\u001b[0m\u001b[1;33m\u001b[0m\u001b[0m\n\u001b[0m",
      "\u001b[1;32m~\\Anaconda3\\lib\\site-packages\\pandas\\core\\tools\\datetimes.py\u001b[0m in \u001b[0;36mto_datetime\u001b[1;34m(arg, errors, dayfirst, yearfirst, utc, format, exact, unit, infer_datetime_format, origin, cache)\u001b[0m\n\u001b[0;32m    803\u001b[0m             \u001b[0mresult\u001b[0m \u001b[1;33m=\u001b[0m \u001b[0marg\u001b[0m\u001b[1;33m.\u001b[0m\u001b[0mmap\u001b[0m\u001b[1;33m(\u001b[0m\u001b[0mcache_array\u001b[0m\u001b[1;33m)\u001b[0m\u001b[1;33m\u001b[0m\u001b[1;33m\u001b[0m\u001b[0m\n\u001b[0;32m    804\u001b[0m         \u001b[1;32melse\u001b[0m\u001b[1;33m:\u001b[0m\u001b[1;33m\u001b[0m\u001b[1;33m\u001b[0m\u001b[0m\n\u001b[1;32m--> 805\u001b[1;33m             \u001b[0mvalues\u001b[0m \u001b[1;33m=\u001b[0m \u001b[0mconvert_listlike\u001b[0m\u001b[1;33m(\u001b[0m\u001b[0marg\u001b[0m\u001b[1;33m.\u001b[0m\u001b[0m_values\u001b[0m\u001b[1;33m,\u001b[0m \u001b[0mformat\u001b[0m\u001b[1;33m)\u001b[0m\u001b[1;33m\u001b[0m\u001b[1;33m\u001b[0m\u001b[0m\n\u001b[0m\u001b[0;32m    806\u001b[0m             \u001b[0mresult\u001b[0m \u001b[1;33m=\u001b[0m \u001b[0marg\u001b[0m\u001b[1;33m.\u001b[0m\u001b[0m_constructor\u001b[0m\u001b[1;33m(\u001b[0m\u001b[0mvalues\u001b[0m\u001b[1;33m,\u001b[0m \u001b[0mindex\u001b[0m\u001b[1;33m=\u001b[0m\u001b[0marg\u001b[0m\u001b[1;33m.\u001b[0m\u001b[0mindex\u001b[0m\u001b[1;33m,\u001b[0m \u001b[0mname\u001b[0m\u001b[1;33m=\u001b[0m\u001b[0marg\u001b[0m\u001b[1;33m.\u001b[0m\u001b[0mname\u001b[0m\u001b[1;33m)\u001b[0m\u001b[1;33m\u001b[0m\u001b[1;33m\u001b[0m\u001b[0m\n\u001b[0;32m    807\u001b[0m     \u001b[1;32melif\u001b[0m \u001b[0misinstance\u001b[0m\u001b[1;33m(\u001b[0m\u001b[0marg\u001b[0m\u001b[1;33m,\u001b[0m \u001b[1;33m(\u001b[0m\u001b[0mABCDataFrame\u001b[0m\u001b[1;33m,\u001b[0m \u001b[0mabc\u001b[0m\u001b[1;33m.\u001b[0m\u001b[0mMutableMapping\u001b[0m\u001b[1;33m)\u001b[0m\u001b[1;33m)\u001b[0m\u001b[1;33m:\u001b[0m\u001b[1;33m\u001b[0m\u001b[1;33m\u001b[0m\u001b[0m\n",
      "\u001b[1;32m~\\Anaconda3\\lib\\site-packages\\pandas\\core\\tools\\datetimes.py\u001b[0m in \u001b[0;36m_convert_listlike_datetimes\u001b[1;34m(arg, format, name, tz, unit, errors, infer_datetime_format, dayfirst, yearfirst, exact)\u001b[0m\n\u001b[0;32m    463\u001b[0m         \u001b[1;32massert\u001b[0m \u001b[0mformat\u001b[0m \u001b[1;32mis\u001b[0m \u001b[1;32mNone\u001b[0m \u001b[1;32mor\u001b[0m \u001b[0minfer_datetime_format\u001b[0m\u001b[1;33m\u001b[0m\u001b[1;33m\u001b[0m\u001b[0m\n\u001b[0;32m    464\u001b[0m         \u001b[0mutc\u001b[0m \u001b[1;33m=\u001b[0m \u001b[0mtz\u001b[0m \u001b[1;33m==\u001b[0m \u001b[1;34m\"utc\"\u001b[0m\u001b[1;33m\u001b[0m\u001b[1;33m\u001b[0m\u001b[0m\n\u001b[1;32m--> 465\u001b[1;33m         result, tz_parsed = objects_to_datetime64ns(\n\u001b[0m\u001b[0;32m    466\u001b[0m             \u001b[0marg\u001b[0m\u001b[1;33m,\u001b[0m\u001b[1;33m\u001b[0m\u001b[1;33m\u001b[0m\u001b[0m\n\u001b[0;32m    467\u001b[0m             \u001b[0mdayfirst\u001b[0m\u001b[1;33m=\u001b[0m\u001b[0mdayfirst\u001b[0m\u001b[1;33m,\u001b[0m\u001b[1;33m\u001b[0m\u001b[1;33m\u001b[0m\u001b[0m\n",
      "\u001b[1;32m~\\Anaconda3\\lib\\site-packages\\pandas\\core\\arrays\\datetimes.py\u001b[0m in \u001b[0;36mobjects_to_datetime64ns\u001b[1;34m(data, dayfirst, yearfirst, utc, errors, require_iso8601, allow_object)\u001b[0m\n\u001b[0;32m   2088\u001b[0m             \u001b[1;32mreturn\u001b[0m \u001b[0mvalues\u001b[0m\u001b[1;33m.\u001b[0m\u001b[0mview\u001b[0m\u001b[1;33m(\u001b[0m\u001b[1;34m\"i8\"\u001b[0m\u001b[1;33m)\u001b[0m\u001b[1;33m,\u001b[0m \u001b[0mtz_parsed\u001b[0m\u001b[1;33m\u001b[0m\u001b[1;33m\u001b[0m\u001b[0m\n\u001b[0;32m   2089\u001b[0m         \u001b[1;32mexcept\u001b[0m \u001b[1;33m(\u001b[0m\u001b[0mValueError\u001b[0m\u001b[1;33m,\u001b[0m \u001b[0mTypeError\u001b[0m\u001b[1;33m)\u001b[0m\u001b[1;33m:\u001b[0m\u001b[1;33m\u001b[0m\u001b[1;33m\u001b[0m\u001b[0m\n\u001b[1;32m-> 2090\u001b[1;33m             \u001b[1;32mraise\u001b[0m \u001b[0me\u001b[0m\u001b[1;33m\u001b[0m\u001b[1;33m\u001b[0m\u001b[0m\n\u001b[0m\u001b[0;32m   2091\u001b[0m \u001b[1;33m\u001b[0m\u001b[0m\n\u001b[0;32m   2092\u001b[0m     \u001b[1;32mif\u001b[0m \u001b[0mtz_parsed\u001b[0m \u001b[1;32mis\u001b[0m \u001b[1;32mnot\u001b[0m \u001b[1;32mNone\u001b[0m\u001b[1;33m:\u001b[0m\u001b[1;33m\u001b[0m\u001b[1;33m\u001b[0m\u001b[0m\n",
      "\u001b[1;32m~\\Anaconda3\\lib\\site-packages\\pandas\\core\\arrays\\datetimes.py\u001b[0m in \u001b[0;36mobjects_to_datetime64ns\u001b[1;34m(data, dayfirst, yearfirst, utc, errors, require_iso8601, allow_object)\u001b[0m\n\u001b[0;32m   2073\u001b[0m \u001b[1;33m\u001b[0m\u001b[0m\n\u001b[0;32m   2074\u001b[0m     \u001b[1;32mtry\u001b[0m\u001b[1;33m:\u001b[0m\u001b[1;33m\u001b[0m\u001b[1;33m\u001b[0m\u001b[0m\n\u001b[1;32m-> 2075\u001b[1;33m         result, tz_parsed = tslib.array_to_datetime(\n\u001b[0m\u001b[0;32m   2076\u001b[0m             \u001b[0mdata\u001b[0m\u001b[1;33m,\u001b[0m\u001b[1;33m\u001b[0m\u001b[1;33m\u001b[0m\u001b[0m\n\u001b[0;32m   2077\u001b[0m             \u001b[0merrors\u001b[0m\u001b[1;33m=\u001b[0m\u001b[0merrors\u001b[0m\u001b[1;33m,\u001b[0m\u001b[1;33m\u001b[0m\u001b[1;33m\u001b[0m\u001b[0m\n",
      "\u001b[1;32mpandas\\_libs\\tslib.pyx\u001b[0m in \u001b[0;36mpandas._libs.tslib.array_to_datetime\u001b[1;34m()\u001b[0m\n",
      "\u001b[1;32mpandas\\_libs\\tslib.pyx\u001b[0m in \u001b[0;36mpandas._libs.tslib.array_to_datetime\u001b[1;34m()\u001b[0m\n",
      "\u001b[1;32mpandas\\_libs\\tslib.pyx\u001b[0m in \u001b[0;36mpandas._libs.tslib.array_to_datetime_object\u001b[1;34m()\u001b[0m\n",
      "\u001b[1;32mpandas\\_libs\\tslib.pyx\u001b[0m in \u001b[0;36mpandas._libs.tslib.array_to_datetime_object\u001b[1;34m()\u001b[0m\n",
      "\u001b[1;32mpandas\\_libs\\tslibs\\parsing.pyx\u001b[0m in \u001b[0;36mpandas._libs.tslibs.parsing.parse_datetime_string\u001b[1;34m()\u001b[0m\n",
      "\u001b[1;32m~\\Anaconda3\\lib\\site-packages\\dateutil\\parser\\_parser.py\u001b[0m in \u001b[0;36mparse\u001b[1;34m(timestr, parserinfo, **kwargs)\u001b[0m\n\u001b[0;32m   1372\u001b[0m         \u001b[1;32mreturn\u001b[0m \u001b[0mparser\u001b[0m\u001b[1;33m(\u001b[0m\u001b[0mparserinfo\u001b[0m\u001b[1;33m)\u001b[0m\u001b[1;33m.\u001b[0m\u001b[0mparse\u001b[0m\u001b[1;33m(\u001b[0m\u001b[0mtimestr\u001b[0m\u001b[1;33m,\u001b[0m \u001b[1;33m**\u001b[0m\u001b[0mkwargs\u001b[0m\u001b[1;33m)\u001b[0m\u001b[1;33m\u001b[0m\u001b[1;33m\u001b[0m\u001b[0m\n\u001b[0;32m   1373\u001b[0m     \u001b[1;32melse\u001b[0m\u001b[1;33m:\u001b[0m\u001b[1;33m\u001b[0m\u001b[1;33m\u001b[0m\u001b[0m\n\u001b[1;32m-> 1374\u001b[1;33m         \u001b[1;32mreturn\u001b[0m \u001b[0mDEFAULTPARSER\u001b[0m\u001b[1;33m.\u001b[0m\u001b[0mparse\u001b[0m\u001b[1;33m(\u001b[0m\u001b[0mtimestr\u001b[0m\u001b[1;33m,\u001b[0m \u001b[1;33m**\u001b[0m\u001b[0mkwargs\u001b[0m\u001b[1;33m)\u001b[0m\u001b[1;33m\u001b[0m\u001b[1;33m\u001b[0m\u001b[0m\n\u001b[0m\u001b[0;32m   1375\u001b[0m \u001b[1;33m\u001b[0m\u001b[0m\n\u001b[0;32m   1376\u001b[0m \u001b[1;33m\u001b[0m\u001b[0m\n",
      "\u001b[1;32m~\\Anaconda3\\lib\\site-packages\\dateutil\\parser\\_parser.py\u001b[0m in \u001b[0;36mparse\u001b[1;34m(self, timestr, default, ignoretz, tzinfos, **kwargs)\u001b[0m\n\u001b[0;32m    655\u001b[0m             \u001b[0mret\u001b[0m \u001b[1;33m=\u001b[0m \u001b[0mself\u001b[0m\u001b[1;33m.\u001b[0m\u001b[0m_build_naive\u001b[0m\u001b[1;33m(\u001b[0m\u001b[0mres\u001b[0m\u001b[1;33m,\u001b[0m \u001b[0mdefault\u001b[0m\u001b[1;33m)\u001b[0m\u001b[1;33m\u001b[0m\u001b[1;33m\u001b[0m\u001b[0m\n\u001b[0;32m    656\u001b[0m         \u001b[1;32mexcept\u001b[0m \u001b[0mValueError\u001b[0m \u001b[1;32mas\u001b[0m \u001b[0me\u001b[0m\u001b[1;33m:\u001b[0m\u001b[1;33m\u001b[0m\u001b[1;33m\u001b[0m\u001b[0m\n\u001b[1;32m--> 657\u001b[1;33m             \u001b[0msix\u001b[0m\u001b[1;33m.\u001b[0m\u001b[0mraise_from\u001b[0m\u001b[1;33m(\u001b[0m\u001b[0mParserError\u001b[0m\u001b[1;33m(\u001b[0m\u001b[0me\u001b[0m\u001b[1;33m.\u001b[0m\u001b[0margs\u001b[0m\u001b[1;33m[\u001b[0m\u001b[1;36m0\u001b[0m\u001b[1;33m]\u001b[0m \u001b[1;33m+\u001b[0m \u001b[1;34m\": %s\"\u001b[0m\u001b[1;33m,\u001b[0m \u001b[0mtimestr\u001b[0m\u001b[1;33m)\u001b[0m\u001b[1;33m,\u001b[0m \u001b[0me\u001b[0m\u001b[1;33m)\u001b[0m\u001b[1;33m\u001b[0m\u001b[1;33m\u001b[0m\u001b[0m\n\u001b[0m\u001b[0;32m    658\u001b[0m \u001b[1;33m\u001b[0m\u001b[0m\n\u001b[0;32m    659\u001b[0m         \u001b[1;32mif\u001b[0m \u001b[1;32mnot\u001b[0m \u001b[0mignoretz\u001b[0m\u001b[1;33m:\u001b[0m\u001b[1;33m\u001b[0m\u001b[1;33m\u001b[0m\u001b[0m\n",
      "\u001b[1;32m~\\Anaconda3\\lib\\site-packages\\six.py\u001b[0m in \u001b[0;36mraise_from\u001b[1;34m(value, from_value)\u001b[0m\n",
      "\u001b[1;31mParserError\u001b[0m: day is out of range for month: 1.52.89"
     ]
    }
   ],
   "source": [
    "# sample\n",
    "new_df.dtypes\n",
    "new_df['datetime'] = pd.to_datetime(new_df['Time'])"
   ]
  },
  {
   "cell_type": "code",
   "execution_count": null,
   "metadata": {},
   "outputs": [],
   "source": [
    "meters_5000 = new_df.query(\"(Race)==\")"
   ]
  },
  {
   "cell_type": "code",
   "execution_count": null,
   "metadata": {},
   "outputs": [],
   "source": [
    "def plot_100_free():\n",
    "    '''function to make plot'''\n",
    "    fig = px.bar(free_100, x='Meet', y=\"datetime\",color=\"Swim Date\",title=\"100 Freestyle\",\n",
    "    hover_data=['Time'])\n",
    "    fig.update_layout(yaxis_range=['2021-05-02 1:20:00' , '2021-05-02 1:36:00'], width=800, height=600)\n",
    "    fig.show()\n",
    "    py.plot(fig, filename = '100 FR', auto_open=True)\n",
    "    return\n",
    "plot_100_free()"
   ]
  }
 ]
}