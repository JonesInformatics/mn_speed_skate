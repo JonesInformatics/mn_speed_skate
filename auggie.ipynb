{
 "metadata": {
  "language_info": {
   "codemirror_mode": {
    "name": "ipython",
    "version": 3
   },
   "file_extension": ".py",
   "mimetype": "text/x-python",
   "name": "python",
   "nbconvert_exporter": "python",
   "pygments_lexer": "ipython3",
   "version": "3.8.3"
  },
  "orig_nbformat": 2,
  "kernelspec": {
   "name": "python383jvsc74a57bd02f055b12a15bc2dfb7529c0c6187f0771e54f5028f8503e224fe70e7f68ca49a",
   "display_name": "Python 3.8.3 64-bit ('base': conda)"
  }
 },
 "nbformat": 4,
 "nbformat_minor": 2,
 "cells": [
  {
   "cell_type": "code",
   "execution_count": null,
   "metadata": {},
   "outputs": [],
   "source": [
    "import pandas as pd\n",
    "import matplotlib.pyplot as plt \n",
    "import datetime as datetime\n",
    "import plotly\n",
    "import plotly.express as px\n"
   ]
  },
  {
   "cell_type": "code",
   "execution_count": null,
   "metadata": {},
   "outputs": [],
   "source": [
    "times_auggie = pd.read_csv(\"sample_auggie.csv\")\n",
    "times_auggie.sample()"
   ]
  },
  {
   "cell_type": "code",
   "execution_count": 24,
   "metadata": {},
   "outputs": [
    {
     "output_type": "stream",
     "name": "stderr",
     "text": [
      "<ipython-input-24-9ae09bb333df>:7: FutureWarning:\n\nThe default value of regex will change from True to False in a future version. In addition, single character regular expressions will*not* be treated as literal strings when regex=True.\n\n"
     ]
    },
    {
     "output_type": "execute_result",
     "data": {
      "text/plain": [
       "                                 Race Name               Location  \\\n",
       "18                  Roseville Time Trials               Roseville   \n",
       "5   USA - Open National Championships 2027  Salt Lake City (USA)    \n",
       "8              10,000 Lakes Championships               Roseville   \n",
       "44                                 AmCup 5       Roseville (USA)    \n",
       "35                            Time Trials        Roseville (USA)    \n",
       "\n",
       "                     Race       Date     Time PR_SR?  \n",
       "18                  1500m  19-Dec-20      DNF    NaN  \n",
       "5   Team Pursuit (8 laps)   7-Mar-21  4:33.14    NaN  \n",
       "8                   1500m  21-Feb-21  2:03.19    NaN  \n",
       "44                  3000m   6-Dec-19  4:35.90     SB  \n",
       "35                  1000m  25-Jan-20  1:22.05    NaN  "
      ],
      "text/html": "<div>\n<style scoped>\n    .dataframe tbody tr th:only-of-type {\n        vertical-align: middle;\n    }\n\n    .dataframe tbody tr th {\n        vertical-align: top;\n    }\n\n    .dataframe thead th {\n        text-align: right;\n    }\n</style>\n<table border=\"1\" class=\"dataframe\">\n  <thead>\n    <tr style=\"text-align: right;\">\n      <th></th>\n      <th>Race Name</th>\n      <th>Location</th>\n      <th>Race</th>\n      <th>Date</th>\n      <th>Time</th>\n      <th>PR_SR?</th>\n    </tr>\n  </thead>\n  <tbody>\n    <tr>\n      <th>18</th>\n      <td>Roseville Time Trials</td>\n      <td>Roseville</td>\n      <td>1500m</td>\n      <td>19-Dec-20</td>\n      <td>DNF</td>\n      <td>NaN</td>\n    </tr>\n    <tr>\n      <th>5</th>\n      <td>USA - Open National Championships 2027</td>\n      <td>Salt Lake City (USA)</td>\n      <td>Team Pursuit (8 laps)</td>\n      <td>7-Mar-21</td>\n      <td>4:33.14</td>\n      <td>NaN</td>\n    </tr>\n    <tr>\n      <th>8</th>\n      <td>10,000 Lakes Championships</td>\n      <td>Roseville</td>\n      <td>1500m</td>\n      <td>21-Feb-21</td>\n      <td>2:03.19</td>\n      <td>NaN</td>\n    </tr>\n    <tr>\n      <th>44</th>\n      <td>AmCup 5</td>\n      <td>Roseville (USA)</td>\n      <td>3000m</td>\n      <td>6-Dec-19</td>\n      <td>4:35.90</td>\n      <td>SB</td>\n    </tr>\n    <tr>\n      <th>35</th>\n      <td>Time Trials</td>\n      <td>Roseville (USA)</td>\n      <td>1000m</td>\n      <td>25-Jan-20</td>\n      <td>1:22.05</td>\n      <td>NaN</td>\n    </tr>\n  </tbody>\n</table>\n</div>"
     },
     "metadata": {},
     "execution_count": 24
    }
   ],
   "source": [
    "# load Auggie's race results\n",
    "df = pd.read_csv(\"auggie.csv\")\n",
    "df.sample()\n",
    "\n",
    "\n",
    "\n",
    "df[\"Time\"]= df[\"Time\"].str.replace(\".\", \":\")\n",
    "df[\"Time\"]= df[\"Time\"].str.replace(\",\", \".\")\n",
    "df.sample(5)   \n"
   ]
  },
  {
   "cell_type": "code",
   "execution_count": 36,
   "metadata": {},
   "outputs": [
    {
     "output_type": "execute_result",
     "data": {
      "text/plain": [
       "Race Name            object\n",
       "Location             object\n",
       "Race                 object\n",
       "Date                 object\n",
       "Time                 object\n",
       "PR_SR?               object\n",
       "datetime     datetime64[ns]\n",
       "dtype: object"
      ]
     },
     "metadata": {},
     "execution_count": 36
    }
   ],
   "source": [
    "df['datetime'] = pd.to_datetime(df['Time'], errors='coerce')\n",
    "    #x['swim_date_dt'] = pd.to_datetime(x['Swim Date'])\n",
    "    #x = x.sort_values(by = \"swim_date_dt\")\n",
    "df.sample()\n",
    "df.dtypes"
   ]
  },
  {
   "cell_type": "code",
   "execution_count": 38,
   "metadata": {},
   "outputs": [
    {
     "output_type": "display_data",
     "data": {
      "application/vnd.plotly.v1+json": {
       "config": {
        "plotlyServerURL": "https://plotly.com"
       },
       "data": [
        {
         "alignmentgroup": "True",
         "customdata": [
          [
           "1:52.89"
          ]
         ],
         "hovertemplate": "Date=5-Mar-21<br>Race Name=%{x}<br>datetime=%{y}<br>Time=%{customdata[0]}<extra></extra>",
         "legendgroup": "5-Mar-21",
         "marker": {
          "color": "#636efa"
         },
         "name": "5-Mar-21",
         "offsetgroup": "5-Mar-21",
         "orientation": "v",
         "showlegend": true,
         "textposition": "auto",
         "type": "bar",
         "x": [
          "USA - Open National Championships 2022"
         ],
         "xaxis": "x",
         "y": [
          "2021-06-10T01:52:53"
         ],
         "yaxis": "y"
        },
        {
         "alignmentgroup": "True",
         "customdata": [
          [
           "2:03.19"
          ]
         ],
         "hovertemplate": "Date=21-Feb-21<br>Race Name=%{x}<br>datetime=%{y}<br>Time=%{customdata[0]}<extra></extra>",
         "legendgroup": "21-Feb-21",
         "marker": {
          "color": "#EF553B"
         },
         "name": "21-Feb-21",
         "offsetgroup": "21-Feb-21",
         "orientation": "v",
         "showlegend": true,
         "textposition": "auto",
         "type": "bar",
         "x": [
          "10,000 Lakes Championships "
         ],
         "xaxis": "x",
         "y": [
          "2021-06-10T02:03:11"
         ],
         "yaxis": "y"
        },
        {
         "alignmentgroup": "True",
         "customdata": [
          [
           "1:54.22"
          ]
         ],
         "hovertemplate": "Date=23-Jan-21<br>Race Name=%{x}<br>datetime=%{y}<br>Time=%{customdata[0]}<extra></extra>",
         "legendgroup": "23-Jan-21",
         "marker": {
          "color": "#00cc96"
         },
         "name": "23-Jan-21",
         "offsetgroup": "23-Jan-21",
         "orientation": "v",
         "showlegend": true,
         "textposition": "auto",
         "type": "bar",
         "x": [
          "10,000 Lakes Championships "
         ],
         "xaxis": "x",
         "y": [
          "2021-06-10T01:54:13"
         ],
         "yaxis": "y"
        },
        {
         "alignmentgroup": "True",
         "customdata": [
          [
           "2:05.89"
          ]
         ],
         "hovertemplate": "Date=9-Jan-21<br>Race Name=%{x}<br>datetime=%{y}<br>Time=%{customdata[0]}<extra></extra>",
         "legendgroup": "9-Jan-21",
         "marker": {
          "color": "#ab63fa"
         },
         "name": "9-Jan-21",
         "offsetgroup": "9-Jan-21",
         "orientation": "v",
         "showlegend": true,
         "textposition": "auto",
         "type": "bar",
         "x": [
          "Roseville Time Trials "
         ],
         "xaxis": "x",
         "y": [
          "2021-06-10T02:05:53"
         ],
         "yaxis": "y"
        },
        {
         "alignmentgroup": "True",
         "customdata": [
          [
           "DNF"
          ]
         ],
         "hovertemplate": "Date=19-Dec-20<br>Race Name=%{x}<br>datetime=%{y}<br>Time=%{customdata[0]}<extra></extra>",
         "legendgroup": "19-Dec-20",
         "marker": {
          "color": "#FFA15A"
         },
         "name": "19-Dec-20",
         "offsetgroup": "19-Dec-20",
         "orientation": "v",
         "showlegend": true,
         "textposition": "auto",
         "type": "bar",
         "x": [
          "Roseville Time Trials "
         ],
         "xaxis": "x",
         "y": [
          null
         ],
         "yaxis": "y"
        },
        {
         "alignmentgroup": "True",
         "customdata": [
          [
           "1:56.01"
          ]
         ],
         "hovertemplate": "Date=12-Dec-20<br>Race Name=%{x}<br>datetime=%{y}<br>Time=%{customdata[0]}<extra></extra>",
         "legendgroup": "12-Dec-20",
         "marker": {
          "color": "#19d3f3"
         },
         "name": "12-Dec-20",
         "offsetgroup": "12-Dec-20",
         "orientation": "v",
         "showlegend": true,
         "textposition": "auto",
         "type": "bar",
         "x": [
          "Roseville Time Trials "
         ],
         "xaxis": "x",
         "y": [
          "2021-06-10T01:56:00"
         ],
         "yaxis": "y"
        },
        {
         "alignmentgroup": "True",
         "customdata": [
          [
           "1:55.83"
          ]
         ],
         "hovertemplate": "Date=7-Mar-20<br>Race Name=%{x}<br>datetime=%{y}<br>Time=%{customdata[0]}<extra></extra>",
         "legendgroup": "7-Mar-20",
         "marker": {
          "color": "#FF6692"
         },
         "name": "7-Mar-20",
         "offsetgroup": "7-Mar-20",
         "orientation": "v",
         "showlegend": true,
         "textposition": "auto",
         "type": "bar",
         "x": [
          "AmCup Final / Open Masters Championships "
         ],
         "xaxis": "x",
         "y": [
          "2021-06-10T01:55:49"
         ],
         "yaxis": "y"
        },
        {
         "alignmentgroup": "True",
         "customdata": [
          [
           "2:03.01"
          ]
         ],
         "hovertemplate": "Date=1-Feb-20<br>Race Name=%{x}<br>datetime=%{y}<br>Time=%{customdata[0]}<extra></extra>",
         "legendgroup": "1-Feb-20",
         "marker": {
          "color": "#B6E880"
         },
         "name": "1-Feb-20",
         "offsetgroup": "1-Feb-20",
         "orientation": "v",
         "showlegend": true,
         "textposition": "auto",
         "type": "bar",
         "x": [
          "MInnesota State Gopher Open Championships "
         ],
         "xaxis": "x",
         "y": [
          "2021-06-10T02:03:00"
         ],
         "yaxis": "y"
        },
        {
         "alignmentgroup": "True",
         "customdata": [
          [
           "2:07.33"
          ]
         ],
         "hovertemplate": "Date=7-Dec-19<br>Race Name=%{x}<br>datetime=%{y}<br>Time=%{customdata[0]}<extra></extra>",
         "legendgroup": "7-Dec-19",
         "marker": {
          "color": "#FF97FF"
         },
         "name": "7-Dec-19",
         "offsetgroup": "7-Dec-19",
         "orientation": "v",
         "showlegend": true,
         "textposition": "auto",
         "type": "bar",
         "x": [
          "AmCup 6"
         ],
         "xaxis": "x",
         "y": [
          "2021-06-10T02:07:19"
         ],
         "yaxis": "y"
        },
        {
         "alignmentgroup": "True",
         "customdata": [
          [
           "2:07.34"
          ]
         ],
         "hovertemplate": "Date=16-Nov-19<br>Race Name=%{x}<br>datetime=%{y}<br>Time=%{customdata[0]}<extra></extra>",
         "legendgroup": "16-Nov-19",
         "marker": {
          "color": "#FECB52"
         },
         "name": "16-Nov-19",
         "offsetgroup": "16-Nov-19",
         "orientation": "v",
         "showlegend": true,
         "textposition": "auto",
         "type": "bar",
         "x": [
          "Weekend Time Trials "
         ],
         "xaxis": "x",
         "y": [
          "2021-06-10T02:07:20"
         ],
         "yaxis": "y"
        }
       ],
       "layout": {
        "barmode": "relative",
        "height": 600,
        "legend": {
         "title": {
          "text": "Date"
         },
         "tracegroupgap": 0
        },
        "template": {
         "data": {
          "bar": [
           {
            "error_x": {
             "color": "#2a3f5f"
            },
            "error_y": {
             "color": "#2a3f5f"
            },
            "marker": {
             "line": {
              "color": "#E5ECF6",
              "width": 0.5
             }
            },
            "type": "bar"
           }
          ],
          "barpolar": [
           {
            "marker": {
             "line": {
              "color": "#E5ECF6",
              "width": 0.5
             }
            },
            "type": "barpolar"
           }
          ],
          "carpet": [
           {
            "aaxis": {
             "endlinecolor": "#2a3f5f",
             "gridcolor": "white",
             "linecolor": "white",
             "minorgridcolor": "white",
             "startlinecolor": "#2a3f5f"
            },
            "baxis": {
             "endlinecolor": "#2a3f5f",
             "gridcolor": "white",
             "linecolor": "white",
             "minorgridcolor": "white",
             "startlinecolor": "#2a3f5f"
            },
            "type": "carpet"
           }
          ],
          "choropleth": [
           {
            "colorbar": {
             "outlinewidth": 0,
             "ticks": ""
            },
            "type": "choropleth"
           }
          ],
          "contour": [
           {
            "colorbar": {
             "outlinewidth": 0,
             "ticks": ""
            },
            "colorscale": [
             [
              0,
              "#0d0887"
             ],
             [
              0.1111111111111111,
              "#46039f"
             ],
             [
              0.2222222222222222,
              "#7201a8"
             ],
             [
              0.3333333333333333,
              "#9c179e"
             ],
             [
              0.4444444444444444,
              "#bd3786"
             ],
             [
              0.5555555555555556,
              "#d8576b"
             ],
             [
              0.6666666666666666,
              "#ed7953"
             ],
             [
              0.7777777777777778,
              "#fb9f3a"
             ],
             [
              0.8888888888888888,
              "#fdca26"
             ],
             [
              1,
              "#f0f921"
             ]
            ],
            "type": "contour"
           }
          ],
          "contourcarpet": [
           {
            "colorbar": {
             "outlinewidth": 0,
             "ticks": ""
            },
            "type": "contourcarpet"
           }
          ],
          "heatmap": [
           {
            "colorbar": {
             "outlinewidth": 0,
             "ticks": ""
            },
            "colorscale": [
             [
              0,
              "#0d0887"
             ],
             [
              0.1111111111111111,
              "#46039f"
             ],
             [
              0.2222222222222222,
              "#7201a8"
             ],
             [
              0.3333333333333333,
              "#9c179e"
             ],
             [
              0.4444444444444444,
              "#bd3786"
             ],
             [
              0.5555555555555556,
              "#d8576b"
             ],
             [
              0.6666666666666666,
              "#ed7953"
             ],
             [
              0.7777777777777778,
              "#fb9f3a"
             ],
             [
              0.8888888888888888,
              "#fdca26"
             ],
             [
              1,
              "#f0f921"
             ]
            ],
            "type": "heatmap"
           }
          ],
          "heatmapgl": [
           {
            "colorbar": {
             "outlinewidth": 0,
             "ticks": ""
            },
            "colorscale": [
             [
              0,
              "#0d0887"
             ],
             [
              0.1111111111111111,
              "#46039f"
             ],
             [
              0.2222222222222222,
              "#7201a8"
             ],
             [
              0.3333333333333333,
              "#9c179e"
             ],
             [
              0.4444444444444444,
              "#bd3786"
             ],
             [
              0.5555555555555556,
              "#d8576b"
             ],
             [
              0.6666666666666666,
              "#ed7953"
             ],
             [
              0.7777777777777778,
              "#fb9f3a"
             ],
             [
              0.8888888888888888,
              "#fdca26"
             ],
             [
              1,
              "#f0f921"
             ]
            ],
            "type": "heatmapgl"
           }
          ],
          "histogram": [
           {
            "marker": {
             "colorbar": {
              "outlinewidth": 0,
              "ticks": ""
             }
            },
            "type": "histogram"
           }
          ],
          "histogram2d": [
           {
            "colorbar": {
             "outlinewidth": 0,
             "ticks": ""
            },
            "colorscale": [
             [
              0,
              "#0d0887"
             ],
             [
              0.1111111111111111,
              "#46039f"
             ],
             [
              0.2222222222222222,
              "#7201a8"
             ],
             [
              0.3333333333333333,
              "#9c179e"
             ],
             [
              0.4444444444444444,
              "#bd3786"
             ],
             [
              0.5555555555555556,
              "#d8576b"
             ],
             [
              0.6666666666666666,
              "#ed7953"
             ],
             [
              0.7777777777777778,
              "#fb9f3a"
             ],
             [
              0.8888888888888888,
              "#fdca26"
             ],
             [
              1,
              "#f0f921"
             ]
            ],
            "type": "histogram2d"
           }
          ],
          "histogram2dcontour": [
           {
            "colorbar": {
             "outlinewidth": 0,
             "ticks": ""
            },
            "colorscale": [
             [
              0,
              "#0d0887"
             ],
             [
              0.1111111111111111,
              "#46039f"
             ],
             [
              0.2222222222222222,
              "#7201a8"
             ],
             [
              0.3333333333333333,
              "#9c179e"
             ],
             [
              0.4444444444444444,
              "#bd3786"
             ],
             [
              0.5555555555555556,
              "#d8576b"
             ],
             [
              0.6666666666666666,
              "#ed7953"
             ],
             [
              0.7777777777777778,
              "#fb9f3a"
             ],
             [
              0.8888888888888888,
              "#fdca26"
             ],
             [
              1,
              "#f0f921"
             ]
            ],
            "type": "histogram2dcontour"
           }
          ],
          "mesh3d": [
           {
            "colorbar": {
             "outlinewidth": 0,
             "ticks": ""
            },
            "type": "mesh3d"
           }
          ],
          "parcoords": [
           {
            "line": {
             "colorbar": {
              "outlinewidth": 0,
              "ticks": ""
             }
            },
            "type": "parcoords"
           }
          ],
          "pie": [
           {
            "automargin": true,
            "type": "pie"
           }
          ],
          "scatter": [
           {
            "marker": {
             "colorbar": {
              "outlinewidth": 0,
              "ticks": ""
             }
            },
            "type": "scatter"
           }
          ],
          "scatter3d": [
           {
            "line": {
             "colorbar": {
              "outlinewidth": 0,
              "ticks": ""
             }
            },
            "marker": {
             "colorbar": {
              "outlinewidth": 0,
              "ticks": ""
             }
            },
            "type": "scatter3d"
           }
          ],
          "scattercarpet": [
           {
            "marker": {
             "colorbar": {
              "outlinewidth": 0,
              "ticks": ""
             }
            },
            "type": "scattercarpet"
           }
          ],
          "scattergeo": [
           {
            "marker": {
             "colorbar": {
              "outlinewidth": 0,
              "ticks": ""
             }
            },
            "type": "scattergeo"
           }
          ],
          "scattergl": [
           {
            "marker": {
             "colorbar": {
              "outlinewidth": 0,
              "ticks": ""
             }
            },
            "type": "scattergl"
           }
          ],
          "scattermapbox": [
           {
            "marker": {
             "colorbar": {
              "outlinewidth": 0,
              "ticks": ""
             }
            },
            "type": "scattermapbox"
           }
          ],
          "scatterpolar": [
           {
            "marker": {
             "colorbar": {
              "outlinewidth": 0,
              "ticks": ""
             }
            },
            "type": "scatterpolar"
           }
          ],
          "scatterpolargl": [
           {
            "marker": {
             "colorbar": {
              "outlinewidth": 0,
              "ticks": ""
             }
            },
            "type": "scatterpolargl"
           }
          ],
          "scatterternary": [
           {
            "marker": {
             "colorbar": {
              "outlinewidth": 0,
              "ticks": ""
             }
            },
            "type": "scatterternary"
           }
          ],
          "surface": [
           {
            "colorbar": {
             "outlinewidth": 0,
             "ticks": ""
            },
            "colorscale": [
             [
              0,
              "#0d0887"
             ],
             [
              0.1111111111111111,
              "#46039f"
             ],
             [
              0.2222222222222222,
              "#7201a8"
             ],
             [
              0.3333333333333333,
              "#9c179e"
             ],
             [
              0.4444444444444444,
              "#bd3786"
             ],
             [
              0.5555555555555556,
              "#d8576b"
             ],
             [
              0.6666666666666666,
              "#ed7953"
             ],
             [
              0.7777777777777778,
              "#fb9f3a"
             ],
             [
              0.8888888888888888,
              "#fdca26"
             ],
             [
              1,
              "#f0f921"
             ]
            ],
            "type": "surface"
           }
          ],
          "table": [
           {
            "cells": {
             "fill": {
              "color": "#EBF0F8"
             },
             "line": {
              "color": "white"
             }
            },
            "header": {
             "fill": {
              "color": "#C8D4E3"
             },
             "line": {
              "color": "white"
             }
            },
            "type": "table"
           }
          ]
         },
         "layout": {
          "annotationdefaults": {
           "arrowcolor": "#2a3f5f",
           "arrowhead": 0,
           "arrowwidth": 1
          },
          "autotypenumbers": "strict",
          "coloraxis": {
           "colorbar": {
            "outlinewidth": 0,
            "ticks": ""
           }
          },
          "colorscale": {
           "diverging": [
            [
             0,
             "#8e0152"
            ],
            [
             0.1,
             "#c51b7d"
            ],
            [
             0.2,
             "#de77ae"
            ],
            [
             0.3,
             "#f1b6da"
            ],
            [
             0.4,
             "#fde0ef"
            ],
            [
             0.5,
             "#f7f7f7"
            ],
            [
             0.6,
             "#e6f5d0"
            ],
            [
             0.7,
             "#b8e186"
            ],
            [
             0.8,
             "#7fbc41"
            ],
            [
             0.9,
             "#4d9221"
            ],
            [
             1,
             "#276419"
            ]
           ],
           "sequential": [
            [
             0,
             "#0d0887"
            ],
            [
             0.1111111111111111,
             "#46039f"
            ],
            [
             0.2222222222222222,
             "#7201a8"
            ],
            [
             0.3333333333333333,
             "#9c179e"
            ],
            [
             0.4444444444444444,
             "#bd3786"
            ],
            [
             0.5555555555555556,
             "#d8576b"
            ],
            [
             0.6666666666666666,
             "#ed7953"
            ],
            [
             0.7777777777777778,
             "#fb9f3a"
            ],
            [
             0.8888888888888888,
             "#fdca26"
            ],
            [
             1,
             "#f0f921"
            ]
           ],
           "sequentialminus": [
            [
             0,
             "#0d0887"
            ],
            [
             0.1111111111111111,
             "#46039f"
            ],
            [
             0.2222222222222222,
             "#7201a8"
            ],
            [
             0.3333333333333333,
             "#9c179e"
            ],
            [
             0.4444444444444444,
             "#bd3786"
            ],
            [
             0.5555555555555556,
             "#d8576b"
            ],
            [
             0.6666666666666666,
             "#ed7953"
            ],
            [
             0.7777777777777778,
             "#fb9f3a"
            ],
            [
             0.8888888888888888,
             "#fdca26"
            ],
            [
             1,
             "#f0f921"
            ]
           ]
          },
          "colorway": [
           "#636efa",
           "#EF553B",
           "#00cc96",
           "#ab63fa",
           "#FFA15A",
           "#19d3f3",
           "#FF6692",
           "#B6E880",
           "#FF97FF",
           "#FECB52"
          ],
          "font": {
           "color": "#2a3f5f"
          },
          "geo": {
           "bgcolor": "white",
           "lakecolor": "white",
           "landcolor": "#E5ECF6",
           "showlakes": true,
           "showland": true,
           "subunitcolor": "white"
          },
          "hoverlabel": {
           "align": "left"
          },
          "hovermode": "closest",
          "mapbox": {
           "style": "light"
          },
          "paper_bgcolor": "white",
          "plot_bgcolor": "#E5ECF6",
          "polar": {
           "angularaxis": {
            "gridcolor": "white",
            "linecolor": "white",
            "ticks": ""
           },
           "bgcolor": "#E5ECF6",
           "radialaxis": {
            "gridcolor": "white",
            "linecolor": "white",
            "ticks": ""
           }
          },
          "scene": {
           "xaxis": {
            "backgroundcolor": "#E5ECF6",
            "gridcolor": "white",
            "gridwidth": 2,
            "linecolor": "white",
            "showbackground": true,
            "ticks": "",
            "zerolinecolor": "white"
           },
           "yaxis": {
            "backgroundcolor": "#E5ECF6",
            "gridcolor": "white",
            "gridwidth": 2,
            "linecolor": "white",
            "showbackground": true,
            "ticks": "",
            "zerolinecolor": "white"
           },
           "zaxis": {
            "backgroundcolor": "#E5ECF6",
            "gridcolor": "white",
            "gridwidth": 2,
            "linecolor": "white",
            "showbackground": true,
            "ticks": "",
            "zerolinecolor": "white"
           }
          },
          "shapedefaults": {
           "line": {
            "color": "#2a3f5f"
           }
          },
          "ternary": {
           "aaxis": {
            "gridcolor": "white",
            "linecolor": "white",
            "ticks": ""
           },
           "baxis": {
            "gridcolor": "white",
            "linecolor": "white",
            "ticks": ""
           },
           "bgcolor": "#E5ECF6",
           "caxis": {
            "gridcolor": "white",
            "linecolor": "white",
            "ticks": ""
           }
          },
          "title": {
           "x": 0.05
          },
          "xaxis": {
           "automargin": true,
           "gridcolor": "white",
           "linecolor": "white",
           "ticks": "",
           "title": {
            "standoff": 15
           },
           "zerolinecolor": "white",
           "zerolinewidth": 2
          },
          "yaxis": {
           "automargin": true,
           "gridcolor": "white",
           "linecolor": "white",
           "ticks": "",
           "title": {
            "standoff": 15
           },
           "zerolinecolor": "white",
           "zerolinewidth": 2
          }
         }
        },
        "title": {
         "text": "auggies 1500 m"
        },
        "width": 800,
        "xaxis": {
         "anchor": "y",
         "domain": [
          0,
          1
         ],
         "title": {
          "text": "Race Name"
         }
        },
        "yaxis": {
         "anchor": "x",
         "domain": [
          0,
          1
         ],
         "range": [
          "2021-06-10 2:00:00",
          "2021-06-10 2:15:00"
         ],
         "title": {
          "text": "datetime"
         }
        }
       }
      }
     },
     "metadata": {}
    }
   ],
   "source": [
    "\n",
    "  \n",
    "fig = px.bar(df.query((\"(Race) == '1500m'\")), x='Race Name', y=\"datetime\",color=\"Date\",title=\"auggies 1500 m\",\n",
    "hover_data=['Time'])\n",
    "fig.update_layout(yaxis_range=['2021-06-10 2:00:00' , '2021-06-10 2:15:00'], width=800, height=600)\n",
    "fig.show()\n",
    "#py.plot(fig, filename = '100 FR', auto_open=True)\n"
   ]
  },
  {
   "cell_type": "code",
   "execution_count": null,
   "metadata": {},
   "outputs": [],
   "source": []
  },
  {
   "cell_type": "code",
   "execution_count": null,
   "metadata": {},
   "outputs": [],
   "source": []
  },
  {
   "cell_type": "code",
   "execution_count": null,
   "metadata": {},
   "outputs": [],
   "source": []
  },
  {
   "cell_type": "code",
   "execution_count": null,
   "metadata": {},
   "outputs": [],
   "source": []
  },
  {
   "cell_type": "code",
   "execution_count": null,
   "metadata": {},
   "outputs": [],
   "source": []
  },
  {
   "cell_type": "code",
   "execution_count": null,
   "metadata": {},
   "outputs": [],
   "source": []
  },
  {
   "cell_type": "code",
   "execution_count": 33,
   "metadata": {},
   "outputs": [
    {
     "output_type": "error",
     "ename": "ValueError",
     "evalue": "Value of 'y' is not the name of a column in 'data_frame'. Expected one of ['Race Name', 'Location', 'Race', 'Date', 'Time', 'PR_SR?'] but received: datetime",
     "traceback": [
      "\u001b[1;31m---------------------------------------------------------------------------\u001b[0m",
      "\u001b[1;31mValueError\u001b[0m                                Traceback (most recent call last)",
      "\u001b[1;32m<ipython-input-33-36567f1bc907>\u001b[0m in \u001b[0;36m<module>\u001b[1;34m\u001b[0m\n\u001b[1;32m----> 1\u001b[1;33m fig = px.bar(times_auggie, x='Race Name', y=\"datetime\",title=\"Auggie\",\n\u001b[0m\u001b[0;32m      2\u001b[0m hover_data=['Time'])\n\u001b[0;32m      3\u001b[0m \u001b[0mfig\u001b[0m\u001b[1;33m.\u001b[0m\u001b[0mupdate_layout\u001b[0m\u001b[1;33m(\u001b[0m\u001b[0myaxis_range\u001b[0m\u001b[1;33m=\u001b[0m\u001b[1;33m[\u001b[0m\u001b[1;34m'2021-06-10 1:10:00'\u001b[0m \u001b[1;33m,\u001b[0m \u001b[1;34m'2021-06-10 1:55:00'\u001b[0m\u001b[1;33m]\u001b[0m\u001b[1;33m,\u001b[0m \u001b[0mwidth\u001b[0m\u001b[1;33m=\u001b[0m\u001b[1;36m800\u001b[0m\u001b[1;33m,\u001b[0m \u001b[0mheight\u001b[0m\u001b[1;33m=\u001b[0m\u001b[1;36m600\u001b[0m\u001b[1;33m)\u001b[0m\u001b[1;33m\u001b[0m\u001b[1;33m\u001b[0m\u001b[0m\n\u001b[0;32m      4\u001b[0m \u001b[0mfig\u001b[0m\u001b[1;33m.\u001b[0m\u001b[0mshow\u001b[0m\u001b[1;33m(\u001b[0m\u001b[1;33m)\u001b[0m\u001b[1;33m\u001b[0m\u001b[1;33m\u001b[0m\u001b[0m\n",
      "\u001b[1;32m~\\Anaconda3\\lib\\site-packages\\plotly\\express\\_chart_types.py\u001b[0m in \u001b[0;36mbar\u001b[1;34m(data_frame, x, y, color, facet_row, facet_col, facet_col_wrap, facet_row_spacing, facet_col_spacing, hover_name, hover_data, custom_data, text, base, error_x, error_x_minus, error_y, error_y_minus, animation_frame, animation_group, category_orders, labels, color_discrete_sequence, color_discrete_map, color_continuous_scale, range_color, color_continuous_midpoint, opacity, orientation, barmode, log_x, log_y, range_x, range_y, title, template, width, height)\u001b[0m\n\u001b[0;32m    348\u001b[0m     \u001b[0mmark\u001b[0m\u001b[1;33m.\u001b[0m\u001b[1;33m\u001b[0m\u001b[1;33m\u001b[0m\u001b[0m\n\u001b[0;32m    349\u001b[0m     \"\"\"\n\u001b[1;32m--> 350\u001b[1;33m     return make_figure(\n\u001b[0m\u001b[0;32m    351\u001b[0m         \u001b[0margs\u001b[0m\u001b[1;33m=\u001b[0m\u001b[0mlocals\u001b[0m\u001b[1;33m(\u001b[0m\u001b[1;33m)\u001b[0m\u001b[1;33m,\u001b[0m\u001b[1;33m\u001b[0m\u001b[1;33m\u001b[0m\u001b[0m\n\u001b[0;32m    352\u001b[0m         \u001b[0mconstructor\u001b[0m\u001b[1;33m=\u001b[0m\u001b[0mgo\u001b[0m\u001b[1;33m.\u001b[0m\u001b[0mBar\u001b[0m\u001b[1;33m,\u001b[0m\u001b[1;33m\u001b[0m\u001b[1;33m\u001b[0m\u001b[0m\n",
      "\u001b[1;32m~\\Anaconda3\\lib\\site-packages\\plotly\\express\\_core.py\u001b[0m in \u001b[0;36mmake_figure\u001b[1;34m(args, constructor, trace_patch, layout_patch)\u001b[0m\n\u001b[0;32m   1859\u001b[0m     \u001b[0mapply_default_cascade\u001b[0m\u001b[1;33m(\u001b[0m\u001b[0margs\u001b[0m\u001b[1;33m)\u001b[0m\u001b[1;33m\u001b[0m\u001b[1;33m\u001b[0m\u001b[0m\n\u001b[0;32m   1860\u001b[0m \u001b[1;33m\u001b[0m\u001b[0m\n\u001b[1;32m-> 1861\u001b[1;33m     \u001b[0margs\u001b[0m \u001b[1;33m=\u001b[0m \u001b[0mbuild_dataframe\u001b[0m\u001b[1;33m(\u001b[0m\u001b[0margs\u001b[0m\u001b[1;33m,\u001b[0m \u001b[0mconstructor\u001b[0m\u001b[1;33m)\u001b[0m\u001b[1;33m\u001b[0m\u001b[1;33m\u001b[0m\u001b[0m\n\u001b[0m\u001b[0;32m   1862\u001b[0m     \u001b[1;32mif\u001b[0m \u001b[0mconstructor\u001b[0m \u001b[1;32min\u001b[0m \u001b[1;33m[\u001b[0m\u001b[0mgo\u001b[0m\u001b[1;33m.\u001b[0m\u001b[0mTreemap\u001b[0m\u001b[1;33m,\u001b[0m \u001b[0mgo\u001b[0m\u001b[1;33m.\u001b[0m\u001b[0mSunburst\u001b[0m\u001b[1;33m]\u001b[0m \u001b[1;32mand\u001b[0m \u001b[0margs\u001b[0m\u001b[1;33m[\u001b[0m\u001b[1;34m\"path\"\u001b[0m\u001b[1;33m]\u001b[0m \u001b[1;32mis\u001b[0m \u001b[1;32mnot\u001b[0m \u001b[1;32mNone\u001b[0m\u001b[1;33m:\u001b[0m\u001b[1;33m\u001b[0m\u001b[1;33m\u001b[0m\u001b[0m\n\u001b[0;32m   1863\u001b[0m         \u001b[0margs\u001b[0m \u001b[1;33m=\u001b[0m \u001b[0mprocess_dataframe_hierarchy\u001b[0m\u001b[1;33m(\u001b[0m\u001b[0margs\u001b[0m\u001b[1;33m)\u001b[0m\u001b[1;33m\u001b[0m\u001b[1;33m\u001b[0m\u001b[0m\n",
      "\u001b[1;32m~\\Anaconda3\\lib\\site-packages\\plotly\\express\\_core.py\u001b[0m in \u001b[0;36mbuild_dataframe\u001b[1;34m(args, constructor)\u001b[0m\n\u001b[0;32m   1375\u001b[0m     \u001b[1;31m# now that things have been prepped, we do the systematic rewriting of `args`\u001b[0m\u001b[1;33m\u001b[0m\u001b[1;33m\u001b[0m\u001b[1;33m\u001b[0m\u001b[0m\n\u001b[0;32m   1376\u001b[0m \u001b[1;33m\u001b[0m\u001b[0m\n\u001b[1;32m-> 1377\u001b[1;33m     df_output, wide_id_vars = process_args_into_dataframe(\n\u001b[0m\u001b[0;32m   1378\u001b[0m         \u001b[0margs\u001b[0m\u001b[1;33m,\u001b[0m \u001b[0mwide_mode\u001b[0m\u001b[1;33m,\u001b[0m \u001b[0mvar_name\u001b[0m\u001b[1;33m,\u001b[0m \u001b[0mvalue_name\u001b[0m\u001b[1;33m\u001b[0m\u001b[1;33m\u001b[0m\u001b[0m\n\u001b[0;32m   1379\u001b[0m     )\n",
      "\u001b[1;32m~\\Anaconda3\\lib\\site-packages\\plotly\\express\\_core.py\u001b[0m in \u001b[0;36mprocess_args_into_dataframe\u001b[1;34m(args, wide_mode, var_name, value_name)\u001b[0m\n\u001b[0;32m   1181\u001b[0m                         \u001b[1;32mif\u001b[0m \u001b[0margument\u001b[0m \u001b[1;33m==\u001b[0m \u001b[1;34m\"index\"\u001b[0m\u001b[1;33m:\u001b[0m\u001b[1;33m\u001b[0m\u001b[1;33m\u001b[0m\u001b[0m\n\u001b[0;32m   1182\u001b[0m                             \u001b[0merr_msg\u001b[0m \u001b[1;33m+=\u001b[0m \u001b[1;34m\"\\n To use the index, pass it in directly as `df.index`.\"\u001b[0m\u001b[1;33m\u001b[0m\u001b[1;33m\u001b[0m\u001b[0m\n\u001b[1;32m-> 1183\u001b[1;33m                         \u001b[1;32mraise\u001b[0m \u001b[0mValueError\u001b[0m\u001b[1;33m(\u001b[0m\u001b[0merr_msg\u001b[0m\u001b[1;33m)\u001b[0m\u001b[1;33m\u001b[0m\u001b[1;33m\u001b[0m\u001b[0m\n\u001b[0m\u001b[0;32m   1184\u001b[0m                 \u001b[1;32melif\u001b[0m \u001b[0mlength\u001b[0m \u001b[1;32mand\u001b[0m \u001b[0mlen\u001b[0m\u001b[1;33m(\u001b[0m\u001b[0mdf_input\u001b[0m\u001b[1;33m[\u001b[0m\u001b[0margument\u001b[0m\u001b[1;33m]\u001b[0m\u001b[1;33m)\u001b[0m \u001b[1;33m!=\u001b[0m \u001b[0mlength\u001b[0m\u001b[1;33m:\u001b[0m\u001b[1;33m\u001b[0m\u001b[1;33m\u001b[0m\u001b[0m\n\u001b[0;32m   1185\u001b[0m                     raise ValueError(\n",
      "\u001b[1;31mValueError\u001b[0m: Value of 'y' is not the name of a column in 'data_frame'. Expected one of ['Race Name', 'Location', 'Race', 'Date', 'Time', 'PR_SR?'] but received: datetime"
     ]
    }
   ],
   "source": [
    "fig = px.bar(times_auggie, x='Race Name', y=\"datetime\",title=\"Auggie\",\n",
    "hover_data=['Time'])\n",
    "fig.update_layout(yaxis_range=['2021-06-10 1:10:00' , '2021-06-10 1:55:00'], width=800, height=600)\n",
    "fig.show()"
   ]
  },
  {
   "cell_type": "code",
   "execution_count": null,
   "metadata": {},
   "outputs": [],
   "source": []
  },
  {
   "cell_type": "code",
   "execution_count": null,
   "metadata": {},
   "outputs": [],
   "source": []
  },
  {
   "cell_type": "code",
   "execution_count": null,
   "metadata": {},
   "outputs": [],
   "source": []
  },
  {
   "cell_type": "code",
   "execution_count": null,
   "metadata": {},
   "outputs": [],
   "source": [
    "\n",
    "    '''function to make plot'''\n",
    "fig = px.bar(times_auggie, x='Race Name', y=\"datetime\",title=\"Auggie\",\n",
    "hover_data=['Time'])\n",
    "fig.update_layout(yaxis_range=['2021-06-10 1:10:00' , '2021-06-10 1:55:00'], width=800, height=600)\n",
    "fig.show()\n",
    "#py.plot(fig, filename = '100 FR', auto_open=True)\n"
   ]
  },
  {
   "cell_type": "code",
   "execution_count": null,
   "metadata": {},
   "outputs": [],
   "source": [
    "testing = pd.read_csv(\"testing_time.csv\")\n",
    "#testing['datetime'] = pd.to_datetime(testing['time'])\n",
    "testing.sample()\n",
    "\n",
    "def convert_dt(x):\n",
    "    '''function to convert time field to datetime'''\n",
    "    #df = pd.read_csv(x)\n",
    "    x['datetime'] = pd.to_datetime(x['Time'])\n",
    "    #x['swim_date_dt'] = pd.to_datetime(x['Swim Date'])\n",
    "    #x = x.sort_values(by = \"swim_date_dt\")\n",
    "    return x\n",
    "convert_dt(times_auggie)"
   ]
  },
  {
   "cell_type": "code",
   "execution_count": null,
   "metadata": {},
   "outputs": [],
   "source": [
    "# load Auggie's race results\n",
    "df = pd.read_csv(\"auggie.csv\")\n",
    "df.sample()\n",
    "#pd.to_datetime(df['Time'])\n",
    "\n",
    "#df['datetime'] = pd.to_datetime(df['Time'])"
   ]
  },
  {
   "cell_type": "code",
   "execution_count": null,
   "metadata": {},
   "outputs": [],
   "source": [
    "def convert_time():\n",
    "    '''function to convert time to workable form.'''\n",
    "\n",
    "    df[\"Time\"]= df[\"Time\"].str.replace(\",\", \".\")\n",
    "    #df['Time']= df['Time'].str.replace(',', '.')\n",
    "    return df\n",
    "\n",
    "convert_time()\n",
    "\n",
    "\n",
    "#df['datetime'] = pd.to_datetime(df['Time'])"
   ]
  },
  {
   "cell_type": "code",
   "execution_count": null,
   "metadata": {},
   "outputs": [],
   "source": [
    "# vall new dataframe from output of function\n",
    "new_df = convert_time()\n",
    "new_df.auugie_sample()"
   ]
  },
  {
   "cell_type": "code",
   "execution_count": null,
   "metadata": {},
   "outputs": [],
   "source": [
    "# sample\n",
    "times_auggie.dtypes\n",
    "#times_auggie['datetime'] = pd.to_datetime(times_auggie['Time'])\n",
    "times_auggie['datetime'] = pd.to_datetime(times_auggie['Time'])"
   ]
  },
  {
   "cell_type": "code",
   "execution_count": null,
   "metadata": {},
   "outputs": [],
   "source": [
    "meters_5000 = new_df.query(\"(Race)==\")"
   ]
  },
  {
   "cell_type": "code",
   "execution_count": null,
   "metadata": {},
   "outputs": [],
   "source": [
    "def plot_100_free():\n",
    "    '''function to make plot'''\n",
    "    fig = px.bar(free_100, x='Meet', y=\"datetime\",color=\"Swim Date\",title=\"100 Freestyle\",\n",
    "    hover_data=['Time'])\n",
    "    fig.update_layout(yaxis_range=['2021-05-02 1:20:00' , '2021-05-02 1:36:00'], width=800, height=600)\n",
    "    fig.show()\n",
    "    py.plot(fig, filename = '100 FR', auto_open=True)\n",
    "    return\n",
    "plot_100_free()"
   ]
  }
 ]
}