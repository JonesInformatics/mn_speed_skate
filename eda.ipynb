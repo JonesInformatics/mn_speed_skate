{
 "cells": [
  {
   "cell_type": "markdown",
   "metadata": {},
   "source": [
    "### Working Out Speedskating Model"
   ]
  },
  {
   "cell_type": "code",
   "execution_count": 1,
   "metadata": {},
   "outputs": [],
   "source": [
    "import pandas as pd\n",
    "import seaborn as sns\n",
    "import matplotlib.pyplot as plt"
   ]
  },
  {
   "cell_type": "code",
   "execution_count": 9,
   "metadata": {},
   "outputs": [
    {
     "output_type": "execute_result",
     "data": {
      "text/plain": [
       "finish         int64\n",
       "name          object\n",
       "age           object\n",
       "country       object\n",
       "time          object\n",
       "Unnamed: 5    object\n",
       "Unnamed: 6    object\n",
       "dtype: object"
      ]
     },
     "metadata": {},
     "execution_count": 9
    }
   ],
   "source": [
    "# Load data.\n",
    "df = pd.read_csv(\"500_men.csv\")\n",
    "df.dtypes"
   ]
  },
  {
   "cell_type": "code",
   "execution_count": 3,
   "metadata": {},
   "outputs": [
    {
     "output_type": "execute_result",
     "data": {
      "text/plain": [
       "<seaborn.axisgrid.FacetGrid at 0x219d17e1a90>"
      ]
     },
     "metadata": {},
     "execution_count": 3
    },
    {
     "output_type": "display_data",
     "data": {
      "text/plain": "<Figure size 360x360 with 1 Axes>",
      "image/svg+xml": "<?xml version=\"1.0\" encoding=\"utf-8\" standalone=\"no\"?>\r\n<!DOCTYPE svg PUBLIC \"-//W3C//DTD SVG 1.1//EN\"\r\n  \"http://www.w3.org/Graphics/SVG/1.1/DTD/svg11.dtd\">\r\n<!-- Created with matplotlib (https://matplotlib.org/) -->\r\n<svg height=\"351.528125pt\" version=\"1.1\" viewBox=\"0 0 352.453125 351.528125\" width=\"352.453125pt\" xmlns=\"http://www.w3.org/2000/svg\" xmlns:xlink=\"http://www.w3.org/1999/xlink\">\r\n <defs>\r\n  <style type=\"text/css\">\r\n*{stroke-linecap:butt;stroke-linejoin:round;}\r\n  </style>\r\n </defs>\r\n <g id=\"figure_1\">\r\n  <g id=\"patch_1\">\r\n   <path d=\"M 0 351.528125 \r\nL 352.453125 351.528125 \r\nL 352.453125 0 \r\nL 0 0 \r\nz\r\n\" style=\"fill:none;\"/>\r\n  </g>\r\n  <g id=\"axes_1\">\r\n   <g id=\"patch_2\">\r\n    <path d=\"M 40.603125 313.69375 \r\nL 345.253125 313.69375 \r\nL 345.253125 7.2 \r\nL 40.603125 7.2 \r\nz\r\n\" style=\"fill:#ffffff;\"/>\r\n   </g>\r\n   <g id=\"PathCollection_1\">\r\n    <defs>\r\n     <path d=\"M 0 3 \r\nC 0.795609 3 1.55874 2.683901 2.12132 2.12132 \r\nC 2.683901 1.55874 3 0.795609 3 0 \r\nC 3 -0.795609 2.683901 -1.55874 2.12132 -2.12132 \r\nC 1.55874 -2.683901 0.795609 -3 0 -3 \r\nC -0.795609 -3 -1.55874 -2.683901 -2.12132 -2.12132 \r\nC -2.683901 -1.55874 -3 -0.795609 -3 0 \r\nC -3 0.795609 -2.683901 1.55874 -2.12132 2.12132 \r\nC -1.55874 2.683901 -0.795609 3 0 3 \r\nz\r\n\" id=\"m9df34d5a64\" style=\"stroke:#ffffff;stroke-width:0.75;\"/>\r\n    </defs>\r\n    <g clip-path=\"url(#p172e759f24)\">\r\n     <use style=\"fill:#1f77b4;stroke:#ffffff;stroke-width:0.75;\" x=\"135.205089\" xlink:href=\"#m9df34d5a64\" y=\"299.452626\"/>\r\n     <use style=\"fill:#1f77b4;stroke:#ffffff;stroke-width:0.75;\" x=\"96.626377\" xlink:href=\"#m9df34d5a64\" y=\"279.329299\"/>\r\n     <use style=\"fill:#1f77b4;stroke:#ffffff;stroke-width:0.75;\" x=\"158.526356\" xlink:href=\"#m9df34d5a64\" y=\"222.364804\"/>\r\n     <use style=\"fill:#1f77b4;stroke:#ffffff;stroke-width:0.75;\" x=\"174.015854\" xlink:href=\"#m9df34d5a64\" y=\"228.247008\"/>\r\n     <use style=\"fill:#1f77b4;stroke:#ffffff;stroke-width:0.75;\" x=\"179.295046\" xlink:href=\"#m9df34d5a64\" y=\"218.959318\"/>\r\n     <use style=\"fill:#1f77b4;stroke:#ffffff;stroke-width:0.75;\" x=\"183.355963\" xlink:href=\"#m9df34d5a64\" y=\"184.904457\"/>\r\n     <use style=\"fill:#1f77b4;stroke:#ffffff;stroke-width:0.75;\" x=\"87.51832\" xlink:href=\"#m9df34d5a64\" y=\"268.803251\"/>\r\n     <use style=\"fill:#1f77b4;stroke:#ffffff;stroke-width:0.75;\" x=\"192.580046\" xlink:href=\"#m9df34d5a64\" y=\"234.129211\"/>\r\n     <use style=\"fill:#1f77b4;stroke:#ffffff;stroke-width:0.75;\" x=\"123.892534\" xlink:href=\"#m9df34d5a64\" y=\"270.04161\"/>\r\n     <use style=\"fill:#1f77b4;stroke:#ffffff;stroke-width:0.75;\" x=\"122.384194\" xlink:href=\"#m9df34d5a64\" y=\"230.723725\"/>\r\n     <use style=\"fill:#1f77b4;stroke:#ffffff;stroke-width:0.75;\" x=\"96.220285\" xlink:href=\"#m9df34d5a64\" y=\"277.781351\"/>\r\n     <use style=\"fill:#1f77b4;stroke:#ffffff;stroke-width:0.75;\" x=\"241.195025\" xlink:href=\"#m9df34d5a64\" y=\"175.926357\"/>\r\n     <use style=\"fill:#1f77b4;stroke:#ffffff;stroke-width:0.75;\" x=\"126.097032\" xlink:href=\"#m9df34d5a64\" y=\"282.115606\"/>\r\n     <use style=\"fill:#1f77b4;stroke:#ffffff;stroke-width:0.75;\" x=\"143.558976\" xlink:href=\"#m9df34d5a64\" y=\"237.844287\"/>\r\n     <use style=\"fill:#1f77b4;stroke:#ffffff;stroke-width:0.75;\" x=\"122.674259\" xlink:href=\"#m9df34d5a64\" y=\"237.225107\"/>\r\n     <use style=\"fill:#1f77b4;stroke:#ffffff;stroke-width:0.75;\" x=\"161.833103\" xlink:href=\"#m9df34d5a64\" y=\"209.362039\"/>\r\n     <use style=\"fill:#1f77b4;stroke:#ffffff;stroke-width:0.75;\" x=\"96.568364\" xlink:href=\"#m9df34d5a64\" y=\"279.01971\"/>\r\n     <use style=\"fill:#1f77b4;stroke:#ffffff;stroke-width:0.75;\" x=\"131.144172\" xlink:href=\"#m9df34d5a64\" y=\"215.863422\"/>\r\n     <use style=\"fill:#1f77b4;stroke:#ffffff;stroke-width:0.75;\" x=\"135.089063\" xlink:href=\"#m9df34d5a64\" y=\"222.364804\"/>\r\n     <use style=\"fill:#1f77b4;stroke:#ffffff;stroke-width:0.75;\" x=\"156.437884\" xlink:href=\"#m9df34d5a64\" y=\"227.008649\"/>\r\n     <use style=\"fill:#1f77b4;stroke:#ffffff;stroke-width:0.75;\" x=\"140.600308\" xlink:href=\"#m9df34d5a64\" y=\"204.408605\"/>\r\n     <use style=\"fill:#1f77b4;stroke:#ffffff;stroke-width:0.75;\" x=\"154.349413\" xlink:href=\"#m9df34d5a64\" y=\"245.584028\"/>\r\n     <use style=\"fill:#1f77b4;stroke:#ffffff;stroke-width:0.75;\" x=\"128.127491\" xlink:href=\"#m9df34d5a64\" y=\"261.682689\"/>\r\n     <use style=\"fill:#1f77b4;stroke:#ffffff;stroke-width:0.75;\" x=\"265.328475\" xlink:href=\"#m9df34d5a64\" y=\"96.052229\"/>\r\n     <use style=\"fill:#1f77b4;stroke:#ffffff;stroke-width:0.75;\" x=\"151.622797\" xlink:href=\"#m9df34d5a64\" y=\"232.271673\"/>\r\n     <use style=\"fill:#1f77b4;stroke:#ffffff;stroke-width:0.75;\" x=\"139.962164\" xlink:href=\"#m9df34d5a64\" y=\"258.277203\"/>\r\n     <use style=\"fill:#1f77b4;stroke:#ffffff;stroke-width:0.75;\" x=\"114.204347\" xlink:href=\"#m9df34d5a64\" y=\"268.803251\"/>\r\n     <use style=\"fill:#1f77b4;stroke:#ffffff;stroke-width:0.75;\" x=\"110.259456\" xlink:href=\"#m9df34d5a64\" y=\"268.803251\"/>\r\n     <use style=\"fill:#1f77b4;stroke:#ffffff;stroke-width:0.75;\" x=\"162.52926\" xlink:href=\"#m9df34d5a64\" y=\"197.597633\"/>\r\n     <use style=\"fill:#1f77b4;stroke:#ffffff;stroke-width:0.75;\" x=\"150.636574\" xlink:href=\"#m9df34d5a64\" y=\"237.844287\"/>\r\n     <use style=\"fill:#1f77b4;stroke:#ffffff;stroke-width:0.75;\" x=\"92.043342\" xlink:href=\"#m9df34d5a64\" y=\"285.830682\"/>\r\n     <use style=\"fill:#1f77b4;stroke:#ffffff;stroke-width:0.75;\" x=\"143.094871\" xlink:href=\"#m9df34d5a64\" y=\"253.323769\"/>\r\n     <use style=\"fill:#1f77b4;stroke:#ffffff;stroke-width:0.75;\" x=\"124.008561\" xlink:href=\"#m9df34d5a64\" y=\"237.844287\"/>\r\n     <use style=\"fill:#1f77b4;stroke:#ffffff;stroke-width:0.75;\" x=\"156.669937\" xlink:href=\"#m9df34d5a64\" y=\"254.871717\"/>\r\n     <use style=\"fill:#1f77b4;stroke:#ffffff;stroke-width:0.75;\" x=\"139.788124\" xlink:href=\"#m9df34d5a64\" y=\"229.485366\"/>\r\n     <use style=\"fill:#1f77b4;stroke:#ffffff;stroke-width:0.75;\" x=\"176.220352\" xlink:href=\"#m9df34d5a64\" y=\"219.268908\"/>\r\n     <use style=\"fill:#1f77b4;stroke:#ffffff;stroke-width:0.75;\" x=\"131.260198\" xlink:href=\"#m9df34d5a64\" y=\"268.803251\"/>\r\n     <use style=\"fill:#1f77b4;stroke:#ffffff;stroke-width:0.75;\" x=\"134.857011\" xlink:href=\"#m9df34d5a64\" y=\"235.677159\"/>\r\n     <use style=\"fill:#1f77b4;stroke:#ffffff;stroke-width:0.75;\" x=\"145.067316\" xlink:href=\"#m9df34d5a64\" y=\"259.205972\"/>\r\n     <use style=\"fill:#1f77b4;stroke:#ffffff;stroke-width:0.75;\" x=\"218.047798\" xlink:href=\"#m9df34d5a64\" y=\"175.926357\"/>\r\n     <use style=\"fill:#1f77b4;stroke:#ffffff;stroke-width:0.75;\" x=\"129.693845\" xlink:href=\"#m9df34d5a64\" y=\"261.3731\"/>\r\n     <use style=\"fill:#1f77b4;stroke:#ffffff;stroke-width:0.75;\" x=\"137.931705\" xlink:href=\"#m9df34d5a64\" y=\"252.08541\"/>\r\n     <use style=\"fill:#1f77b4;stroke:#ffffff;stroke-width:0.75;\" x=\"117.511093\" xlink:href=\"#m9df34d5a64\" y=\"235.986749\"/>\r\n     <use style=\"fill:#1f77b4;stroke:#ffffff;stroke-width:0.75;\" x=\"92.797512\" xlink:href=\"#m9df34d5a64\" y=\"289.855347\"/>\r\n     <use style=\"fill:#1f77b4;stroke:#ffffff;stroke-width:0.75;\" x=\"213.000658\" xlink:href=\"#m9df34d5a64\" y=\"157.350979\"/>\r\n     <use style=\"fill:#1f77b4;stroke:#ffffff;stroke-width:0.75;\" x=\"142.746792\" xlink:href=\"#m9df34d5a64\" y=\"237.844287\"/>\r\n     <use style=\"fill:#1f77b4;stroke:#ffffff;stroke-width:0.75;\" x=\"165.603954\" xlink:href=\"#m9df34d5a64\" y=\"175.926357\"/>\r\n     <use style=\"fill:#1f77b4;stroke:#ffffff;stroke-width:0.75;\" x=\"224.603278\" xlink:href=\"#m9df34d5a64\" y=\"144.967393\"/>\r\n     <use style=\"fill:#1f77b4;stroke:#ffffff;stroke-width:0.75;\" x=\"202.268234\" xlink:href=\"#m9df34d5a64\" y=\"267.255303\"/>\r\n     <use style=\"fill:#1f77b4;stroke:#ffffff;stroke-width:0.75;\" x=\"141.296465\" xlink:href=\"#m9df34d5a64\" y=\"237.844287\"/>\r\n     <use style=\"fill:#1f77b4;stroke:#ffffff;stroke-width:0.75;\" x=\"109.389259\" xlink:href=\"#m9df34d5a64\" y=\"253.323769\"/>\r\n     <use style=\"fill:#1f77b4;stroke:#ffffff;stroke-width:0.75;\" x=\"96.336311\" xlink:href=\"#m9df34d5a64\" y=\"250.227872\"/>\r\n     <use style=\"fill:#1f77b4;stroke:#ffffff;stroke-width:0.75;\" x=\"238.584436\" xlink:href=\"#m9df34d5a64\" y=\"169.734564\"/>\r\n     <use style=\"fill:#1f77b4;stroke:#ffffff;stroke-width:0.75;\" x=\"94.305853\" xlink:href=\"#m9df34d5a64\" y=\"282.425196\"/>\r\n     <use style=\"fill:#1f77b4;stroke:#ffffff;stroke-width:0.75;\" x=\"184.922317\" xlink:href=\"#m9df34d5a64\" y=\"196.359274\"/>\r\n     <use style=\"fill:#1f77b4;stroke:#ffffff;stroke-width:0.75;\" x=\"149.708365\" xlink:href=\"#m9df34d5a64\" y=\"222.055215\"/>\r\n     <use style=\"fill:#1f77b4;stroke:#ffffff;stroke-width:0.75;\" x=\"257.148628\" xlink:href=\"#m9df34d5a64\" y=\"237.844287\"/>\r\n     <use style=\"fill:#1f77b4;stroke:#ffffff;stroke-width:0.75;\" x=\"189.853431\" xlink:href=\"#m9df34d5a64\" y=\"284.282734\"/>\r\n     <use style=\"fill:#1f77b4;stroke:#ffffff;stroke-width:0.75;\" x=\"101.847556\" xlink:href=\"#m9df34d5a64\" y=\"276.233403\"/>\r\n     <use style=\"fill:#1f77b4;stroke:#ffffff;stroke-width:0.75;\" x=\"316.67007\" xlink:href=\"#m9df34d5a64\" y=\"122.367348\"/>\r\n     <use style=\"fill:#1f77b4;stroke:#ffffff;stroke-width:0.75;\" x=\"154.349413\" xlink:href=\"#m9df34d5a64\" y=\"231.342904\"/>\r\n     <use style=\"fill:#1f77b4;stroke:#ffffff;stroke-width:0.75;\" x=\"116.756923\" xlink:href=\"#m9df34d5a64\" y=\"268.803251\"/>\r\n     <use style=\"fill:#1f77b4;stroke:#ffffff;stroke-width:0.75;\" x=\"100.571268\" xlink:href=\"#m9df34d5a64\" y=\"269.422431\"/>\r\n     <use style=\"fill:#1f77b4;stroke:#ffffff;stroke-width:0.75;\" x=\"142.746792\" xlink:href=\"#m9df34d5a64\" y=\"214.315473\"/>\r\n     <use style=\"fill:#1f77b4;stroke:#ffffff;stroke-width:0.75;\" x=\"138.685875\" xlink:href=\"#m9df34d5a64\" y=\"248.989514\"/>\r\n     <use style=\"fill:#1f77b4;stroke:#ffffff;stroke-width:0.75;\" x=\"153.131138\" xlink:href=\"#m9df34d5a64\" y=\"233.200442\"/>\r\n     <use style=\"fill:#1f77b4;stroke:#ffffff;stroke-width:0.75;\" x=\"132.072382\" xlink:href=\"#m9df34d5a64\" y=\"254.252538\"/>\r\n     <use style=\"fill:#1f77b4;stroke:#ffffff;stroke-width:0.75;\" x=\"54.450852\" xlink:href=\"#m9df34d5a64\" y=\"299.762216\"/>\r\n     <use style=\"fill:#1f77b4;stroke:#ffffff;stroke-width:0.75;\" x=\"154.001334\" xlink:href=\"#m9df34d5a64\" y=\"268.493662\"/>\r\n     <use style=\"fill:#1f77b4;stroke:#ffffff;stroke-width:0.75;\" x=\"123.718495\" xlink:href=\"#m9df34d5a64\" y=\"266.016944\"/>\r\n     <use style=\"fill:#1f77b4;stroke:#ffffff;stroke-width:0.75;\" x=\"106.372578\" xlink:href=\"#m9df34d5a64\" y=\"269.73202\"/>\r\n     <use style=\"fill:#1f77b4;stroke:#ffffff;stroke-width:0.75;\" x=\"135.669194\" xlink:href=\"#m9df34d5a64\" y=\"237.844287\"/>\r\n     <use style=\"fill:#1f77b4;stroke:#ffffff;stroke-width:0.75;\" x=\"192.46402\" xlink:href=\"#m9df34d5a64\" y=\"233.510032\"/>\r\n     <use style=\"fill:#1f77b4;stroke:#ffffff;stroke-width:0.75;\" x=\"183.29795\" xlink:href=\"#m9df34d5a64\" y=\"175.926357\"/>\r\n     <use style=\"fill:#1f77b4;stroke:#ffffff;stroke-width:0.75;\" x=\"122.094128\" xlink:href=\"#m9df34d5a64\" y=\"262.611458\"/>\r\n     <use style=\"fill:#1f77b4;stroke:#ffffff;stroke-width:0.75;\" x=\"97.6126\" xlink:href=\"#m9df34d5a64\" y=\"292.022475\"/>\r\n     <use style=\"fill:#1f77b4;stroke:#ffffff;stroke-width:0.75;\" x=\"140.600308\" xlink:href=\"#m9df34d5a64\" y=\"235.367569\"/>\r\n     <use style=\"fill:#1f77b4;stroke:#ffffff;stroke-width:0.75;\" x=\"194.436466\" xlink:href=\"#m9df34d5a64\" y=\"206.885322\"/>\r\n     <use style=\"fill:#1f77b4;stroke:#ffffff;stroke-width:0.75;\" x=\"168.678649\" xlink:href=\"#m9df34d5a64\" y=\"237.844287\"/>\r\n     <use style=\"fill:#1f77b4;stroke:#ffffff;stroke-width:0.75;\" x=\"136.945482\" xlink:href=\"#m9df34d5a64\" y=\"246.822386\"/>\r\n     <use style=\"fill:#1f77b4;stroke:#ffffff;stroke-width:0.75;\" x=\"149.418299\" xlink:href=\"#m9df34d5a64\" y=\"237.844287\"/>\r\n     <use style=\"fill:#1f77b4;stroke:#ffffff;stroke-width:0.75;\" x=\"133.290657\" xlink:href=\"#m9df34d5a64\" y=\"225.460701\"/>\r\n     <use style=\"fill:#1f77b4;stroke:#ffffff;stroke-width:0.75;\" x=\"95.060023\" xlink:href=\"#m9df34d5a64\" y=\"274.066275\"/>\r\n     <use style=\"fill:#1f77b4;stroke:#ffffff;stroke-width:0.75;\" x=\"226.227645\" xlink:href=\"#m9df34d5a64\" y=\"175.926357\"/>\r\n     <use style=\"fill:#1f77b4;stroke:#ffffff;stroke-width:0.75;\" x=\"129.345766\" xlink:href=\"#m9df34d5a64\" y=\"267.874482\"/>\r\n     <use style=\"fill:#1f77b4;stroke:#ffffff;stroke-width:0.75;\" x=\"238.700462\" xlink:href=\"#m9df34d5a64\" y=\"170.663333\"/>\r\n     <use style=\"fill:#1f77b4;stroke:#ffffff;stroke-width:0.75;\" x=\"112.231901\" xlink:href=\"#m9df34d5a64\" y=\"268.803251\"/>\r\n     <use style=\"fill:#1f77b4;stroke:#ffffff;stroke-width:0.75;\" x=\"142.688779\" xlink:href=\"#m9df34d5a64\" y=\"206.885322\"/>\r\n     <use style=\"fill:#1f77b4;stroke:#ffffff;stroke-width:0.75;\" x=\"179.991203\" xlink:href=\"#m9df34d5a64\" y=\"149.611237\"/>\r\n     <use style=\"fill:#1f77b4;stroke:#ffffff;stroke-width:0.75;\" x=\"159.396552\" xlink:href=\"#m9df34d5a64\" y=\"237.844287\"/>\r\n     <use style=\"fill:#1f77b4;stroke:#ffffff;stroke-width:0.75;\" x=\"204.704785\" xlink:href=\"#m9df34d5a64\" y=\"237.844287\"/>\r\n     <use style=\"fill:#1f77b4;stroke:#ffffff;stroke-width:0.75;\" x=\"167.112295\" xlink:href=\"#m9df34d5a64\" y=\"222.364804\"/>\r\n     <use style=\"fill:#1f77b4;stroke:#ffffff;stroke-width:0.75;\" x=\"69.998363\" xlink:href=\"#m9df34d5a64\" y=\"299.762216\"/>\r\n     <use style=\"fill:#1f77b4;stroke:#ffffff;stroke-width:0.75;\" x=\"131.318211\" xlink:href=\"#m9df34d5a64\" y=\"197.597633\"/>\r\n     <use style=\"fill:#1f77b4;stroke:#ffffff;stroke-width:0.75;\" x=\"168.620636\" xlink:href=\"#m9df34d5a64\" y=\"230.104545\"/>\r\n     <use style=\"fill:#1f77b4;stroke:#ffffff;stroke-width:0.75;\" x=\"269.679458\" xlink:href=\"#m9df34d5a64\" y=\"184.285278\"/>\r\n     <use style=\"fill:#1f77b4;stroke:#ffffff;stroke-width:0.75;\" x=\"194.90057\" xlink:href=\"#m9df34d5a64\" y=\"206.885322\"/>\r\n     <use style=\"fill:#1f77b4;stroke:#ffffff;stroke-width:0.75;\" x=\"106.430591\" xlink:href=\"#m9df34d5a64\" y=\"284.282734\"/>\r\n     <use style=\"fill:#1f77b4;stroke:#ffffff;stroke-width:0.75;\" x=\"158.526356\" xlink:href=\"#m9df34d5a64\" y=\"237.844287\"/>\r\n     <use style=\"fill:#1f77b4;stroke:#ffffff;stroke-width:0.75;\" x=\"108.925154\" xlink:href=\"#m9df34d5a64\" y=\"284.282734\"/>\r\n     <use style=\"fill:#1f77b4;stroke:#ffffff;stroke-width:0.75;\" x=\"102.4857\" xlink:href=\"#m9df34d5a64\" y=\"253.323769\"/>\r\n     <use style=\"fill:#1f77b4;stroke:#ffffff;stroke-width:0.75;\" x=\"125.86498\" xlink:href=\"#m9df34d5a64\" y=\"237.844287\"/>\r\n     <use style=\"fill:#1f77b4;stroke:#ffffff;stroke-width:0.75;\" x=\"293.638869\" xlink:href=\"#m9df34d5a64\" y=\"253.323769\"/>\r\n     <use style=\"fill:#1f77b4;stroke:#ffffff;stroke-width:0.75;\" x=\"166.706203\" xlink:href=\"#m9df34d5a64\" y=\"222.983984\"/>\r\n     <use style=\"fill:#1f77b4;stroke:#ffffff;stroke-width:0.75;\" x=\"158.004238\" xlink:href=\"#m9df34d5a64\" y=\"204.408605\"/>\r\n     <use style=\"fill:#1f77b4;stroke:#ffffff;stroke-width:0.75;\" x=\"125.748954\" xlink:href=\"#m9df34d5a64\" y=\"279.948479\"/>\r\n     <use style=\"fill:#1f77b4;stroke:#ffffff;stroke-width:0.75;\" x=\"155.509675\" xlink:href=\"#m9df34d5a64\" y=\"205.027784\"/>\r\n     <use style=\"fill:#1f77b4;stroke:#ffffff;stroke-width:0.75;\" x=\"182.891858\" xlink:href=\"#m9df34d5a64\" y=\"197.907222\"/>\r\n     <use style=\"fill:#1f77b4;stroke:#ffffff;stroke-width:0.75;\" x=\"142.456727\" xlink:href=\"#m9df34d5a64\" y=\"214.315473\"/>\r\n     <use style=\"fill:#1f77b4;stroke:#ffffff;stroke-width:0.75;\" x=\"119.657578\" xlink:href=\"#m9df34d5a64\" y=\"206.885322\"/>\r\n     <use style=\"fill:#1f77b4;stroke:#ffffff;stroke-width:0.75;\" x=\"117.859172\" xlink:href=\"#m9df34d5a64\" y=\"237.844287\"/>\r\n     <use style=\"fill:#1f77b4;stroke:#ffffff;stroke-width:0.75;\" x=\"78.700329\" xlink:href=\"#m9df34d5a64\" y=\"299.762216\"/>\r\n     <use style=\"fill:#1f77b4;stroke:#ffffff;stroke-width:0.75;\" x=\"257.496707\" xlink:href=\"#m9df34d5a64\" y=\"206.885322\"/>\r\n     <use style=\"fill:#1f77b4;stroke:#ffffff;stroke-width:0.75;\" x=\"175.582208\" xlink:href=\"#m9df34d5a64\" y=\"251.775821\"/>\r\n     <use style=\"fill:#1f77b4;stroke:#ffffff;stroke-width:0.75;\" x=\"185.792514\" xlink:href=\"#m9df34d5a64\" y=\"206.885322\"/>\r\n     <use style=\"fill:#1f77b4;stroke:#ffffff;stroke-width:0.75;\" x=\"137.061508\" xlink:href=\"#m9df34d5a64\" y=\"222.364804\"/>\r\n     <use style=\"fill:#1f77b4;stroke:#ffffff;stroke-width:0.75;\" x=\"210.274042\" xlink:href=\"#m9df34d5a64\" y=\"173.75923\"/>\r\n     <use style=\"fill:#1f77b4;stroke:#ffffff;stroke-width:0.75;\" x=\"98.424783\" xlink:href=\"#m9df34d5a64\" y=\"284.282734\"/>\r\n     <use style=\"fill:#1f77b4;stroke:#ffffff;stroke-width:0.75;\" x=\"108.751115\" xlink:href=\"#m9df34d5a64\" y=\"274.995044\"/>\r\n     <use style=\"fill:#1f77b4;stroke:#ffffff;stroke-width:0.75;\" x=\"176.336378\" xlink:href=\"#m9df34d5a64\" y=\"240.321004\"/>\r\n     <use style=\"fill:#1f77b4;stroke:#ffffff;stroke-width:0.75;\" x=\"104.458146\" xlink:href=\"#m9df34d5a64\" y=\"259.205972\"/>\r\n     <use style=\"fill:#1f77b4;stroke:#ffffff;stroke-width:0.75;\" x=\"114.494412\" xlink:href=\"#m9df34d5a64\" y=\"278.71012\"/>\r\n     <use style=\"fill:#1f77b4;stroke:#ffffff;stroke-width:0.75;\" x=\"119.367513\" xlink:href=\"#m9df34d5a64\" y=\"253.323769\"/>\r\n     <use style=\"fill:#1f77b4;stroke:#ffffff;stroke-width:0.75;\" x=\"129.171727\" xlink:href=\"#m9df34d5a64\" y=\"268.803251\"/>\r\n     <use style=\"fill:#1f77b4;stroke:#ffffff;stroke-width:0.75;\" x=\"109.041181\" xlink:href=\"#m9df34d5a64\" y=\"252.70459\"/>\r\n     <use style=\"fill:#1f77b4;stroke:#ffffff;stroke-width:0.75;\" x=\"209.519872\" xlink:href=\"#m9df34d5a64\" y=\"200.693529\"/>\r\n     <use style=\"fill:#1f77b4;stroke:#ffffff;stroke-width:0.75;\" x=\"86.067992\" xlink:href=\"#m9df34d5a64\" y=\"284.901913\"/>\r\n     <use style=\"fill:#1f77b4;stroke:#ffffff;stroke-width:0.75;\" x=\"120.875853\" xlink:href=\"#m9df34d5a64\" y=\"268.803251\"/>\r\n     <use style=\"fill:#1f77b4;stroke:#ffffff;stroke-width:0.75;\" x=\"102.659739\" xlink:href=\"#m9df34d5a64\" y=\"268.803251\"/>\r\n     <use style=\"fill:#1f77b4;stroke:#ffffff;stroke-width:0.75;\" x=\"169.026727\" xlink:href=\"#m9df34d5a64\" y=\"263.230638\"/>\r\n     <use style=\"fill:#1f77b4;stroke:#ffffff;stroke-width:0.75;\" x=\"147.329827\" xlink:href=\"#m9df34d5a64\" y=\"284.282734\"/>\r\n     <use style=\"fill:#1f77b4;stroke:#ffffff;stroke-width:0.75;\" x=\"154.233386\" xlink:href=\"#m9df34d5a64\" y=\"243.107311\"/>\r\n     <use style=\"fill:#1f77b4;stroke:#ffffff;stroke-width:0.75;\" x=\"101.441464\" xlink:href=\"#m9df34d5a64\" y=\"284.282734\"/>\r\n     <use style=\"fill:#1f77b4;stroke:#ffffff;stroke-width:0.75;\" x=\"107.764892\" xlink:href=\"#m9df34d5a64\" y=\"268.803251\"/>\r\n     <use style=\"fill:#1f77b4;stroke:#ffffff;stroke-width:0.75;\" x=\"142.572753\" xlink:href=\"#m9df34d5a64\" y=\"230.104545\"/>\r\n     <use style=\"fill:#1f77b4;stroke:#ffffff;stroke-width:0.75;\" x=\"86.009979\" xlink:href=\"#m9df34d5a64\" y=\"292.022475\"/>\r\n     <use style=\"fill:#1f77b4;stroke:#ffffff;stroke-width:0.75;\" x=\"96.568364\" xlink:href=\"#m9df34d5a64\" y=\"268.803251\"/>\r\n     <use style=\"fill:#1f77b4;stroke:#ffffff;stroke-width:0.75;\" x=\"118.729368\" xlink:href=\"#m9df34d5a64\" y=\"268.803251\"/>\r\n     <use style=\"fill:#1f77b4;stroke:#ffffff;stroke-width:0.75;\" x=\"129.461792\" xlink:href=\"#m9df34d5a64\" y=\"268.803251\"/>\r\n     <use style=\"fill:#1f77b4;stroke:#ffffff;stroke-width:0.75;\" x=\"112.986071\" xlink:href=\"#m9df34d5a64\" y=\"245.584028\"/>\r\n     <use style=\"fill:#1f77b4;stroke:#ffffff;stroke-width:0.75;\" x=\"137.989718\" xlink:href=\"#m9df34d5a64\" y=\"222.364804\"/>\r\n     <use style=\"fill:#1f77b4;stroke:#ffffff;stroke-width:0.75;\" x=\"235.625768\" xlink:href=\"#m9df34d5a64\" y=\"123.296117\"/>\r\n     <use style=\"fill:#1f77b4;stroke:#ffffff;stroke-width:0.75;\" x=\"275.596794\" xlink:href=\"#m9df34d5a64\" y=\"175.926357\"/>\r\n     <use style=\"fill:#1f77b4;stroke:#ffffff;stroke-width:0.75;\" x=\"193.566269\" xlink:href=\"#m9df34d5a64\" y=\"175.926357\"/>\r\n     <use style=\"fill:#1f77b4;stroke:#ffffff;stroke-width:0.75;\" x=\"131.956356\" xlink:href=\"#m9df34d5a64\" y=\"259.515562\"/>\r\n     <use style=\"fill:#1f77b4;stroke:#ffffff;stroke-width:0.75;\" x=\"85.08177\" xlink:href=\"#m9df34d5a64\" y=\"284.282734\"/>\r\n     <use style=\"fill:#1f77b4;stroke:#ffffff;stroke-width:0.75;\" x=\"144.777251\" xlink:href=\"#m9df34d5a64\" y=\"288.616989\"/>\r\n     <use style=\"fill:#1f77b4;stroke:#ffffff;stroke-width:0.75;\" x=\"105.502381\" xlink:href=\"#m9df34d5a64\" y=\"280.258068\"/>\r\n     <use style=\"fill:#1f77b4;stroke:#ffffff;stroke-width:0.75;\" x=\"93.377643\" xlink:href=\"#m9df34d5a64\" y=\"277.162172\"/>\r\n     <use style=\"fill:#1f77b4;stroke:#ffffff;stroke-width:0.75;\" x=\"80.208669\" xlink:href=\"#m9df34d5a64\" y=\"268.803251\"/>\r\n     <use style=\"fill:#1f77b4;stroke:#ffffff;stroke-width:0.75;\" x=\"118.265264\" xlink:href=\"#m9df34d5a64\" y=\"253.323769\"/>\r\n     <use style=\"fill:#1f77b4;stroke:#ffffff;stroke-width:0.75;\" x=\"112.812032\" xlink:href=\"#m9df34d5a64\" y=\"268.803251\"/>\r\n     <use style=\"fill:#1f77b4;stroke:#ffffff;stroke-width:0.75;\" x=\"136.771443\" xlink:href=\"#m9df34d5a64\" y=\"245.893617\"/>\r\n     <use style=\"fill:#1f77b4;stroke:#ffffff;stroke-width:0.75;\" x=\"179.062994\" xlink:href=\"#m9df34d5a64\" y=\"268.803251\"/>\r\n     <use style=\"fill:#1f77b4;stroke:#ffffff;stroke-width:0.75;\" x=\"151.332731\" xlink:href=\"#m9df34d5a64\" y=\"268.803251\"/>\r\n     <use style=\"fill:#1f77b4;stroke:#ffffff;stroke-width:0.75;\" x=\"209.809937\" xlink:href=\"#m9df34d5a64\" y=\"171.592102\"/>\r\n     <use style=\"fill:#1f77b4;stroke:#ffffff;stroke-width:0.75;\" x=\"316.089939\" xlink:href=\"#m9df34d5a64\" y=\"175.926357\"/>\r\n     <use style=\"fill:#1f77b4;stroke:#ffffff;stroke-width:0.75;\" x=\"181.673583\" xlink:href=\"#m9df34d5a64\" y=\"214.625063\"/>\r\n     <use style=\"fill:#1f77b4;stroke:#ffffff;stroke-width:0.75;\" x=\"114.320373\" xlink:href=\"#m9df34d5a64\" y=\"249.918283\"/>\r\n     <use style=\"fill:#1f77b4;stroke:#ffffff;stroke-width:0.75;\" x=\"132.304434\" xlink:href=\"#m9df34d5a64\" y=\"268.803251\"/>\r\n     <use style=\"fill:#1f77b4;stroke:#ffffff;stroke-width:0.75;\" x=\"161.368998\" xlink:href=\"#m9df34d5a64\" y=\"222.364804\"/>\r\n     <use style=\"fill:#1f77b4;stroke:#ffffff;stroke-width:0.75;\" x=\"110.085416\" xlink:href=\"#m9df34d5a64\" y=\"253.323769\"/>\r\n     <use style=\"fill:#1f77b4;stroke:#ffffff;stroke-width:0.75;\" x=\"130.680067\" xlink:href=\"#m9df34d5a64\" y=\"268.803251\"/>\r\n     <use style=\"fill:#1f77b4;stroke:#ffffff;stroke-width:0.75;\" x=\"116.756923\" xlink:href=\"#m9df34d5a64\" y=\"268.803251\"/>\r\n     <use style=\"fill:#1f77b4;stroke:#ffffff;stroke-width:0.75;\" x=\"138.221771\" xlink:href=\"#m9df34d5a64\" y=\"237.844287\"/>\r\n     <use style=\"fill:#1f77b4;stroke:#ffffff;stroke-width:0.75;\" x=\"178.888954\" xlink:href=\"#m9df34d5a64\" y=\"222.983984\"/>\r\n     <use style=\"fill:#1f77b4;stroke:#ffffff;stroke-width:0.75;\" x=\"157.076028\" xlink:href=\"#m9df34d5a64\" y=\"261.3731\"/>\r\n     <use style=\"fill:#1f77b4;stroke:#ffffff;stroke-width:0.75;\" x=\"220.600374\" xlink:href=\"#m9df34d5a64\" y=\"191.40584\"/>\r\n     <use style=\"fill:#1f77b4;stroke:#ffffff;stroke-width:0.75;\" x=\"98.076704\" xlink:href=\"#m9df34d5a64\" y=\"280.877247\"/>\r\n     <use style=\"fill:#1f77b4;stroke:#ffffff;stroke-width:0.75;\" x=\"98.308757\" xlink:href=\"#m9df34d5a64\" y=\"268.803251\"/>\r\n     <use style=\"fill:#1f77b4;stroke:#ffffff;stroke-width:0.75;\" x=\"331.405398\" xlink:href=\"#m9df34d5a64\" y=\"21.131534\"/>\r\n     <use style=\"fill:#1f77b4;stroke:#ffffff;stroke-width:0.75;\" x=\"128.359543\" xlink:href=\"#m9df34d5a64\" y=\"232.890852\"/>\r\n     <use style=\"fill:#1f77b4;stroke:#ffffff;stroke-width:0.75;\" x=\"78.700329\" xlink:href=\"#m9df34d5a64\" y=\"171.282513\"/>\r\n     <use style=\"fill:#1f77b4;stroke:#ffffff;stroke-width:0.75;\" x=\"221.412558\" xlink:href=\"#m9df34d5a64\" y=\"232.271673\"/>\r\n     <use style=\"fill:#1f77b4;stroke:#ffffff;stroke-width:0.75;\" x=\"134.218867\" xlink:href=\"#m9df34d5a64\" y=\"206.885322\"/>\r\n     <use style=\"fill:#1f77b4;stroke:#ffffff;stroke-width:0.75;\" x=\"227.503933\" xlink:href=\"#m9df34d5a64\" y=\"234.438801\"/>\r\n     <use style=\"fill:#1f77b4;stroke:#ffffff;stroke-width:0.75;\" x=\"140.426268\" xlink:href=\"#m9df34d5a64\" y=\"268.803251\"/>\r\n     <use style=\"fill:#1f77b4;stroke:#ffffff;stroke-width:0.75;\" x=\"120.643801\" xlink:href=\"#m9df34d5a64\" y=\"268.803251\"/>\r\n     <use style=\"fill:#1f77b4;stroke:#ffffff;stroke-width:0.75;\" x=\"92.333407\" xlink:href=\"#m9df34d5a64\" y=\"206.885322\"/>\r\n     <use style=\"fill:#1f77b4;stroke:#ffffff;stroke-width:0.75;\" x=\"237.5402\" xlink:href=\"#m9df34d5a64\" y=\"220.816856\"/>\r\n     <use style=\"fill:#1f77b4;stroke:#ffffff;stroke-width:0.75;\" x=\"237.656226\" xlink:href=\"#m9df34d5a64\" y=\"216.792191\"/>\r\n     <use style=\"fill:#1f77b4;stroke:#ffffff;stroke-width:0.75;\" x=\"171.985395\" xlink:href=\"#m9df34d5a64\" y=\"155.80303\"/>\r\n     <use style=\"fill:#1f77b4;stroke:#ffffff;stroke-width:0.75;\" x=\"299.730244\" xlink:href=\"#m9df34d5a64\" y=\"222.364804\"/>\r\n     <use style=\"fill:#1f77b4;stroke:#ffffff;stroke-width:0.75;\" x=\"171.057186\" xlink:href=\"#m9df34d5a64\" y=\"129.48791\"/>\r\n     <use style=\"fill:#1f77b4;stroke:#ffffff;stroke-width:0.75;\" x=\"271.883956\" xlink:href=\"#m9df34d5a64\" y=\"237.844287\"/>\r\n     <use style=\"fill:#1f77b4;stroke:#ffffff;stroke-width:0.75;\" x=\"156.669937\" xlink:href=\"#m9df34d5a64\" y=\"175.926357\"/>\r\n     <use style=\"fill:#1f77b4;stroke:#ffffff;stroke-width:0.75;\" x=\"157.888212\" xlink:href=\"#m9df34d5a64\" y=\"222.364804\"/>\r\n     <use style=\"fill:#1f77b4;stroke:#ffffff;stroke-width:0.75;\" x=\"213.348737\" xlink:href=\"#m9df34d5a64\" y=\"268.803251\"/>\r\n     <use style=\"fill:#1f77b4;stroke:#ffffff;stroke-width:0.75;\" x=\"141.934609\" xlink:href=\"#m9df34d5a64\" y=\"222.364804\"/>\r\n     <use style=\"fill:#1f77b4;stroke:#ffffff;stroke-width:0.75;\" x=\"170.651094\" xlink:href=\"#m9df34d5a64\" y=\"206.885322\"/>\r\n     <use style=\"fill:#1f77b4;stroke:#ffffff;stroke-width:0.75;\" x=\"127.663386\" xlink:href=\"#m9df34d5a64\" y=\"284.282734\"/>\r\n     <use style=\"fill:#1f77b4;stroke:#ffffff;stroke-width:0.75;\" x=\"151.564784\" xlink:href=\"#m9df34d5a64\" y=\"201.003119\"/>\r\n     <use style=\"fill:#1f77b4;stroke:#ffffff;stroke-width:0.75;\" x=\"201.63009\" xlink:href=\"#m9df34d5a64\" y=\"251.466231\"/>\r\n     <use style=\"fill:#1f77b4;stroke:#ffffff;stroke-width:0.75;\" x=\"126.445111\" xlink:href=\"#m9df34d5a64\" y=\"268.184072\"/>\r\n     <use style=\"fill:#1f77b4;stroke:#ffffff;stroke-width:0.75;\" x=\"132.826552\" xlink:href=\"#m9df34d5a64\" y=\"206.885322\"/>\r\n     <use style=\"fill:#1f77b4;stroke:#ffffff;stroke-width:0.75;\" x=\"80.498735\" xlink:href=\"#m9df34d5a64\" y=\"286.140271\"/>\r\n     <use style=\"fill:#1f77b4;stroke:#ffffff;stroke-width:0.75;\" x=\"96.626377\" xlink:href=\"#m9df34d5a64\" y=\"268.803251\"/>\r\n     <use style=\"fill:#1f77b4;stroke:#ffffff;stroke-width:0.75;\" x=\"286.73531\" xlink:href=\"#m9df34d5a64\" y=\"175.926357\"/>\r\n     <use style=\"fill:#1f77b4;stroke:#ffffff;stroke-width:0.75;\" x=\"112.057862\" xlink:href=\"#m9df34d5a64\" y=\"268.803251\"/>\r\n     <use style=\"fill:#1f77b4;stroke:#ffffff;stroke-width:0.75;\" x=\"115.01653\" xlink:href=\"#m9df34d5a64\" y=\"268.803251\"/>\r\n     <use style=\"fill:#1f77b4;stroke:#ffffff;stroke-width:0.75;\" x=\"145.183343\" xlink:href=\"#m9df34d5a64\" y=\"206.885322\"/>\r\n     <use style=\"fill:#1f77b4;stroke:#ffffff;stroke-width:0.75;\" x=\"110.549521\" xlink:href=\"#m9df34d5a64\" y=\"268.493662\"/>\r\n     <use style=\"fill:#1f77b4;stroke:#ffffff;stroke-width:0.75;\" x=\"112.057862\" xlink:href=\"#m9df34d5a64\" y=\"268.803251\"/>\r\n     <use style=\"fill:#1f77b4;stroke:#ffffff;stroke-width:0.75;\" x=\"131.782316\" xlink:href=\"#m9df34d5a64\" y=\"253.323769\"/>\r\n     <use style=\"fill:#1f77b4;stroke:#ffffff;stroke-width:0.75;\" x=\"155.741727\" xlink:href=\"#m9df34d5a64\" y=\"206.885322\"/>\r\n     <use style=\"fill:#1f77b4;stroke:#ffffff;stroke-width:0.75;\" x=\"132.188408\" xlink:href=\"#m9df34d5a64\" y=\"230.723725\"/>\r\n     <use style=\"fill:#1f77b4;stroke:#ffffff;stroke-width:0.75;\" x=\"190.897666\" xlink:href=\"#m9df34d5a64\" y=\"225.151111\"/>\r\n     <use style=\"fill:#1f77b4;stroke:#ffffff;stroke-width:0.75;\" x=\"261.325571\" xlink:href=\"#m9df34d5a64\" y=\"237.844287\"/>\r\n     <use style=\"fill:#1f77b4;stroke:#ffffff;stroke-width:0.75;\" x=\"177.438627\" xlink:href=\"#m9df34d5a64\" y=\"267.874482\"/>\r\n     <use style=\"fill:#1f77b4;stroke:#ffffff;stroke-width:0.75;\" x=\"110.665547\" xlink:href=\"#m9df34d5a64\" y=\"261.682689\"/>\r\n     <use style=\"fill:#1f77b4;stroke:#ffffff;stroke-width:0.75;\" x=\"211.028213\" xlink:href=\"#m9df34d5a64\" y=\"268.803251\"/>\r\n     <use style=\"fill:#1f77b4;stroke:#ffffff;stroke-width:0.75;\" x=\"186.836749\" xlink:href=\"#m9df34d5a64\" y=\"170.972923\"/>\r\n     <use style=\"fill:#1f77b4;stroke:#ffffff;stroke-width:0.75;\" x=\"317.018149\" xlink:href=\"#m9df34d5a64\" y=\"52.090499\"/>\r\n     <use style=\"fill:#1f77b4;stroke:#ffffff;stroke-width:0.75;\" x=\"113.624216\" xlink:href=\"#m9df34d5a64\" y=\"253.323769\"/>\r\n     <use style=\"fill:#1f77b4;stroke:#ffffff;stroke-width:0.75;\" x=\"200.063736\" xlink:href=\"#m9df34d5a64\" y=\"129.48791\"/>\r\n     <use style=\"fill:#1f77b4;stroke:#ffffff;stroke-width:0.75;\" x=\"111.477731\" xlink:href=\"#m9df34d5a64\" y=\"296.666319\"/>\r\n     <use style=\"fill:#1f77b4;stroke:#ffffff;stroke-width:0.75;\" x=\"199.94771\" xlink:href=\"#m9df34d5a64\" y=\"237.844287\"/>\r\n     <use style=\"fill:#1f77b4;stroke:#ffffff;stroke-width:0.75;\" x=\"103.878015\" xlink:href=\"#m9df34d5a64\" y=\"284.282734\"/>\r\n     <use style=\"fill:#1f77b4;stroke:#ffffff;stroke-width:0.75;\" x=\"81.542971\" xlink:href=\"#m9df34d5a64\" y=\"286.140271\"/>\r\n     <use style=\"fill:#1f77b4;stroke:#ffffff;stroke-width:0.75;\" x=\"211.492317\" xlink:href=\"#m9df34d5a64\" y=\"235.05798\"/>\r\n     <use style=\"fill:#1f77b4;stroke:#ffffff;stroke-width:0.75;\" x=\"107.184761\" xlink:href=\"#m9df34d5a64\" y=\"262.611458\"/>\r\n     <use style=\"fill:#1f77b4;stroke:#ffffff;stroke-width:0.75;\" x=\"114.494412\" xlink:href=\"#m9df34d5a64\" y=\"222.983984\"/>\r\n     <use style=\"fill:#1f77b4;stroke:#ffffff;stroke-width:0.75;\" x=\"86.416071\" xlink:href=\"#m9df34d5a64\" y=\"271.279968\"/>\r\n     <use style=\"fill:#1f77b4;stroke:#ffffff;stroke-width:0.75;\" x=\"129.345766\" xlink:href=\"#m9df34d5a64\" y=\"237.844287\"/>\r\n     <use style=\"fill:#1f77b4;stroke:#ffffff;stroke-width:0.75;\" x=\"114.494412\" xlink:href=\"#m9df34d5a64\" y=\"281.806016\"/>\r\n     <use style=\"fill:#1f77b4;stroke:#ffffff;stroke-width:0.75;\" x=\"131.028146\" xlink:href=\"#m9df34d5a64\" y=\"253.323769\"/>\r\n     <use style=\"fill:#1f77b4;stroke:#ffffff;stroke-width:0.75;\" x=\"95.176049\" xlink:href=\"#m9df34d5a64\" y=\"268.803251\"/>\r\n     <use style=\"fill:#1f77b4;stroke:#ffffff;stroke-width:0.75;\" x=\"155.277622\" xlink:href=\"#m9df34d5a64\" y=\"237.844287\"/>\r\n     <use style=\"fill:#1f77b4;stroke:#ffffff;stroke-width:0.75;\" x=\"113.682229\" xlink:href=\"#m9df34d5a64\" y=\"246.512797\"/>\r\n     <use style=\"fill:#1f77b4;stroke:#ffffff;stroke-width:0.75;\" x=\"164.96581\" xlink:href=\"#m9df34d5a64\" y=\"241.559362\"/>\r\n     <use style=\"fill:#1f77b4;stroke:#ffffff;stroke-width:0.75;\" x=\"175.930286\" xlink:href=\"#m9df34d5a64\" y=\"268.803251\"/>\r\n     <use style=\"fill:#1f77b4;stroke:#ffffff;stroke-width:0.75;\" x=\"127.663386\" xlink:href=\"#m9df34d5a64\" y=\"237.844287\"/>\r\n     <use style=\"fill:#1f77b4;stroke:#ffffff;stroke-width:0.75;\" x=\"103.994041\" xlink:href=\"#m9df34d5a64\" y=\"225.77029\"/>\r\n     <use style=\"fill:#1f77b4;stroke:#ffffff;stroke-width:0.75;\" x=\"99.12094\" xlink:href=\"#m9df34d5a64\" y=\"285.211503\"/>\r\n     <use style=\"fill:#1f77b4;stroke:#ffffff;stroke-width:0.75;\" x=\"126.735176\" xlink:href=\"#m9df34d5a64\" y=\"237.844287\"/>\r\n     <use style=\"fill:#1f77b4;stroke:#ffffff;stroke-width:0.75;\" x=\"95.060023\" xlink:href=\"#m9df34d5a64\" y=\"292.022475\"/>\r\n     <use style=\"fill:#1f77b4;stroke:#ffffff;stroke-width:0.75;\" x=\"109.737338\" xlink:href=\"#m9df34d5a64\" y=\"299.762216\"/>\r\n     <use style=\"fill:#1f77b4;stroke:#ffffff;stroke-width:0.75;\" x=\"227.097842\" xlink:href=\"#m9df34d5a64\" y=\"294.499192\"/>\r\n     <use style=\"fill:#1f77b4;stroke:#ffffff;stroke-width:0.75;\" x=\"244.501772\" xlink:href=\"#m9df34d5a64\" y=\"186.142816\"/>\r\n     <use style=\"fill:#1f77b4;stroke:#ffffff;stroke-width:0.75;\" x=\"205.052863\" xlink:href=\"#m9df34d5a64\" y=\"147.44411\"/>\r\n     <use style=\"fill:#1f77b4;stroke:#ffffff;stroke-width:0.75;\" x=\"194.320439\" xlink:href=\"#m9df34d5a64\" y=\"268.803251\"/>\r\n     <use style=\"fill:#1f77b4;stroke:#ffffff;stroke-width:0.75;\" x=\"168.156531\" xlink:href=\"#m9df34d5a64\" y=\"268.803251\"/>\r\n     <use style=\"fill:#1f77b4;stroke:#ffffff;stroke-width:0.75;\" x=\"140.020177\" xlink:href=\"#m9df34d5a64\" y=\"276.542992\"/>\r\n     <use style=\"fill:#1f77b4;stroke:#ffffff;stroke-width:0.75;\" x=\"145.589434\" xlink:href=\"#m9df34d5a64\" y=\"237.844287\"/>\r\n    </g>\r\n   </g>\r\n   <g id=\"matplotlib.axis_1\">\r\n    <g id=\"xtick_1\">\r\n     <g id=\"line2d_1\">\r\n      <defs>\r\n       <path d=\"M 0 0 \r\nL 0 3.5 \r\n\" id=\"m3d8f20c37b\" style=\"stroke:#000000;stroke-width:0.8;\"/>\r\n      </defs>\r\n      <g>\r\n       <use style=\"stroke:#000000;stroke-width:0.8;\" x=\"94.653931\" xlink:href=\"#m3d8f20c37b\" y=\"313.69375\"/>\r\n      </g>\r\n     </g>\r\n     <g id=\"text_1\">\r\n      <!-- 10 -->\r\n      <defs>\r\n       <path d=\"M 12.40625 8.296875 \r\nL 28.515625 8.296875 \r\nL 28.515625 63.921875 \r\nL 10.984375 60.40625 \r\nL 10.984375 69.390625 \r\nL 28.421875 72.90625 \r\nL 38.28125 72.90625 \r\nL 38.28125 8.296875 \r\nL 54.390625 8.296875 \r\nL 54.390625 0 \r\nL 12.40625 0 \r\nz\r\n\" id=\"DejaVuSans-49\"/>\r\n       <path d=\"M 31.78125 66.40625 \r\nQ 24.171875 66.40625 20.328125 58.90625 \r\nQ 16.5 51.421875 16.5 36.375 \r\nQ 16.5 21.390625 20.328125 13.890625 \r\nQ 24.171875 6.390625 31.78125 6.390625 \r\nQ 39.453125 6.390625 43.28125 13.890625 \r\nQ 47.125 21.390625 47.125 36.375 \r\nQ 47.125 51.421875 43.28125 58.90625 \r\nQ 39.453125 66.40625 31.78125 66.40625 \r\nz\r\nM 31.78125 74.21875 \r\nQ 44.046875 74.21875 50.515625 64.515625 \r\nQ 56.984375 54.828125 56.984375 36.375 \r\nQ 56.984375 17.96875 50.515625 8.265625 \r\nQ 44.046875 -1.421875 31.78125 -1.421875 \r\nQ 19.53125 -1.421875 13.0625 8.265625 \r\nQ 6.59375 17.96875 6.59375 36.375 \r\nQ 6.59375 54.828125 13.0625 64.515625 \r\nQ 19.53125 74.21875 31.78125 74.21875 \r\nz\r\n\" id=\"DejaVuSans-48\"/>\r\n      </defs>\r\n      <g transform=\"translate(88.291431 328.292187)scale(0.1 -0.1)\">\r\n       <use xlink:href=\"#DejaVuSans-49\"/>\r\n       <use x=\"63.623047\" xlink:href=\"#DejaVuSans-48\"/>\r\n      </g>\r\n     </g>\r\n    </g>\r\n    <g id=\"xtick_2\">\r\n     <g id=\"line2d_2\">\r\n      <g>\r\n       <use style=\"stroke:#000000;stroke-width:0.8;\" x=\"152.667033\" xlink:href=\"#m3d8f20c37b\" y=\"313.69375\"/>\r\n      </g>\r\n     </g>\r\n     <g id=\"text_2\">\r\n      <!-- 20 -->\r\n      <defs>\r\n       <path d=\"M 19.1875 8.296875 \r\nL 53.609375 8.296875 \r\nL 53.609375 0 \r\nL 7.328125 0 \r\nL 7.328125 8.296875 \r\nQ 12.9375 14.109375 22.625 23.890625 \r\nQ 32.328125 33.6875 34.8125 36.53125 \r\nQ 39.546875 41.84375 41.421875 45.53125 \r\nQ 43.3125 49.21875 43.3125 52.78125 \r\nQ 43.3125 58.59375 39.234375 62.25 \r\nQ 35.15625 65.921875 28.609375 65.921875 \r\nQ 23.96875 65.921875 18.8125 64.3125 \r\nQ 13.671875 62.703125 7.8125 59.421875 \r\nL 7.8125 69.390625 \r\nQ 13.765625 71.78125 18.9375 73 \r\nQ 24.125 74.21875 28.421875 74.21875 \r\nQ 39.75 74.21875 46.484375 68.546875 \r\nQ 53.21875 62.890625 53.21875 53.421875 \r\nQ 53.21875 48.921875 51.53125 44.890625 \r\nQ 49.859375 40.875 45.40625 35.40625 \r\nQ 44.1875 33.984375 37.640625 27.21875 \r\nQ 31.109375 20.453125 19.1875 8.296875 \r\nz\r\n\" id=\"DejaVuSans-50\"/>\r\n      </defs>\r\n      <g transform=\"translate(146.304533 328.292187)scale(0.1 -0.1)\">\r\n       <use xlink:href=\"#DejaVuSans-50\"/>\r\n       <use x=\"63.623047\" xlink:href=\"#DejaVuSans-48\"/>\r\n      </g>\r\n     </g>\r\n    </g>\r\n    <g id=\"xtick_3\">\r\n     <g id=\"line2d_3\">\r\n      <g>\r\n       <use style=\"stroke:#000000;stroke-width:0.8;\" x=\"210.680134\" xlink:href=\"#m3d8f20c37b\" y=\"313.69375\"/>\r\n      </g>\r\n     </g>\r\n     <g id=\"text_3\">\r\n      <!-- 30 -->\r\n      <defs>\r\n       <path d=\"M 40.578125 39.3125 \r\nQ 47.65625 37.796875 51.625 33 \r\nQ 55.609375 28.21875 55.609375 21.1875 \r\nQ 55.609375 10.40625 48.1875 4.484375 \r\nQ 40.765625 -1.421875 27.09375 -1.421875 \r\nQ 22.515625 -1.421875 17.65625 -0.515625 \r\nQ 12.796875 0.390625 7.625 2.203125 \r\nL 7.625 11.71875 \r\nQ 11.71875 9.328125 16.59375 8.109375 \r\nQ 21.484375 6.890625 26.8125 6.890625 \r\nQ 36.078125 6.890625 40.9375 10.546875 \r\nQ 45.796875 14.203125 45.796875 21.1875 \r\nQ 45.796875 27.640625 41.28125 31.265625 \r\nQ 36.765625 34.90625 28.71875 34.90625 \r\nL 20.21875 34.90625 \r\nL 20.21875 43.015625 \r\nL 29.109375 43.015625 \r\nQ 36.375 43.015625 40.234375 45.921875 \r\nQ 44.09375 48.828125 44.09375 54.296875 \r\nQ 44.09375 59.90625 40.109375 62.90625 \r\nQ 36.140625 65.921875 28.71875 65.921875 \r\nQ 24.65625 65.921875 20.015625 65.03125 \r\nQ 15.375 64.15625 9.8125 62.3125 \r\nL 9.8125 71.09375 \r\nQ 15.4375 72.65625 20.34375 73.4375 \r\nQ 25.25 74.21875 29.59375 74.21875 \r\nQ 40.828125 74.21875 47.359375 69.109375 \r\nQ 53.90625 64.015625 53.90625 55.328125 \r\nQ 53.90625 49.265625 50.4375 45.09375 \r\nQ 46.96875 40.921875 40.578125 39.3125 \r\nz\r\n\" id=\"DejaVuSans-51\"/>\r\n      </defs>\r\n      <g transform=\"translate(204.317634 328.292187)scale(0.1 -0.1)\">\r\n       <use xlink:href=\"#DejaVuSans-51\"/>\r\n       <use x=\"63.623047\" xlink:href=\"#DejaVuSans-48\"/>\r\n      </g>\r\n     </g>\r\n    </g>\r\n    <g id=\"xtick_4\">\r\n     <g id=\"line2d_4\">\r\n      <g>\r\n       <use style=\"stroke:#000000;stroke-width:0.8;\" x=\"268.693235\" xlink:href=\"#m3d8f20c37b\" y=\"313.69375\"/>\r\n      </g>\r\n     </g>\r\n     <g id=\"text_4\">\r\n      <!-- 40 -->\r\n      <defs>\r\n       <path d=\"M 37.796875 64.3125 \r\nL 12.890625 25.390625 \r\nL 37.796875 25.390625 \r\nz\r\nM 35.203125 72.90625 \r\nL 47.609375 72.90625 \r\nL 47.609375 25.390625 \r\nL 58.015625 25.390625 \r\nL 58.015625 17.1875 \r\nL 47.609375 17.1875 \r\nL 47.609375 0 \r\nL 37.796875 0 \r\nL 37.796875 17.1875 \r\nL 4.890625 17.1875 \r\nL 4.890625 26.703125 \r\nz\r\n\" id=\"DejaVuSans-52\"/>\r\n      </defs>\r\n      <g transform=\"translate(262.330735 328.292187)scale(0.1 -0.1)\">\r\n       <use xlink:href=\"#DejaVuSans-52\"/>\r\n       <use x=\"63.623047\" xlink:href=\"#DejaVuSans-48\"/>\r\n      </g>\r\n     </g>\r\n    </g>\r\n    <g id=\"xtick_5\">\r\n     <g id=\"line2d_5\">\r\n      <g>\r\n       <use style=\"stroke:#000000;stroke-width:0.8;\" x=\"326.706337\" xlink:href=\"#m3d8f20c37b\" y=\"313.69375\"/>\r\n      </g>\r\n     </g>\r\n     <g id=\"text_5\">\r\n      <!-- 50 -->\r\n      <defs>\r\n       <path d=\"M 10.796875 72.90625 \r\nL 49.515625 72.90625 \r\nL 49.515625 64.59375 \r\nL 19.828125 64.59375 \r\nL 19.828125 46.734375 \r\nQ 21.96875 47.46875 24.109375 47.828125 \r\nQ 26.265625 48.1875 28.421875 48.1875 \r\nQ 40.625 48.1875 47.75 41.5 \r\nQ 54.890625 34.8125 54.890625 23.390625 \r\nQ 54.890625 11.625 47.5625 5.09375 \r\nQ 40.234375 -1.421875 26.90625 -1.421875 \r\nQ 22.3125 -1.421875 17.546875 -0.640625 \r\nQ 12.796875 0.140625 7.71875 1.703125 \r\nL 7.71875 11.625 \r\nQ 12.109375 9.234375 16.796875 8.0625 \r\nQ 21.484375 6.890625 26.703125 6.890625 \r\nQ 35.15625 6.890625 40.078125 11.328125 \r\nQ 45.015625 15.765625 45.015625 23.390625 \r\nQ 45.015625 31 40.078125 35.4375 \r\nQ 35.15625 39.890625 26.703125 39.890625 \r\nQ 22.75 39.890625 18.8125 39.015625 \r\nQ 14.890625 38.140625 10.796875 36.28125 \r\nz\r\n\" id=\"DejaVuSans-53\"/>\r\n      </defs>\r\n      <g transform=\"translate(320.343837 328.292187)scale(0.1 -0.1)\">\r\n       <use xlink:href=\"#DejaVuSans-53\"/>\r\n       <use x=\"63.623047\" xlink:href=\"#DejaVuSans-48\"/>\r\n      </g>\r\n     </g>\r\n    </g>\r\n    <g id=\"text_6\">\r\n     <!-- total_bill -->\r\n     <defs>\r\n      <path d=\"M 18.3125 70.21875 \r\nL 18.3125 54.6875 \r\nL 36.8125 54.6875 \r\nL 36.8125 47.703125 \r\nL 18.3125 47.703125 \r\nL 18.3125 18.015625 \r\nQ 18.3125 11.328125 20.140625 9.421875 \r\nQ 21.96875 7.515625 27.59375 7.515625 \r\nL 36.8125 7.515625 \r\nL 36.8125 0 \r\nL 27.59375 0 \r\nQ 17.1875 0 13.234375 3.875 \r\nQ 9.28125 7.765625 9.28125 18.015625 \r\nL 9.28125 47.703125 \r\nL 2.6875 47.703125 \r\nL 2.6875 54.6875 \r\nL 9.28125 54.6875 \r\nL 9.28125 70.21875 \r\nz\r\n\" id=\"DejaVuSans-116\"/>\r\n      <path d=\"M 30.609375 48.390625 \r\nQ 23.390625 48.390625 19.1875 42.75 \r\nQ 14.984375 37.109375 14.984375 27.296875 \r\nQ 14.984375 17.484375 19.15625 11.84375 \r\nQ 23.34375 6.203125 30.609375 6.203125 \r\nQ 37.796875 6.203125 41.984375 11.859375 \r\nQ 46.1875 17.53125 46.1875 27.296875 \r\nQ 46.1875 37.015625 41.984375 42.703125 \r\nQ 37.796875 48.390625 30.609375 48.390625 \r\nz\r\nM 30.609375 56 \r\nQ 42.328125 56 49.015625 48.375 \r\nQ 55.71875 40.765625 55.71875 27.296875 \r\nQ 55.71875 13.875 49.015625 6.21875 \r\nQ 42.328125 -1.421875 30.609375 -1.421875 \r\nQ 18.84375 -1.421875 12.171875 6.21875 \r\nQ 5.515625 13.875 5.515625 27.296875 \r\nQ 5.515625 40.765625 12.171875 48.375 \r\nQ 18.84375 56 30.609375 56 \r\nz\r\n\" id=\"DejaVuSans-111\"/>\r\n      <path d=\"M 34.28125 27.484375 \r\nQ 23.390625 27.484375 19.1875 25 \r\nQ 14.984375 22.515625 14.984375 16.5 \r\nQ 14.984375 11.71875 18.140625 8.90625 \r\nQ 21.296875 6.109375 26.703125 6.109375 \r\nQ 34.1875 6.109375 38.703125 11.40625 \r\nQ 43.21875 16.703125 43.21875 25.484375 \r\nL 43.21875 27.484375 \r\nz\r\nM 52.203125 31.203125 \r\nL 52.203125 0 \r\nL 43.21875 0 \r\nL 43.21875 8.296875 \r\nQ 40.140625 3.328125 35.546875 0.953125 \r\nQ 30.953125 -1.421875 24.3125 -1.421875 \r\nQ 15.921875 -1.421875 10.953125 3.296875 \r\nQ 6 8.015625 6 15.921875 \r\nQ 6 25.140625 12.171875 29.828125 \r\nQ 18.359375 34.515625 30.609375 34.515625 \r\nL 43.21875 34.515625 \r\nL 43.21875 35.40625 \r\nQ 43.21875 41.609375 39.140625 45 \r\nQ 35.0625 48.390625 27.6875 48.390625 \r\nQ 23 48.390625 18.546875 47.265625 \r\nQ 14.109375 46.140625 10.015625 43.890625 \r\nL 10.015625 52.203125 \r\nQ 14.9375 54.109375 19.578125 55.046875 \r\nQ 24.21875 56 28.609375 56 \r\nQ 40.484375 56 46.34375 49.84375 \r\nQ 52.203125 43.703125 52.203125 31.203125 \r\nz\r\n\" id=\"DejaVuSans-97\"/>\r\n      <path d=\"M 9.421875 75.984375 \r\nL 18.40625 75.984375 \r\nL 18.40625 0 \r\nL 9.421875 0 \r\nz\r\n\" id=\"DejaVuSans-108\"/>\r\n      <path d=\"M 50.984375 -16.609375 \r\nL 50.984375 -23.578125 \r\nL -0.984375 -23.578125 \r\nL -0.984375 -16.609375 \r\nz\r\n\" id=\"DejaVuSans-95\"/>\r\n      <path d=\"M 48.6875 27.296875 \r\nQ 48.6875 37.203125 44.609375 42.84375 \r\nQ 40.53125 48.484375 33.40625 48.484375 \r\nQ 26.265625 48.484375 22.1875 42.84375 \r\nQ 18.109375 37.203125 18.109375 27.296875 \r\nQ 18.109375 17.390625 22.1875 11.75 \r\nQ 26.265625 6.109375 33.40625 6.109375 \r\nQ 40.53125 6.109375 44.609375 11.75 \r\nQ 48.6875 17.390625 48.6875 27.296875 \r\nz\r\nM 18.109375 46.390625 \r\nQ 20.953125 51.265625 25.265625 53.625 \r\nQ 29.59375 56 35.59375 56 \r\nQ 45.5625 56 51.78125 48.09375 \r\nQ 58.015625 40.1875 58.015625 27.296875 \r\nQ 58.015625 14.40625 51.78125 6.484375 \r\nQ 45.5625 -1.421875 35.59375 -1.421875 \r\nQ 29.59375 -1.421875 25.265625 0.953125 \r\nQ 20.953125 3.328125 18.109375 8.203125 \r\nL 18.109375 0 \r\nL 9.078125 0 \r\nL 9.078125 75.984375 \r\nL 18.109375 75.984375 \r\nz\r\n\" id=\"DejaVuSans-98\"/>\r\n      <path d=\"M 9.421875 54.6875 \r\nL 18.40625 54.6875 \r\nL 18.40625 0 \r\nL 9.421875 0 \r\nz\r\nM 9.421875 75.984375 \r\nL 18.40625 75.984375 \r\nL 18.40625 64.59375 \r\nL 9.421875 64.59375 \r\nz\r\n\" id=\"DejaVuSans-105\"/>\r\n     </defs>\r\n     <g transform=\"translate(171.653906 341.970312)scale(0.1 -0.1)\">\r\n      <use xlink:href=\"#DejaVuSans-116\"/>\r\n      <use x=\"39.208984\" xlink:href=\"#DejaVuSans-111\"/>\r\n      <use x=\"100.390625\" xlink:href=\"#DejaVuSans-116\"/>\r\n      <use x=\"139.599609\" xlink:href=\"#DejaVuSans-97\"/>\r\n      <use x=\"200.878906\" xlink:href=\"#DejaVuSans-108\"/>\r\n      <use x=\"228.662109\" xlink:href=\"#DejaVuSans-95\"/>\r\n      <use x=\"278.662109\" xlink:href=\"#DejaVuSans-98\"/>\r\n      <use x=\"342.138672\" xlink:href=\"#DejaVuSans-105\"/>\r\n      <use x=\"369.921875\" xlink:href=\"#DejaVuSans-108\"/>\r\n      <use x=\"397.705078\" xlink:href=\"#DejaVuSans-108\"/>\r\n     </g>\r\n    </g>\r\n   </g>\r\n   <g id=\"matplotlib.axis_2\">\r\n    <g id=\"ytick_1\">\r\n     <g id=\"line2d_6\">\r\n      <defs>\r\n       <path d=\"M 0 0 \r\nL -3.5 0 \r\n\" id=\"ma0cb39a983\" style=\"stroke:#000000;stroke-width:0.8;\"/>\r\n      </defs>\r\n      <g>\r\n       <use style=\"stroke:#000000;stroke-width:0.8;\" x=\"40.603125\" xlink:href=\"#ma0cb39a983\" y=\"268.803251\"/>\r\n      </g>\r\n     </g>\r\n     <g id=\"text_7\">\r\n      <!-- 2 -->\r\n      <g transform=\"translate(27.240625 272.60247)scale(0.1 -0.1)\">\r\n       <use xlink:href=\"#DejaVuSans-50\"/>\r\n      </g>\r\n     </g>\r\n    </g>\r\n    <g id=\"ytick_2\">\r\n     <g id=\"line2d_7\">\r\n      <g>\r\n       <use style=\"stroke:#000000;stroke-width:0.8;\" x=\"40.603125\" xlink:href=\"#ma0cb39a983\" y=\"206.885322\"/>\r\n      </g>\r\n     </g>\r\n     <g id=\"text_8\">\r\n      <!-- 4 -->\r\n      <g transform=\"translate(27.240625 210.684541)scale(0.1 -0.1)\">\r\n       <use xlink:href=\"#DejaVuSans-52\"/>\r\n      </g>\r\n     </g>\r\n    </g>\r\n    <g id=\"ytick_3\">\r\n     <g id=\"line2d_8\">\r\n      <g>\r\n       <use style=\"stroke:#000000;stroke-width:0.8;\" x=\"40.603125\" xlink:href=\"#ma0cb39a983\" y=\"144.967393\"/>\r\n      </g>\r\n     </g>\r\n     <g id=\"text_9\">\r\n      <!-- 6 -->\r\n      <defs>\r\n       <path d=\"M 33.015625 40.375 \r\nQ 26.375 40.375 22.484375 35.828125 \r\nQ 18.609375 31.296875 18.609375 23.390625 \r\nQ 18.609375 15.53125 22.484375 10.953125 \r\nQ 26.375 6.390625 33.015625 6.390625 \r\nQ 39.65625 6.390625 43.53125 10.953125 \r\nQ 47.40625 15.53125 47.40625 23.390625 \r\nQ 47.40625 31.296875 43.53125 35.828125 \r\nQ 39.65625 40.375 33.015625 40.375 \r\nz\r\nM 52.59375 71.296875 \r\nL 52.59375 62.3125 \r\nQ 48.875 64.0625 45.09375 64.984375 \r\nQ 41.3125 65.921875 37.59375 65.921875 \r\nQ 27.828125 65.921875 22.671875 59.328125 \r\nQ 17.53125 52.734375 16.796875 39.40625 \r\nQ 19.671875 43.65625 24.015625 45.921875 \r\nQ 28.375 48.1875 33.59375 48.1875 \r\nQ 44.578125 48.1875 50.953125 41.515625 \r\nQ 57.328125 34.859375 57.328125 23.390625 \r\nQ 57.328125 12.15625 50.6875 5.359375 \r\nQ 44.046875 -1.421875 33.015625 -1.421875 \r\nQ 20.359375 -1.421875 13.671875 8.265625 \r\nQ 6.984375 17.96875 6.984375 36.375 \r\nQ 6.984375 53.65625 15.1875 63.9375 \r\nQ 23.390625 74.21875 37.203125 74.21875 \r\nQ 40.921875 74.21875 44.703125 73.484375 \r\nQ 48.484375 72.75 52.59375 71.296875 \r\nz\r\n\" id=\"DejaVuSans-54\"/>\r\n      </defs>\r\n      <g transform=\"translate(27.240625 148.766611)scale(0.1 -0.1)\">\r\n       <use xlink:href=\"#DejaVuSans-54\"/>\r\n      </g>\r\n     </g>\r\n    </g>\r\n    <g id=\"ytick_4\">\r\n     <g id=\"line2d_9\">\r\n      <g>\r\n       <use style=\"stroke:#000000;stroke-width:0.8;\" x=\"40.603125\" xlink:href=\"#ma0cb39a983\" y=\"83.049463\"/>\r\n      </g>\r\n     </g>\r\n     <g id=\"text_10\">\r\n      <!-- 8 -->\r\n      <defs>\r\n       <path d=\"M 31.78125 34.625 \r\nQ 24.75 34.625 20.71875 30.859375 \r\nQ 16.703125 27.09375 16.703125 20.515625 \r\nQ 16.703125 13.921875 20.71875 10.15625 \r\nQ 24.75 6.390625 31.78125 6.390625 \r\nQ 38.8125 6.390625 42.859375 10.171875 \r\nQ 46.921875 13.96875 46.921875 20.515625 \r\nQ 46.921875 27.09375 42.890625 30.859375 \r\nQ 38.875 34.625 31.78125 34.625 \r\nz\r\nM 21.921875 38.8125 \r\nQ 15.578125 40.375 12.03125 44.71875 \r\nQ 8.5 49.078125 8.5 55.328125 \r\nQ 8.5 64.0625 14.71875 69.140625 \r\nQ 20.953125 74.21875 31.78125 74.21875 \r\nQ 42.671875 74.21875 48.875 69.140625 \r\nQ 55.078125 64.0625 55.078125 55.328125 \r\nQ 55.078125 49.078125 51.53125 44.71875 \r\nQ 48 40.375 41.703125 38.8125 \r\nQ 48.828125 37.15625 52.796875 32.3125 \r\nQ 56.78125 27.484375 56.78125 20.515625 \r\nQ 56.78125 9.90625 50.3125 4.234375 \r\nQ 43.84375 -1.421875 31.78125 -1.421875 \r\nQ 19.734375 -1.421875 13.25 4.234375 \r\nQ 6.78125 9.90625 6.78125 20.515625 \r\nQ 6.78125 27.484375 10.78125 32.3125 \r\nQ 14.796875 37.15625 21.921875 38.8125 \r\nz\r\nM 18.3125 54.390625 \r\nQ 18.3125 48.734375 21.84375 45.5625 \r\nQ 25.390625 42.390625 31.78125 42.390625 \r\nQ 38.140625 42.390625 41.71875 45.5625 \r\nQ 45.3125 48.734375 45.3125 54.390625 \r\nQ 45.3125 60.0625 41.71875 63.234375 \r\nQ 38.140625 66.40625 31.78125 66.40625 \r\nQ 25.390625 66.40625 21.84375 63.234375 \r\nQ 18.3125 60.0625 18.3125 54.390625 \r\nz\r\n\" id=\"DejaVuSans-56\"/>\r\n      </defs>\r\n      <g transform=\"translate(27.240625 86.848682)scale(0.1 -0.1)\">\r\n       <use xlink:href=\"#DejaVuSans-56\"/>\r\n      </g>\r\n     </g>\r\n    </g>\r\n    <g id=\"ytick_5\">\r\n     <g id=\"line2d_10\">\r\n      <g>\r\n       <use style=\"stroke:#000000;stroke-width:0.8;\" x=\"40.603125\" xlink:href=\"#ma0cb39a983\" y=\"21.131534\"/>\r\n      </g>\r\n     </g>\r\n     <g id=\"text_11\">\r\n      <!-- 10 -->\r\n      <g transform=\"translate(20.878125 24.930753)scale(0.1 -0.1)\">\r\n       <use xlink:href=\"#DejaVuSans-49\"/>\r\n       <use x=\"63.623047\" xlink:href=\"#DejaVuSans-48\"/>\r\n      </g>\r\n     </g>\r\n    </g>\r\n    <g id=\"text_12\">\r\n     <!-- tip -->\r\n     <defs>\r\n      <path d=\"M 18.109375 8.203125 \r\nL 18.109375 -20.796875 \r\nL 9.078125 -20.796875 \r\nL 9.078125 54.6875 \r\nL 18.109375 54.6875 \r\nL 18.109375 46.390625 \r\nQ 20.953125 51.265625 25.265625 53.625 \r\nQ 29.59375 56 35.59375 56 \r\nQ 45.5625 56 51.78125 48.09375 \r\nQ 58.015625 40.1875 58.015625 27.296875 \r\nQ 58.015625 14.40625 51.78125 6.484375 \r\nQ 45.5625 -1.421875 35.59375 -1.421875 \r\nQ 29.59375 -1.421875 25.265625 0.953125 \r\nQ 20.953125 3.328125 18.109375 8.203125 \r\nz\r\nM 48.6875 27.296875 \r\nQ 48.6875 37.203125 44.609375 42.84375 \r\nQ 40.53125 48.484375 33.40625 48.484375 \r\nQ 26.265625 48.484375 22.1875 42.84375 \r\nQ 18.109375 37.203125 18.109375 27.296875 \r\nQ 18.109375 17.390625 22.1875 11.75 \r\nQ 26.265625 6.109375 33.40625 6.109375 \r\nQ 40.53125 6.109375 44.609375 11.75 \r\nQ 48.6875 17.390625 48.6875 27.296875 \r\nz\r\n\" id=\"DejaVuSans-112\"/>\r\n     </defs>\r\n     <g transform=\"translate(14.798438 166.970312)rotate(-90)scale(0.1 -0.1)\">\r\n      <use xlink:href=\"#DejaVuSans-116\"/>\r\n      <use x=\"39.208984\" xlink:href=\"#DejaVuSans-105\"/>\r\n      <use x=\"66.992188\" xlink:href=\"#DejaVuSans-112\"/>\r\n     </g>\r\n    </g>\r\n   </g>\r\n   <g id=\"patch_3\">\r\n    <path d=\"M 40.603125 313.69375 \r\nL 40.603125 7.2 \r\n\" style=\"fill:none;stroke:#000000;stroke-linecap:square;stroke-linejoin:miter;stroke-width:0.8;\"/>\r\n   </g>\r\n   <g id=\"patch_4\">\r\n    <path d=\"M 40.603125 313.69375 \r\nL 345.253125 313.69375 \r\n\" style=\"fill:none;stroke:#000000;stroke-linecap:square;stroke-linejoin:miter;stroke-width:0.8;\"/>\r\n   </g>\r\n  </g>\r\n </g>\r\n <defs>\r\n  <clipPath id=\"p172e759f24\">\r\n   <rect height=\"306.49375\" width=\"304.65\" x=\"40.603125\" y=\"7.2\"/>\r\n  </clipPath>\r\n </defs>\r\n</svg>\r\n",
      "image/png": "[encoded data removed]"
     },
     "metadata": {
      "needs_background": "light"
     }
    }
   ],
   "source": [
    "tips = sns.load_dataset(\"tips\")\n",
    "sns.relplot(x=\"total_bill\", y=\"tip\", data=tips)"
   ]
  },
  {
   "cell_type": "code",
   "execution_count": 11,
   "metadata": {},
   "outputs": [
    {
     "output_type": "execute_result",
     "data": {
      "text/plain": [
       "    finish              name  age country     time Unnamed: 5 Unnamed: 6\n",
       "0        1     Leopold, Axel  MA1     USA    43.04        NaN        NaN\n",
       "1        2     Barber, Caden  MA1     USA    44.28        NaN        NaN\n",
       "2        3     Jostes, Milan  MA1     USA    45.03         SB        NaN\n",
       "3        4        Tsai, Alan  MA1     USA    45.56         PR         SB\n",
       "4        5        Weber, Max  MYA     USA    46.46         PR         SB\n",
       "5        6       Shobe, Carl  MC2     USA    47.93         SB        NaN\n",
       "6        7    Campbell, Ezra  MC2     USA    50.95        NaN        NaN\n",
       "7        8   Jensen, Zachary  MB1     USA    51.57        NaN        NaN\n",
       "8        9    Kosel, Patrick  MC1     USA    53.29        NaN        NaN\n",
       "9       10  Kriieter, Joshua   M?     USA    53.32         PR         SB\n",
       "10      11  Chamberlain, Sam  MYB     USA    54.15         PR         SB\n",
       "11      12    Moreton, Brock  MC1     USA    56.52         PR         SB\n",
       "12      13     Nagel, Edward  MC1     USA    57.30         PR         SB\n",
       "13      14      Groven, Adam  MC2     USA  1.00.73        NaN        NaN"
      ],
      "text/html": "<div>\n<style scoped>\n    .dataframe tbody tr th:only-of-type {\n        vertical-align: middle;\n    }\n\n    .dataframe tbody tr th {\n        vertical-align: top;\n    }\n\n    .dataframe thead th {\n        text-align: right;\n    }\n</style>\n<table border=\"1\" class=\"dataframe\">\n  <thead>\n    <tr style=\"text-align: right;\">\n      <th></th>\n      <th>finish</th>\n      <th>name</th>\n      <th>age</th>\n      <th>country</th>\n      <th>time</th>\n      <th>Unnamed: 5</th>\n      <th>Unnamed: 6</th>\n    </tr>\n  </thead>\n  <tbody>\n    <tr>\n      <th>0</th>\n      <td>1</td>\n      <td>Leopold, Axel</td>\n      <td>MA1</td>\n      <td>USA</td>\n      <td>43.04</td>\n      <td>NaN</td>\n      <td>NaN</td>\n    </tr>\n    <tr>\n      <th>1</th>\n      <td>2</td>\n      <td>Barber, Caden</td>\n      <td>MA1</td>\n      <td>USA</td>\n      <td>44.28</td>\n      <td>NaN</td>\n      <td>NaN</td>\n    </tr>\n    <tr>\n      <th>2</th>\n      <td>3</td>\n      <td>Jostes, Milan</td>\n      <td>MA1</td>\n      <td>USA</td>\n      <td>45.03</td>\n      <td>SB</td>\n      <td>NaN</td>\n    </tr>\n    <tr>\n      <th>3</th>\n      <td>4</td>\n      <td>Tsai, Alan</td>\n      <td>MA1</td>\n      <td>USA</td>\n      <td>45.56</td>\n      <td>PR</td>\n      <td>SB</td>\n    </tr>\n    <tr>\n      <th>4</th>\n      <td>5</td>\n      <td>Weber, Max</td>\n      <td>MYA</td>\n      <td>USA</td>\n      <td>46.46</td>\n      <td>PR</td>\n      <td>SB</td>\n    </tr>\n    <tr>\n      <th>5</th>\n      <td>6</td>\n      <td>Shobe, Carl</td>\n      <td>MC2</td>\n      <td>USA</td>\n      <td>47.93</td>\n      <td>SB</td>\n      <td>NaN</td>\n    </tr>\n    <tr>\n      <th>6</th>\n      <td>7</td>\n      <td>Campbell, Ezra</td>\n      <td>MC2</td>\n      <td>USA</td>\n      <td>50.95</td>\n      <td>NaN</td>\n      <td>NaN</td>\n    </tr>\n    <tr>\n      <th>7</th>\n      <td>8</td>\n      <td>Jensen, Zachary</td>\n      <td>MB1</td>\n      <td>USA</td>\n      <td>51.57</td>\n      <td>NaN</td>\n      <td>NaN</td>\n    </tr>\n    <tr>\n      <th>8</th>\n      <td>9</td>\n      <td>Kosel, Patrick</td>\n      <td>MC1</td>\n      <td>USA</td>\n      <td>53.29</td>\n      <td>NaN</td>\n      <td>NaN</td>\n    </tr>\n    <tr>\n      <th>9</th>\n      <td>10</td>\n      <td>Kriieter, Joshua</td>\n      <td>M?</td>\n      <td>USA</td>\n      <td>53.32</td>\n      <td>PR</td>\n      <td>SB</td>\n    </tr>\n    <tr>\n      <th>10</th>\n      <td>11</td>\n      <td>Chamberlain, Sam</td>\n      <td>MYB</td>\n      <td>USA</td>\n      <td>54.15</td>\n      <td>PR</td>\n      <td>SB</td>\n    </tr>\n    <tr>\n      <th>11</th>\n      <td>12</td>\n      <td>Moreton, Brock</td>\n      <td>MC1</td>\n      <td>USA</td>\n      <td>56.52</td>\n      <td>PR</td>\n      <td>SB</td>\n    </tr>\n    <tr>\n      <th>12</th>\n      <td>13</td>\n      <td>Nagel, Edward</td>\n      <td>MC1</td>\n      <td>USA</td>\n      <td>57.30</td>\n      <td>PR</td>\n      <td>SB</td>\n    </tr>\n    <tr>\n      <th>13</th>\n      <td>14</td>\n      <td>Groven, Adam</td>\n      <td>MC2</td>\n      <td>USA</td>\n      <td>1.00.73</td>\n      <td>NaN</td>\n      <td>NaN</td>\n    </tr>\n  </tbody>\n</table>\n</div>"
     },
     "metadata": {},
     "execution_count": 11
    }
   ],
   "source": [
    "# Convert to usable time format.\n",
    "df['time']= df['time'].str.replace(',', '.')\n",
    "#df['time']= df['time'].str.replace('.', ':')\n",
    "df\n",
    "#x = datetime.datetime.strptime(row['Result'], \"%S.%f\")\n",
    "            #return datetime.timedelta(, seconds=x.second, microseconds = x.microsecond).total_seconds()"
   ]
  },
  {
   "cell_type": "code",
   "execution_count": 13,
   "metadata": {},
   "outputs": [],
   "source": [
    "df = df.drop([13])\n"
   ]
  },
  {
   "cell_type": "code",
   "execution_count": 12,
   "metadata": {},
   "outputs": [
    {
     "output_type": "error",
     "ename": "ValueError",
     "evalue": "could not convert string to float: '1.00.73'",
     "traceback": [
      "\u001b[1;31m---------------------------------------------------------------------------\u001b[0m",
      "\u001b[1;31mValueError\u001b[0m                                Traceback (most recent call last)",
      "\u001b[1;32m<ipython-input-12-29510cb49432>\u001b[0m in \u001b[0;36m<module>\u001b[1;34m\u001b[0m\n\u001b[0;32m      1\u001b[0m \u001b[1;31m# covert object to float\u001b[0m\u001b[1;33m\u001b[0m\u001b[1;33m\u001b[0m\u001b[1;33m\u001b[0m\u001b[0m\n\u001b[1;32m----> 2\u001b[1;33m \u001b[0mdf\u001b[0m\u001b[1;33m[\u001b[0m\u001b[1;34m'time'\u001b[0m\u001b[1;33m]\u001b[0m \u001b[1;33m=\u001b[0m \u001b[0mdf\u001b[0m\u001b[1;33m.\u001b[0m\u001b[0mtime\u001b[0m\u001b[1;33m.\u001b[0m\u001b[0mastype\u001b[0m\u001b[1;33m(\u001b[0m\u001b[0mfloat\u001b[0m\u001b[1;33m)\u001b[0m\u001b[1;33m\u001b[0m\u001b[1;33m\u001b[0m\u001b[0m\n\u001b[0m",
      "\u001b[1;32m~\\Anaconda3\\lib\\site-packages\\pandas\\core\\generic.py\u001b[0m in \u001b[0;36mastype\u001b[1;34m(self, dtype, copy, errors)\u001b[0m\n\u001b[0;32m   5696\u001b[0m         \u001b[1;32melse\u001b[0m\u001b[1;33m:\u001b[0m\u001b[1;33m\u001b[0m\u001b[1;33m\u001b[0m\u001b[0m\n\u001b[0;32m   5697\u001b[0m             \u001b[1;31m# else, only a single dtype is given\u001b[0m\u001b[1;33m\u001b[0m\u001b[1;33m\u001b[0m\u001b[1;33m\u001b[0m\u001b[0m\n\u001b[1;32m-> 5698\u001b[1;33m             \u001b[0mnew_data\u001b[0m \u001b[1;33m=\u001b[0m \u001b[0mself\u001b[0m\u001b[1;33m.\u001b[0m\u001b[0m_data\u001b[0m\u001b[1;33m.\u001b[0m\u001b[0mastype\u001b[0m\u001b[1;33m(\u001b[0m\u001b[0mdtype\u001b[0m\u001b[1;33m=\u001b[0m\u001b[0mdtype\u001b[0m\u001b[1;33m,\u001b[0m \u001b[0mcopy\u001b[0m\u001b[1;33m=\u001b[0m\u001b[0mcopy\u001b[0m\u001b[1;33m,\u001b[0m \u001b[0merrors\u001b[0m\u001b[1;33m=\u001b[0m\u001b[0merrors\u001b[0m\u001b[1;33m)\u001b[0m\u001b[1;33m\u001b[0m\u001b[1;33m\u001b[0m\u001b[0m\n\u001b[0m\u001b[0;32m   5699\u001b[0m             \u001b[1;32mreturn\u001b[0m \u001b[0mself\u001b[0m\u001b[1;33m.\u001b[0m\u001b[0m_constructor\u001b[0m\u001b[1;33m(\u001b[0m\u001b[0mnew_data\u001b[0m\u001b[1;33m)\u001b[0m\u001b[1;33m.\u001b[0m\u001b[0m__finalize__\u001b[0m\u001b[1;33m(\u001b[0m\u001b[0mself\u001b[0m\u001b[1;33m)\u001b[0m\u001b[1;33m\u001b[0m\u001b[1;33m\u001b[0m\u001b[0m\n\u001b[0;32m   5700\u001b[0m \u001b[1;33m\u001b[0m\u001b[0m\n",
      "\u001b[1;32m~\\Anaconda3\\lib\\site-packages\\pandas\\core\\internals\\managers.py\u001b[0m in \u001b[0;36mastype\u001b[1;34m(self, dtype, copy, errors)\u001b[0m\n\u001b[0;32m    580\u001b[0m \u001b[1;33m\u001b[0m\u001b[0m\n\u001b[0;32m    581\u001b[0m     \u001b[1;32mdef\u001b[0m \u001b[0mastype\u001b[0m\u001b[1;33m(\u001b[0m\u001b[0mself\u001b[0m\u001b[1;33m,\u001b[0m \u001b[0mdtype\u001b[0m\u001b[1;33m,\u001b[0m \u001b[0mcopy\u001b[0m\u001b[1;33m:\u001b[0m \u001b[0mbool\u001b[0m \u001b[1;33m=\u001b[0m \u001b[1;32mFalse\u001b[0m\u001b[1;33m,\u001b[0m \u001b[0merrors\u001b[0m\u001b[1;33m:\u001b[0m \u001b[0mstr\u001b[0m \u001b[1;33m=\u001b[0m \u001b[1;34m\"raise\"\u001b[0m\u001b[1;33m)\u001b[0m\u001b[1;33m:\u001b[0m\u001b[1;33m\u001b[0m\u001b[1;33m\u001b[0m\u001b[0m\n\u001b[1;32m--> 582\u001b[1;33m         \u001b[1;32mreturn\u001b[0m \u001b[0mself\u001b[0m\u001b[1;33m.\u001b[0m\u001b[0mapply\u001b[0m\u001b[1;33m(\u001b[0m\u001b[1;34m\"astype\"\u001b[0m\u001b[1;33m,\u001b[0m \u001b[0mdtype\u001b[0m\u001b[1;33m=\u001b[0m\u001b[0mdtype\u001b[0m\u001b[1;33m,\u001b[0m \u001b[0mcopy\u001b[0m\u001b[1;33m=\u001b[0m\u001b[0mcopy\u001b[0m\u001b[1;33m,\u001b[0m \u001b[0merrors\u001b[0m\u001b[1;33m=\u001b[0m\u001b[0merrors\u001b[0m\u001b[1;33m)\u001b[0m\u001b[1;33m\u001b[0m\u001b[1;33m\u001b[0m\u001b[0m\n\u001b[0m\u001b[0;32m    583\u001b[0m \u001b[1;33m\u001b[0m\u001b[0m\n\u001b[0;32m    584\u001b[0m     \u001b[1;32mdef\u001b[0m \u001b[0mconvert\u001b[0m\u001b[1;33m(\u001b[0m\u001b[0mself\u001b[0m\u001b[1;33m,\u001b[0m \u001b[1;33m**\u001b[0m\u001b[0mkwargs\u001b[0m\u001b[1;33m)\u001b[0m\u001b[1;33m:\u001b[0m\u001b[1;33m\u001b[0m\u001b[1;33m\u001b[0m\u001b[0m\n",
      "\u001b[1;32m~\\Anaconda3\\lib\\site-packages\\pandas\\core\\internals\\managers.py\u001b[0m in \u001b[0;36mapply\u001b[1;34m(self, f, filter, **kwargs)\u001b[0m\n\u001b[0;32m    440\u001b[0m                 \u001b[0mapplied\u001b[0m \u001b[1;33m=\u001b[0m \u001b[0mb\u001b[0m\u001b[1;33m.\u001b[0m\u001b[0mapply\u001b[0m\u001b[1;33m(\u001b[0m\u001b[0mf\u001b[0m\u001b[1;33m,\u001b[0m \u001b[1;33m**\u001b[0m\u001b[0mkwargs\u001b[0m\u001b[1;33m)\u001b[0m\u001b[1;33m\u001b[0m\u001b[1;33m\u001b[0m\u001b[0m\n\u001b[0;32m    441\u001b[0m             \u001b[1;32melse\u001b[0m\u001b[1;33m:\u001b[0m\u001b[1;33m\u001b[0m\u001b[1;33m\u001b[0m\u001b[0m\n\u001b[1;32m--> 442\u001b[1;33m                 \u001b[0mapplied\u001b[0m \u001b[1;33m=\u001b[0m \u001b[0mgetattr\u001b[0m\u001b[1;33m(\u001b[0m\u001b[0mb\u001b[0m\u001b[1;33m,\u001b[0m \u001b[0mf\u001b[0m\u001b[1;33m)\u001b[0m\u001b[1;33m(\u001b[0m\u001b[1;33m**\u001b[0m\u001b[0mkwargs\u001b[0m\u001b[1;33m)\u001b[0m\u001b[1;33m\u001b[0m\u001b[1;33m\u001b[0m\u001b[0m\n\u001b[0m\u001b[0;32m    443\u001b[0m             \u001b[0mresult_blocks\u001b[0m \u001b[1;33m=\u001b[0m \u001b[0m_extend_blocks\u001b[0m\u001b[1;33m(\u001b[0m\u001b[0mapplied\u001b[0m\u001b[1;33m,\u001b[0m \u001b[0mresult_blocks\u001b[0m\u001b[1;33m)\u001b[0m\u001b[1;33m\u001b[0m\u001b[1;33m\u001b[0m\u001b[0m\n\u001b[0;32m    444\u001b[0m \u001b[1;33m\u001b[0m\u001b[0m\n",
      "\u001b[1;32m~\\Anaconda3\\lib\\site-packages\\pandas\\core\\internals\\blocks.py\u001b[0m in \u001b[0;36mastype\u001b[1;34m(self, dtype, copy, errors)\u001b[0m\n\u001b[0;32m    623\u001b[0m             \u001b[0mvals1d\u001b[0m \u001b[1;33m=\u001b[0m \u001b[0mvalues\u001b[0m\u001b[1;33m.\u001b[0m\u001b[0mravel\u001b[0m\u001b[1;33m(\u001b[0m\u001b[1;33m)\u001b[0m\u001b[1;33m\u001b[0m\u001b[1;33m\u001b[0m\u001b[0m\n\u001b[0;32m    624\u001b[0m             \u001b[1;32mtry\u001b[0m\u001b[1;33m:\u001b[0m\u001b[1;33m\u001b[0m\u001b[1;33m\u001b[0m\u001b[0m\n\u001b[1;32m--> 625\u001b[1;33m                 \u001b[0mvalues\u001b[0m \u001b[1;33m=\u001b[0m \u001b[0mastype_nansafe\u001b[0m\u001b[1;33m(\u001b[0m\u001b[0mvals1d\u001b[0m\u001b[1;33m,\u001b[0m \u001b[0mdtype\u001b[0m\u001b[1;33m,\u001b[0m \u001b[0mcopy\u001b[0m\u001b[1;33m=\u001b[0m\u001b[1;32mTrue\u001b[0m\u001b[1;33m)\u001b[0m\u001b[1;33m\u001b[0m\u001b[1;33m\u001b[0m\u001b[0m\n\u001b[0m\u001b[0;32m    626\u001b[0m             \u001b[1;32mexcept\u001b[0m \u001b[1;33m(\u001b[0m\u001b[0mValueError\u001b[0m\u001b[1;33m,\u001b[0m \u001b[0mTypeError\u001b[0m\u001b[1;33m)\u001b[0m\u001b[1;33m:\u001b[0m\u001b[1;33m\u001b[0m\u001b[1;33m\u001b[0m\u001b[0m\n\u001b[0;32m    627\u001b[0m                 \u001b[1;31m# e.g. astype_nansafe can fail on object-dtype of strings\u001b[0m\u001b[1;33m\u001b[0m\u001b[1;33m\u001b[0m\u001b[1;33m\u001b[0m\u001b[0m\n",
      "\u001b[1;32m~\\Anaconda3\\lib\\site-packages\\pandas\\core\\dtypes\\cast.py\u001b[0m in \u001b[0;36mastype_nansafe\u001b[1;34m(arr, dtype, copy, skipna)\u001b[0m\n\u001b[0;32m    895\u001b[0m     \u001b[1;32mif\u001b[0m \u001b[0mcopy\u001b[0m \u001b[1;32mor\u001b[0m \u001b[0mis_object_dtype\u001b[0m\u001b[1;33m(\u001b[0m\u001b[0marr\u001b[0m\u001b[1;33m)\u001b[0m \u001b[1;32mor\u001b[0m \u001b[0mis_object_dtype\u001b[0m\u001b[1;33m(\u001b[0m\u001b[0mdtype\u001b[0m\u001b[1;33m)\u001b[0m\u001b[1;33m:\u001b[0m\u001b[1;33m\u001b[0m\u001b[1;33m\u001b[0m\u001b[0m\n\u001b[0;32m    896\u001b[0m         \u001b[1;31m# Explicit copy, or required since NumPy can't view from / to object.\u001b[0m\u001b[1;33m\u001b[0m\u001b[1;33m\u001b[0m\u001b[1;33m\u001b[0m\u001b[0m\n\u001b[1;32m--> 897\u001b[1;33m         \u001b[1;32mreturn\u001b[0m \u001b[0marr\u001b[0m\u001b[1;33m.\u001b[0m\u001b[0mastype\u001b[0m\u001b[1;33m(\u001b[0m\u001b[0mdtype\u001b[0m\u001b[1;33m,\u001b[0m \u001b[0mcopy\u001b[0m\u001b[1;33m=\u001b[0m\u001b[1;32mTrue\u001b[0m\u001b[1;33m)\u001b[0m\u001b[1;33m\u001b[0m\u001b[1;33m\u001b[0m\u001b[0m\n\u001b[0m\u001b[0;32m    898\u001b[0m \u001b[1;33m\u001b[0m\u001b[0m\n\u001b[0;32m    899\u001b[0m     \u001b[1;32mreturn\u001b[0m \u001b[0marr\u001b[0m\u001b[1;33m.\u001b[0m\u001b[0mview\u001b[0m\u001b[1;33m(\u001b[0m\u001b[0mdtype\u001b[0m\u001b[1;33m)\u001b[0m\u001b[1;33m\u001b[0m\u001b[1;33m\u001b[0m\u001b[0m\n",
      "\u001b[1;31mValueError\u001b[0m: could not convert string to float: '1.00.73'"
     ]
    }
   ],
   "source": [
    "# covert object to float\n",
    "df['time'] = df.time.astype(float)"
   ]
  },
  {
   "cell_type": "code",
   "execution_count": 14,
   "metadata": {},
   "outputs": [
    {
     "output_type": "execute_result",
     "data": {
      "text/plain": [
       "   finish           name  age country   time Unnamed: 5 Unnamed: 6\n",
       "0       1  Leopold, Axel  MA1     USA  43.04        NaN        NaN"
      ],
      "text/html": "<div>\n<style scoped>\n    .dataframe tbody tr th:only-of-type {\n        vertical-align: middle;\n    }\n\n    .dataframe tbody tr th {\n        vertical-align: top;\n    }\n\n    .dataframe thead th {\n        text-align: right;\n    }\n</style>\n<table border=\"1\" class=\"dataframe\">\n  <thead>\n    <tr style=\"text-align: right;\">\n      <th></th>\n      <th>finish</th>\n      <th>name</th>\n      <th>age</th>\n      <th>country</th>\n      <th>time</th>\n      <th>Unnamed: 5</th>\n      <th>Unnamed: 6</th>\n    </tr>\n  </thead>\n  <tbody>\n    <tr>\n      <th>0</th>\n      <td>1</td>\n      <td>Leopold, Axel</td>\n      <td>MA1</td>\n      <td>USA</td>\n      <td>43.04</td>\n      <td>NaN</td>\n      <td>NaN</td>\n    </tr>\n  </tbody>\n</table>\n</div>"
     },
     "metadata": {},
     "execution_count": 14
    }
   ],
   "source": [
    "df.dtypes\n",
    "df.sample()"
   ]
  },
  {
   "cell_type": "code",
   "execution_count": 15,
   "metadata": {},
   "outputs": [],
   "source": [
    "df.to_csv(\"tab.csv\")"
   ]
  },
  {
   "cell_type": "code",
   "execution_count": 8,
   "metadata": {},
   "outputs": [
    {
     "output_type": "display_data",
     "data": {
      "application/vnd.plotly.v1+json": {
       "config": {
        "plotlyServerURL": "https://plot.ly"
       },
       "data": [
        {
         "hovertemplate": "name=%{x}<br>time=%{y}<extra></extra>",
         "legendgroup": "",
         "line": {
          "color": "#636efa",
          "dash": "solid"
         },
         "mode": "lines",
         "name": "",
         "orientation": "v",
         "showlegend": false,
         "type": "scatter",
         "x": [
          "Leopold, Axel",
          "Barber, Caden",
          "Jostes, Milan",
          "Tsai, Alan",
          "Weber, Max",
          "Shobe, Carl",
          "Campbell, Ezra",
          "Jensen, Zachary",
          "Kosel, Patrick",
          "Kriieter, Joshua",
          "Chamberlain, Sam",
          "Moreton, Brock",
          "Nagel, Edward"
         ],
         "xaxis": "x",
         "y": [
          43.04,
          44.28,
          45.03,
          45.56,
          46.46,
          47.93,
          50.95,
          51.57,
          53.29,
          53.32,
          54.15,
          56.52,
          57.3
         ],
         "yaxis": "y"
        }
       ],
       "layout": {
        "legend": {
         "tracegroupgap": 0
        },
        "margin": {
         "t": 60
        },
        "template": {
         "data": {
          "bar": [
           {
            "error_x": {
             "color": "#2a3f5f"
            },
            "error_y": {
             "color": "#2a3f5f"
            },
            "marker": {
             "line": {
              "color": "#E5ECF6",
              "width": 0.5
             }
            },
            "type": "bar"
           }
          ],
          "barpolar": [
           {
            "marker": {
             "line": {
              "color": "#E5ECF6",
              "width": 0.5
             }
            },
            "type": "barpolar"
           }
          ],
          "carpet": [
           {
            "aaxis": {
             "endlinecolor": "#2a3f5f",
             "gridcolor": "white",
             "linecolor": "white",
             "minorgridcolor": "white",
             "startlinecolor": "#2a3f5f"
            },
            "baxis": {
             "endlinecolor": "#2a3f5f",
             "gridcolor": "white",
             "linecolor": "white",
             "minorgridcolor": "white",
             "startlinecolor": "#2a3f5f"
            },
            "type": "carpet"
           }
          ],
          "choropleth": [
           {
            "colorbar": {
             "outlinewidth": 0,
             "ticks": ""
            },
            "type": "choropleth"
           }
          ],
          "contour": [
           {
            "colorbar": {
             "outlinewidth": 0,
             "ticks": ""
            },
            "colorscale": [
             [
              0,
              "#0d0887"
             ],
             [
              0.1111111111111111,
              "#46039f"
             ],
             [
              0.2222222222222222,
              "#7201a8"
             ],
             [
              0.3333333333333333,
              "#9c179e"
             ],
             [
              0.4444444444444444,
              "#bd3786"
             ],
             [
              0.5555555555555556,
              "#d8576b"
             ],
             [
              0.6666666666666666,
              "#ed7953"
             ],
             [
              0.7777777777777778,
              "#fb9f3a"
             ],
             [
              0.8888888888888888,
              "#fdca26"
             ],
             [
              1,
              "#f0f921"
             ]
            ],
            "type": "contour"
           }
          ],
          "contourcarpet": [
           {
            "colorbar": {
             "outlinewidth": 0,
             "ticks": ""
            },
            "type": "contourcarpet"
           }
          ],
          "heatmap": [
           {
            "colorbar": {
             "outlinewidth": 0,
             "ticks": ""
            },
            "colorscale": [
             [
              0,
              "#0d0887"
             ],
             [
              0.1111111111111111,
              "#46039f"
             ],
             [
              0.2222222222222222,
              "#7201a8"
             ],
             [
              0.3333333333333333,
              "#9c179e"
             ],
             [
              0.4444444444444444,
              "#bd3786"
             ],
             [
              0.5555555555555556,
              "#d8576b"
             ],
             [
              0.6666666666666666,
              "#ed7953"
             ],
             [
              0.7777777777777778,
              "#fb9f3a"
             ],
             [
              0.8888888888888888,
              "#fdca26"
             ],
             [
              1,
              "#f0f921"
             ]
            ],
            "type": "heatmap"
           }
          ],
          "heatmapgl": [
           {
            "colorbar": {
             "outlinewidth": 0,
             "ticks": ""
            },
            "colorscale": [
             [
              0,
              "#0d0887"
             ],
             [
              0.1111111111111111,
              "#46039f"
             ],
             [
              0.2222222222222222,
              "#7201a8"
             ],
             [
              0.3333333333333333,
              "#9c179e"
             ],
             [
              0.4444444444444444,
              "#bd3786"
             ],
             [
              0.5555555555555556,
              "#d8576b"
             ],
             [
              0.6666666666666666,
              "#ed7953"
             ],
             [
              0.7777777777777778,
              "#fb9f3a"
             ],
             [
              0.8888888888888888,
              "#fdca26"
             ],
             [
              1,
              "#f0f921"
             ]
            ],
            "type": "heatmapgl"
           }
          ],
          "histogram": [
           {
            "marker": {
             "colorbar": {
              "outlinewidth": 0,
              "ticks": ""
             }
            },
            "type": "histogram"
           }
          ],
          "histogram2d": [
           {
            "colorbar": {
             "outlinewidth": 0,
             "ticks": ""
            },
            "colorscale": [
             [
              0,
              "#0d0887"
             ],
             [
              0.1111111111111111,
              "#46039f"
             ],
             [
              0.2222222222222222,
              "#7201a8"
             ],
             [
              0.3333333333333333,
              "#9c179e"
             ],
             [
              0.4444444444444444,
              "#bd3786"
             ],
             [
              0.5555555555555556,
              "#d8576b"
             ],
             [
              0.6666666666666666,
              "#ed7953"
             ],
             [
              0.7777777777777778,
              "#fb9f3a"
             ],
             [
              0.8888888888888888,
              "#fdca26"
             ],
             [
              1,
              "#f0f921"
             ]
            ],
            "type": "histogram2d"
           }
          ],
          "histogram2dcontour": [
           {
            "colorbar": {
             "outlinewidth": 0,
             "ticks": ""
            },
            "colorscale": [
             [
              0,
              "#0d0887"
             ],
             [
              0.1111111111111111,
              "#46039f"
             ],
             [
              0.2222222222222222,
              "#7201a8"
             ],
             [
              0.3333333333333333,
              "#9c179e"
             ],
             [
              0.4444444444444444,
              "#bd3786"
             ],
             [
              0.5555555555555556,
              "#d8576b"
             ],
             [
              0.6666666666666666,
              "#ed7953"
             ],
             [
              0.7777777777777778,
              "#fb9f3a"
             ],
             [
              0.8888888888888888,
              "#fdca26"
             ],
             [
              1,
              "#f0f921"
             ]
            ],
            "type": "histogram2dcontour"
           }
          ],
          "mesh3d": [
           {
            "colorbar": {
             "outlinewidth": 0,
             "ticks": ""
            },
            "type": "mesh3d"
           }
          ],
          "parcoords": [
           {
            "line": {
             "colorbar": {
              "outlinewidth": 0,
              "ticks": ""
             }
            },
            "type": "parcoords"
           }
          ],
          "pie": [
           {
            "automargin": true,
            "type": "pie"
           }
          ],
          "scatter": [
           {
            "marker": {
             "colorbar": {
              "outlinewidth": 0,
              "ticks": ""
             }
            },
            "type": "scatter"
           }
          ],
          "scatter3d": [
           {
            "line": {
             "colorbar": {
              "outlinewidth": 0,
              "ticks": ""
             }
            },
            "marker": {
             "colorbar": {
              "outlinewidth": 0,
              "ticks": ""
             }
            },
            "type": "scatter3d"
           }
          ],
          "scattercarpet": [
           {
            "marker": {
             "colorbar": {
              "outlinewidth": 0,
              "ticks": ""
             }
            },
            "type": "scattercarpet"
           }
          ],
          "scattergeo": [
           {
            "marker": {
             "colorbar": {
              "outlinewidth": 0,
              "ticks": ""
             }
            },
            "type": "scattergeo"
           }
          ],
          "scattergl": [
           {
            "marker": {
             "colorbar": {
              "outlinewidth": 0,
              "ticks": ""
             }
            },
            "type": "scattergl"
           }
          ],
          "scattermapbox": [
           {
            "marker": {
             "colorbar": {
              "outlinewidth": 0,
              "ticks": ""
             }
            },
            "type": "scattermapbox"
           }
          ],
          "scatterpolar": [
           {
            "marker": {
             "colorbar": {
              "outlinewidth": 0,
              "ticks": ""
             }
            },
            "type": "scatterpolar"
           }
          ],
          "scatterpolargl": [
           {
            "marker": {
             "colorbar": {
              "outlinewidth": 0,
              "ticks": ""
             }
            },
            "type": "scatterpolargl"
           }
          ],
          "scatterternary": [
           {
            "marker": {
             "colorbar": {
              "outlinewidth": 0,
              "ticks": ""
             }
            },
            "type": "scatterternary"
           }
          ],
          "surface": [
           {
            "colorbar": {
             "outlinewidth": 0,
             "ticks": ""
            },
            "colorscale": [
             [
              0,
              "#0d0887"
             ],
             [
              0.1111111111111111,
              "#46039f"
             ],
             [
              0.2222222222222222,
              "#7201a8"
             ],
             [
              0.3333333333333333,
              "#9c179e"
             ],
             [
              0.4444444444444444,
              "#bd3786"
             ],
             [
              0.5555555555555556,
              "#d8576b"
             ],
             [
              0.6666666666666666,
              "#ed7953"
             ],
             [
              0.7777777777777778,
              "#fb9f3a"
             ],
             [
              0.8888888888888888,
              "#fdca26"
             ],
             [
              1,
              "#f0f921"
             ]
            ],
            "type": "surface"
           }
          ],
          "table": [
           {
            "cells": {
             "fill": {
              "color": "#EBF0F8"
             },
             "line": {
              "color": "white"
             }
            },
            "header": {
             "fill": {
              "color": "#C8D4E3"
             },
             "line": {
              "color": "white"
             }
            },
            "type": "table"
           }
          ]
         },
         "layout": {
          "annotationdefaults": {
           "arrowcolor": "#2a3f5f",
           "arrowhead": 0,
           "arrowwidth": 1
          },
          "autotypenumbers": "strict",
          "coloraxis": {
           "colorbar": {
            "outlinewidth": 0,
            "ticks": ""
           }
          },
          "colorscale": {
           "diverging": [
            [
             0,
             "#8e0152"
            ],
            [
             0.1,
             "#c51b7d"
            ],
            [
             0.2,
             "#de77ae"
            ],
            [
             0.3,
             "#f1b6da"
            ],
            [
             0.4,
             "#fde0ef"
            ],
            [
             0.5,
             "#f7f7f7"
            ],
            [
             0.6,
             "#e6f5d0"
            ],
            [
             0.7,
             "#b8e186"
            ],
            [
             0.8,
             "#7fbc41"
            ],
            [
             0.9,
             "#4d9221"
            ],
            [
             1,
             "#276419"
            ]
           ],
           "sequential": [
            [
             0,
             "#0d0887"
            ],
            [
             0.1111111111111111,
             "#46039f"
            ],
            [
             0.2222222222222222,
             "#7201a8"
            ],
            [
             0.3333333333333333,
             "#9c179e"
            ],
            [
             0.4444444444444444,
             "#bd3786"
            ],
            [
             0.5555555555555556,
             "#d8576b"
            ],
            [
             0.6666666666666666,
             "#ed7953"
            ],
            [
             0.7777777777777778,
             "#fb9f3a"
            ],
            [
             0.8888888888888888,
             "#fdca26"
            ],
            [
             1,
             "#f0f921"
            ]
           ],
           "sequentialminus": [
            [
             0,
             "#0d0887"
            ],
            [
             0.1111111111111111,
             "#46039f"
            ],
            [
             0.2222222222222222,
             "#7201a8"
            ],
            [
             0.3333333333333333,
             "#9c179e"
            ],
            [
             0.4444444444444444,
             "#bd3786"
            ],
            [
             0.5555555555555556,
             "#d8576b"
            ],
            [
             0.6666666666666666,
             "#ed7953"
            ],
            [
             0.7777777777777778,
             "#fb9f3a"
            ],
            [
             0.8888888888888888,
             "#fdca26"
            ],
            [
             1,
             "#f0f921"
            ]
           ]
          },
          "colorway": [
           "#636efa",
           "#EF553B",
           "#00cc96",
           "#ab63fa",
           "#FFA15A",
           "#19d3f3",
           "#FF6692",
           "#B6E880",
           "#FF97FF",
           "#FECB52"
          ],
          "font": {
           "color": "#2a3f5f"
          },
          "geo": {
           "bgcolor": "white",
           "lakecolor": "white",
           "landcolor": "#E5ECF6",
           "showlakes": true,
           "showland": true,
           "subunitcolor": "white"
          },
          "hoverlabel": {
           "align": "left"
          },
          "hovermode": "closest",
          "mapbox": {
           "style": "light"
          },
          "paper_bgcolor": "white",
          "plot_bgcolor": "#E5ECF6",
          "polar": {
           "angularaxis": {
            "gridcolor": "white",
            "linecolor": "white",
            "ticks": ""
           },
           "bgcolor": "#E5ECF6",
           "radialaxis": {
            "gridcolor": "white",
            "linecolor": "white",
            "ticks": ""
           }
          },
          "scene": {
           "xaxis": {
            "backgroundcolor": "#E5ECF6",
            "gridcolor": "white",
            "gridwidth": 2,
            "linecolor": "white",
            "showbackground": true,
            "ticks": "",
            "zerolinecolor": "white"
           },
           "yaxis": {
            "backgroundcolor": "#E5ECF6",
            "gridcolor": "white",
            "gridwidth": 2,
            "linecolor": "white",
            "showbackground": true,
            "ticks": "",
            "zerolinecolor": "white"
           },
           "zaxis": {
            "backgroundcolor": "#E5ECF6",
            "gridcolor": "white",
            "gridwidth": 2,
            "linecolor": "white",
            "showbackground": true,
            "ticks": "",
            "zerolinecolor": "white"
           }
          },
          "shapedefaults": {
           "line": {
            "color": "#2a3f5f"
           }
          },
          "ternary": {
           "aaxis": {
            "gridcolor": "white",
            "linecolor": "white",
            "ticks": ""
           },
           "baxis": {
            "gridcolor": "white",
            "linecolor": "white",
            "ticks": ""
           },
           "bgcolor": "#E5ECF6",
           "caxis": {
            "gridcolor": "white",
            "linecolor": "white",
            "ticks": ""
           }
          },
          "title": {
           "x": 0.05
          },
          "xaxis": {
           "automargin": true,
           "gridcolor": "white",
           "linecolor": "white",
           "ticks": "",
           "title": {
            "standoff": 15
           },
           "zerolinecolor": "white",
           "zerolinewidth": 2
          },
          "yaxis": {
           "automargin": true,
           "gridcolor": "white",
           "linecolor": "white",
           "ticks": "",
           "title": {
            "standoff": 15
           },
           "zerolinecolor": "white",
           "zerolinewidth": 2
          }
         }
        },
        "xaxis": {
         "anchor": "y",
         "domain": [
          0,
          1
         ],
         "title": {
          "text": "name"
         }
        },
        "yaxis": {
         "anchor": "x",
         "domain": [
          0,
          1
         ],
         "title": {
          "text": "time"
         }
        }
       }
      }
     },
     "metadata": {}
    }
   ],
   "source": [
    "import plotly.express as px\n",
    "\n",
    "\n",
    "fig = px.line(df, x=\"name\", y=\"time\")\n",
    "fig.show()\n",
    "\n"
   ]
  },
  {
   "cell_type": "code",
   "execution_count": 10,
   "metadata": {},
   "outputs": [
    {
     "output_type": "error",
     "ename": "ValueError",
     "evalue": "\n    Invalid value of type 'builtins.str' received for the 'x' property of scatter\n        Received value: 'name'\n\n    The 'x' property is an array that may be specified as a tuple,\n    list, numpy array, or pandas Series",
     "traceback": [
      "\u001b[1;31m---------------------------------------------------------------------------\u001b[0m",
      "\u001b[1;31mValueError\u001b[0m                                Traceback (most recent call last)",
      "\u001b[1;32m<ipython-input-10-d2ae0611eb0a>\u001b[0m in \u001b[0;36m<module>\u001b[1;34m\u001b[0m\n\u001b[0;32m      4\u001b[0m \u001b[1;33m\u001b[0m\u001b[0m\n\u001b[0;32m      5\u001b[0m \u001b[1;33m\u001b[0m\u001b[0m\n\u001b[1;32m----> 6\u001b[1;33m \u001b[0mfig\u001b[0m \u001b[1;33m=\u001b[0m \u001b[0mgo\u001b[0m\u001b[1;33m.\u001b[0m\u001b[0mFigure\u001b[0m\u001b[1;33m(\u001b[0m\u001b[0mdata\u001b[0m\u001b[1;33m=\u001b[0m\u001b[0mgo\u001b[0m\u001b[1;33m.\u001b[0m\u001b[0mScatter\u001b[0m\u001b[1;33m(\u001b[0m\u001b[0mx\u001b[0m\u001b[1;33m=\u001b[0m\u001b[1;34m'name'\u001b[0m\u001b[1;33m,\u001b[0m \u001b[0my\u001b[0m\u001b[1;33m=\u001b[0m\u001b[1;34m'time'\u001b[0m\u001b[1;33m)\u001b[0m\u001b[1;33m)\u001b[0m\u001b[1;33m\u001b[0m\u001b[1;33m\u001b[0m\u001b[0m\n\u001b[0m\u001b[0;32m      7\u001b[0m \u001b[0mfig\u001b[0m\u001b[1;33m.\u001b[0m\u001b[0mshow\u001b[0m\u001b[1;33m(\u001b[0m\u001b[1;33m)\u001b[0m\u001b[1;33m\u001b[0m\u001b[1;33m\u001b[0m\u001b[0m\n",
      "\u001b[1;32m~\\Anaconda3\\lib\\site-packages\\plotly\\graph_objs\\_scatter.py\u001b[0m in \u001b[0;36m__init__\u001b[1;34m(self, arg, cliponaxis, connectgaps, customdata, customdatasrc, dx, dy, error_x, error_y, fill, fillcolor, groupnorm, hoverinfo, hoverinfosrc, hoverlabel, hoveron, hovertemplate, hovertemplatesrc, hovertext, hovertextsrc, ids, idssrc, legendgroup, line, marker, meta, metasrc, mode, name, opacity, orientation, r, rsrc, selected, selectedpoints, showlegend, stackgaps, stackgroup, stream, t, text, textfont, textposition, textpositionsrc, textsrc, texttemplate, texttemplatesrc, tsrc, uid, uirevision, unselected, visible, x, x0, xaxis, xcalendar, xperiod, xperiod0, xperiodalignment, xsrc, y, y0, yaxis, ycalendar, yperiod, yperiod0, yperiodalignment, ysrc, **kwargs)\u001b[0m\n\u001b[0;32m   3120\u001b[0m         \u001b[0m_v\u001b[0m \u001b[1;33m=\u001b[0m \u001b[0mx\u001b[0m \u001b[1;32mif\u001b[0m \u001b[0mx\u001b[0m \u001b[1;32mis\u001b[0m \u001b[1;32mnot\u001b[0m \u001b[1;32mNone\u001b[0m \u001b[1;32melse\u001b[0m \u001b[0m_v\u001b[0m\u001b[1;33m\u001b[0m\u001b[1;33m\u001b[0m\u001b[0m\n\u001b[0;32m   3121\u001b[0m         \u001b[1;32mif\u001b[0m \u001b[0m_v\u001b[0m \u001b[1;32mis\u001b[0m \u001b[1;32mnot\u001b[0m \u001b[1;32mNone\u001b[0m\u001b[1;33m:\u001b[0m\u001b[1;33m\u001b[0m\u001b[1;33m\u001b[0m\u001b[0m\n\u001b[1;32m-> 3122\u001b[1;33m             \u001b[0mself\u001b[0m\u001b[1;33m[\u001b[0m\u001b[1;34m\"x\"\u001b[0m\u001b[1;33m]\u001b[0m \u001b[1;33m=\u001b[0m \u001b[0m_v\u001b[0m\u001b[1;33m\u001b[0m\u001b[1;33m\u001b[0m\u001b[0m\n\u001b[0m\u001b[0;32m   3123\u001b[0m         \u001b[0m_v\u001b[0m \u001b[1;33m=\u001b[0m \u001b[0marg\u001b[0m\u001b[1;33m.\u001b[0m\u001b[0mpop\u001b[0m\u001b[1;33m(\u001b[0m\u001b[1;34m\"x0\"\u001b[0m\u001b[1;33m,\u001b[0m \u001b[1;32mNone\u001b[0m\u001b[1;33m)\u001b[0m\u001b[1;33m\u001b[0m\u001b[1;33m\u001b[0m\u001b[0m\n\u001b[0;32m   3124\u001b[0m         \u001b[0m_v\u001b[0m \u001b[1;33m=\u001b[0m \u001b[0mx0\u001b[0m \u001b[1;32mif\u001b[0m \u001b[0mx0\u001b[0m \u001b[1;32mis\u001b[0m \u001b[1;32mnot\u001b[0m \u001b[1;32mNone\u001b[0m \u001b[1;32melse\u001b[0m \u001b[0m_v\u001b[0m\u001b[1;33m\u001b[0m\u001b[1;33m\u001b[0m\u001b[0m\n",
      "\u001b[1;32m~\\Anaconda3\\lib\\site-packages\\plotly\\basedatatypes.py\u001b[0m in \u001b[0;36m__setitem__\u001b[1;34m(self, prop, value)\u001b[0m\n\u001b[0;32m   4802\u001b[0m                 \u001b[1;31m# ### Handle simple property ###\u001b[0m\u001b[1;33m\u001b[0m\u001b[1;33m\u001b[0m\u001b[1;33m\u001b[0m\u001b[0m\n\u001b[0;32m   4803\u001b[0m                 \u001b[1;32melse\u001b[0m\u001b[1;33m:\u001b[0m\u001b[1;33m\u001b[0m\u001b[1;33m\u001b[0m\u001b[0m\n\u001b[1;32m-> 4804\u001b[1;33m                     \u001b[0mself\u001b[0m\u001b[1;33m.\u001b[0m\u001b[0m_set_prop\u001b[0m\u001b[1;33m(\u001b[0m\u001b[0mprop\u001b[0m\u001b[1;33m,\u001b[0m \u001b[0mvalue\u001b[0m\u001b[1;33m)\u001b[0m\u001b[1;33m\u001b[0m\u001b[1;33m\u001b[0m\u001b[0m\n\u001b[0m\u001b[0;32m   4805\u001b[0m             \u001b[1;32melse\u001b[0m\u001b[1;33m:\u001b[0m\u001b[1;33m\u001b[0m\u001b[1;33m\u001b[0m\u001b[0m\n\u001b[0;32m   4806\u001b[0m                 \u001b[1;31m# Make sure properties dict is initialized\u001b[0m\u001b[1;33m\u001b[0m\u001b[1;33m\u001b[0m\u001b[1;33m\u001b[0m\u001b[0m\n",
      "\u001b[1;32m~\\Anaconda3\\lib\\site-packages\\plotly\\basedatatypes.py\u001b[0m in \u001b[0;36m_set_prop\u001b[1;34m(self, prop, val)\u001b[0m\n\u001b[0;32m   5146\u001b[0m                 \u001b[1;32mreturn\u001b[0m\u001b[1;33m\u001b[0m\u001b[1;33m\u001b[0m\u001b[0m\n\u001b[0;32m   5147\u001b[0m             \u001b[1;32melse\u001b[0m\u001b[1;33m:\u001b[0m\u001b[1;33m\u001b[0m\u001b[1;33m\u001b[0m\u001b[0m\n\u001b[1;32m-> 5148\u001b[1;33m                 \u001b[1;32mraise\u001b[0m \u001b[0merr\u001b[0m\u001b[1;33m\u001b[0m\u001b[1;33m\u001b[0m\u001b[0m\n\u001b[0m\u001b[0;32m   5149\u001b[0m \u001b[1;33m\u001b[0m\u001b[0m\n\u001b[0;32m   5150\u001b[0m         \u001b[1;31m# val is None\u001b[0m\u001b[1;33m\u001b[0m\u001b[1;33m\u001b[0m\u001b[1;33m\u001b[0m\u001b[0m\n",
      "\u001b[1;32m~\\Anaconda3\\lib\\site-packages\\plotly\\basedatatypes.py\u001b[0m in \u001b[0;36m_set_prop\u001b[1;34m(self, prop, val)\u001b[0m\n\u001b[0;32m   5141\u001b[0m \u001b[1;33m\u001b[0m\u001b[0m\n\u001b[0;32m   5142\u001b[0m         \u001b[1;32mtry\u001b[0m\u001b[1;33m:\u001b[0m\u001b[1;33m\u001b[0m\u001b[1;33m\u001b[0m\u001b[0m\n\u001b[1;32m-> 5143\u001b[1;33m             \u001b[0mval\u001b[0m \u001b[1;33m=\u001b[0m \u001b[0mvalidator\u001b[0m\u001b[1;33m.\u001b[0m\u001b[0mvalidate_coerce\u001b[0m\u001b[1;33m(\u001b[0m\u001b[0mval\u001b[0m\u001b[1;33m)\u001b[0m\u001b[1;33m\u001b[0m\u001b[1;33m\u001b[0m\u001b[0m\n\u001b[0m\u001b[0;32m   5144\u001b[0m         \u001b[1;32mexcept\u001b[0m \u001b[0mValueError\u001b[0m \u001b[1;32mas\u001b[0m \u001b[0merr\u001b[0m\u001b[1;33m:\u001b[0m\u001b[1;33m\u001b[0m\u001b[1;33m\u001b[0m\u001b[0m\n\u001b[0;32m   5145\u001b[0m             \u001b[1;32mif\u001b[0m \u001b[0mself\u001b[0m\u001b[1;33m.\u001b[0m\u001b[0m_skip_invalid\u001b[0m\u001b[1;33m:\u001b[0m\u001b[1;33m\u001b[0m\u001b[1;33m\u001b[0m\u001b[0m\n",
      "\u001b[1;32m~\\Anaconda3\\lib\\site-packages\\_plotly_utils\\basevalidators.py\u001b[0m in \u001b[0;36mvalidate_coerce\u001b[1;34m(self, v)\u001b[0m\n\u001b[0;32m    391\u001b[0m             \u001b[0mv\u001b[0m \u001b[1;33m=\u001b[0m \u001b[0mto_scalar_or_list\u001b[0m\u001b[1;33m(\u001b[0m\u001b[0mv\u001b[0m\u001b[1;33m)\u001b[0m\u001b[1;33m\u001b[0m\u001b[1;33m\u001b[0m\u001b[0m\n\u001b[0;32m    392\u001b[0m         \u001b[1;32melse\u001b[0m\u001b[1;33m:\u001b[0m\u001b[1;33m\u001b[0m\u001b[1;33m\u001b[0m\u001b[0m\n\u001b[1;32m--> 393\u001b[1;33m             \u001b[0mself\u001b[0m\u001b[1;33m.\u001b[0m\u001b[0mraise_invalid_val\u001b[0m\u001b[1;33m(\u001b[0m\u001b[0mv\u001b[0m\u001b[1;33m)\u001b[0m\u001b[1;33m\u001b[0m\u001b[1;33m\u001b[0m\u001b[0m\n\u001b[0m\u001b[0;32m    394\u001b[0m         \u001b[1;32mreturn\u001b[0m \u001b[0mv\u001b[0m\u001b[1;33m\u001b[0m\u001b[1;33m\u001b[0m\u001b[0m\n\u001b[0;32m    395\u001b[0m \u001b[1;33m\u001b[0m\u001b[0m\n",
      "\u001b[1;32m~\\Anaconda3\\lib\\site-packages\\_plotly_utils\\basevalidators.py\u001b[0m in \u001b[0;36mraise_invalid_val\u001b[1;34m(self, v, inds)\u001b[0m\n\u001b[0;32m    275\u001b[0m                 \u001b[0mname\u001b[0m \u001b[1;33m+=\u001b[0m \u001b[1;34m\"[\"\u001b[0m \u001b[1;33m+\u001b[0m \u001b[0mstr\u001b[0m\u001b[1;33m(\u001b[0m\u001b[0mi\u001b[0m\u001b[1;33m)\u001b[0m \u001b[1;33m+\u001b[0m \u001b[1;34m\"]\"\u001b[0m\u001b[1;33m\u001b[0m\u001b[1;33m\u001b[0m\u001b[0m\n\u001b[0;32m    276\u001b[0m \u001b[1;33m\u001b[0m\u001b[0m\n\u001b[1;32m--> 277\u001b[1;33m         raise ValueError(\n\u001b[0m\u001b[0;32m    278\u001b[0m             \"\"\"\n\u001b[0;32m    279\u001b[0m     \u001b[0mInvalid\u001b[0m \u001b[0mvalue\u001b[0m \u001b[0mof\u001b[0m \u001b[0mtype\u001b[0m \u001b[1;33m{\u001b[0m\u001b[0mtyp\u001b[0m\u001b[1;33m}\u001b[0m \u001b[0mreceived\u001b[0m \u001b[1;32mfor\u001b[0m \u001b[0mthe\u001b[0m \u001b[1;34m'{name}'\u001b[0m \u001b[0mproperty\u001b[0m \u001b[0mof\u001b[0m \u001b[1;33m{\u001b[0m\u001b[0mpname\u001b[0m\u001b[1;33m}\u001b[0m\u001b[1;33m\u001b[0m\u001b[1;33m\u001b[0m\u001b[0m\n",
      "\u001b[1;31mValueError\u001b[0m: \n    Invalid value of type 'builtins.str' received for the 'x' property of scatter\n        Received value: 'name'\n\n    The 'x' property is an array that may be specified as a tuple,\n    list, numpy array, or pandas Series"
     ]
    }
   ],
   "source": [
    "import plotly.graph_objects as go\n",
    "import numpy as np\n",
    "\n",
    "\n",
    "\n",
    "fig = go.Figure(data=go.Scatter(x='name', y='time'))\n",
    "fig.show()"
   ]
  },
  {
   "cell_type": "code",
   "execution_count": 55,
   "metadata": {},
   "outputs": [
    {
     "ename": "TypeError",
     "evalue": "distplot() got an unexpected keyword argument 'x'",
     "output_type": "error",
     "traceback": [
      "\u001b[1;31m---------------------------------------------------------------------------\u001b[0m",
      "\u001b[1;31mTypeError\u001b[0m                                 Traceback (most recent call last)",
      "\u001b[1;32m<ipython-input-55-20b09b4ff434>\u001b[0m in \u001b[0;36m<module>\u001b[1;34m\u001b[0m\n\u001b[0;32m      1\u001b[0m \u001b[1;31m# convert to seconds\u001b[0m\u001b[1;33m\u001b[0m\u001b[1;33m\u001b[0m\u001b[1;33m\u001b[0m\u001b[0m\n\u001b[1;32m----> 2\u001b[1;33m \u001b[0msns\u001b[0m\u001b[1;33m.\u001b[0m\u001b[0mdistplot\u001b[0m\u001b[1;33m(\u001b[0m\u001b[0mx\u001b[0m\u001b[1;33m=\u001b[0m\u001b[1;34m\"time\"\u001b[0m\u001b[1;33m,\u001b[0m \u001b[0my\u001b[0m\u001b[1;33m=\u001b[0m\u001b[1;34m\"name\"\u001b[0m\u001b[1;33m,\u001b[0m\u001b[0mdata\u001b[0m\u001b[1;33m=\u001b[0m\u001b[0mdf\u001b[0m\u001b[1;33m)\u001b[0m\u001b[1;33m\u001b[0m\u001b[1;33m\u001b[0m\u001b[0m\n\u001b[0m\u001b[0;32m      3\u001b[0m \u001b[1;31m#ax = df['time'].plot.hist()\u001b[0m\u001b[1;33m\u001b[0m\u001b[1;33m\u001b[0m\u001b[1;33m\u001b[0m\u001b[0m\n",
      "\u001b[1;31mTypeError\u001b[0m: distplot() got an unexpected keyword argument 'x'"
     ]
    }
   ],
   "source": [
    "# convert to seconds\n",
    "sns.distplot(x=\"time\", y=\"name\",data=df)\n",
    "#ax = df['time'].plot.hist()"
   ]
  },
  {
   "cell_type": "code",
   "execution_count": 48,
   "metadata": {},
   "outputs": [
    {
     "ename": "AttributeError",
     "evalue": "'Line2D' object has no property 'rotation'",
     "output_type": "error",
     "traceback": [
      "\u001b[1;31m---------------------------------------------------------------------------\u001b[0m",
      "\u001b[1;31mAttributeError\u001b[0m                            Traceback (most recent call last)",
      "\u001b[1;32m<ipython-input-48-0984ba764eca>\u001b[0m in \u001b[0;36m<module>\u001b[1;34m\u001b[0m\n\u001b[0;32m      1\u001b[0m \u001b[1;31m#sns.distplot(df['time'],kde=False)\u001b[0m\u001b[1;33m\u001b[0m\u001b[1;33m\u001b[0m\u001b[1;33m\u001b[0m\u001b[0m\n\u001b[0;32m      2\u001b[0m \u001b[1;33m\u001b[0m\u001b[0m\n\u001b[1;32m----> 3\u001b[1;33m ax = sns.lineplot(x=\"name\", y=\"time\", \n\u001b[0m\u001b[0;32m      4\u001b[0m \u001b[1;33m\u001b[0m\u001b[0m\n\u001b[0;32m      5\u001b[0m             data=df, marker='o',rotation=45)\n",
      "\u001b[1;32m~\\Anaconda3\\lib\\site-packages\\seaborn\\relational.py\u001b[0m in \u001b[0;36mlineplot\u001b[1;34m(x, y, hue, size, style, data, palette, hue_order, hue_norm, sizes, size_order, size_norm, dashes, markers, style_order, units, estimator, ci, n_boot, seed, sort, err_style, err_kws, legend, ax, **kwargs)\u001b[0m\n\u001b[0;32m   1130\u001b[0m         \u001b[0max\u001b[0m \u001b[1;33m=\u001b[0m \u001b[0mplt\u001b[0m\u001b[1;33m.\u001b[0m\u001b[0mgca\u001b[0m\u001b[1;33m(\u001b[0m\u001b[1;33m)\u001b[0m\u001b[1;33m\u001b[0m\u001b[1;33m\u001b[0m\u001b[0m\n\u001b[0;32m   1131\u001b[0m \u001b[1;33m\u001b[0m\u001b[0m\n\u001b[1;32m-> 1132\u001b[1;33m     \u001b[0mp\u001b[0m\u001b[1;33m.\u001b[0m\u001b[0mplot\u001b[0m\u001b[1;33m(\u001b[0m\u001b[0max\u001b[0m\u001b[1;33m,\u001b[0m \u001b[0mkwargs\u001b[0m\u001b[1;33m)\u001b[0m\u001b[1;33m\u001b[0m\u001b[1;33m\u001b[0m\u001b[0m\n\u001b[0m\u001b[0;32m   1133\u001b[0m     \u001b[1;32mreturn\u001b[0m \u001b[0max\u001b[0m\u001b[1;33m\u001b[0m\u001b[1;33m\u001b[0m\u001b[0m\n\u001b[0;32m   1134\u001b[0m \u001b[1;33m\u001b[0m\u001b[0m\n",
      "\u001b[1;32m~\\Anaconda3\\lib\\site-packages\\seaborn\\relational.py\u001b[0m in \u001b[0;36mplot\u001b[1;34m(self, ax, kws)\u001b[0m\n\u001b[0;32m    772\u001b[0m         \u001b[1;31m# function will advance the axes property cycle.\u001b[0m\u001b[1;33m\u001b[0m\u001b[1;33m\u001b[0m\u001b[1;33m\u001b[0m\u001b[0m\n\u001b[0;32m    773\u001b[0m \u001b[1;33m\u001b[0m\u001b[0m\n\u001b[1;32m--> 774\u001b[1;33m         \u001b[0mscout\u001b[0m\u001b[1;33m,\u001b[0m \u001b[1;33m=\u001b[0m \u001b[0max\u001b[0m\u001b[1;33m.\u001b[0m\u001b[0mplot\u001b[0m\u001b[1;33m(\u001b[0m\u001b[1;33m[\u001b[0m\u001b[1;33m]\u001b[0m\u001b[1;33m,\u001b[0m \u001b[1;33m[\u001b[0m\u001b[1;33m]\u001b[0m\u001b[1;33m,\u001b[0m \u001b[1;33m**\u001b[0m\u001b[0mkws\u001b[0m\u001b[1;33m)\u001b[0m\u001b[1;33m\u001b[0m\u001b[1;33m\u001b[0m\u001b[0m\n\u001b[0m\u001b[0;32m    775\u001b[0m \u001b[1;33m\u001b[0m\u001b[0m\n\u001b[0;32m    776\u001b[0m         \u001b[0morig_color\u001b[0m \u001b[1;33m=\u001b[0m \u001b[0mkws\u001b[0m\u001b[1;33m.\u001b[0m\u001b[0mpop\u001b[0m\u001b[1;33m(\u001b[0m\u001b[1;34m\"color\"\u001b[0m\u001b[1;33m,\u001b[0m \u001b[0mscout\u001b[0m\u001b[1;33m.\u001b[0m\u001b[0mget_color\u001b[0m\u001b[1;33m(\u001b[0m\u001b[1;33m)\u001b[0m\u001b[1;33m)\u001b[0m\u001b[1;33m\u001b[0m\u001b[1;33m\u001b[0m\u001b[0m\n",
      "\u001b[1;32m~\\Anaconda3\\lib\\site-packages\\matplotlib\\axes\\_axes.py\u001b[0m in \u001b[0;36mplot\u001b[1;34m(self, scalex, scaley, data, *args, **kwargs)\u001b[0m\n\u001b[0;32m   1645\u001b[0m         \"\"\"\n\u001b[0;32m   1646\u001b[0m         \u001b[0mkwargs\u001b[0m \u001b[1;33m=\u001b[0m \u001b[0mcbook\u001b[0m\u001b[1;33m.\u001b[0m\u001b[0mnormalize_kwargs\u001b[0m\u001b[1;33m(\u001b[0m\u001b[0mkwargs\u001b[0m\u001b[1;33m,\u001b[0m \u001b[0mmlines\u001b[0m\u001b[1;33m.\u001b[0m\u001b[0mLine2D\u001b[0m\u001b[1;33m)\u001b[0m\u001b[1;33m\u001b[0m\u001b[1;33m\u001b[0m\u001b[0m\n\u001b[1;32m-> 1647\u001b[1;33m         \u001b[0mlines\u001b[0m \u001b[1;33m=\u001b[0m \u001b[1;33m[\u001b[0m\u001b[1;33m*\u001b[0m\u001b[0mself\u001b[0m\u001b[1;33m.\u001b[0m\u001b[0m_get_lines\u001b[0m\u001b[1;33m(\u001b[0m\u001b[1;33m*\u001b[0m\u001b[0margs\u001b[0m\u001b[1;33m,\u001b[0m \u001b[0mdata\u001b[0m\u001b[1;33m=\u001b[0m\u001b[0mdata\u001b[0m\u001b[1;33m,\u001b[0m \u001b[1;33m**\u001b[0m\u001b[0mkwargs\u001b[0m\u001b[1;33m)\u001b[0m\u001b[1;33m]\u001b[0m\u001b[1;33m\u001b[0m\u001b[1;33m\u001b[0m\u001b[0m\n\u001b[0m\u001b[0;32m   1648\u001b[0m         \u001b[1;32mfor\u001b[0m \u001b[0mline\u001b[0m \u001b[1;32min\u001b[0m \u001b[0mlines\u001b[0m\u001b[1;33m:\u001b[0m\u001b[1;33m\u001b[0m\u001b[1;33m\u001b[0m\u001b[0m\n\u001b[0;32m   1649\u001b[0m             \u001b[0mself\u001b[0m\u001b[1;33m.\u001b[0m\u001b[0madd_line\u001b[0m\u001b[1;33m(\u001b[0m\u001b[0mline\u001b[0m\u001b[1;33m)\u001b[0m\u001b[1;33m\u001b[0m\u001b[1;33m\u001b[0m\u001b[0m\n",
      "\u001b[1;32m~\\Anaconda3\\lib\\site-packages\\matplotlib\\axes\\_base.py\u001b[0m in \u001b[0;36m__call__\u001b[1;34m(self, *args, **kwargs)\u001b[0m\n\u001b[0;32m    214\u001b[0m                 \u001b[0mthis\u001b[0m \u001b[1;33m+=\u001b[0m \u001b[0margs\u001b[0m\u001b[1;33m[\u001b[0m\u001b[1;36m0\u001b[0m\u001b[1;33m]\u001b[0m\u001b[1;33m,\u001b[0m\u001b[1;33m\u001b[0m\u001b[1;33m\u001b[0m\u001b[0m\n\u001b[0;32m    215\u001b[0m                 \u001b[0margs\u001b[0m \u001b[1;33m=\u001b[0m \u001b[0margs\u001b[0m\u001b[1;33m[\u001b[0m\u001b[1;36m1\u001b[0m\u001b[1;33m:\u001b[0m\u001b[1;33m]\u001b[0m\u001b[1;33m\u001b[0m\u001b[1;33m\u001b[0m\u001b[0m\n\u001b[1;32m--> 216\u001b[1;33m             \u001b[1;32myield\u001b[0m \u001b[1;32mfrom\u001b[0m \u001b[0mself\u001b[0m\u001b[1;33m.\u001b[0m\u001b[0m_plot_args\u001b[0m\u001b[1;33m(\u001b[0m\u001b[0mthis\u001b[0m\u001b[1;33m,\u001b[0m \u001b[0mkwargs\u001b[0m\u001b[1;33m)\u001b[0m\u001b[1;33m\u001b[0m\u001b[1;33m\u001b[0m\u001b[0m\n\u001b[0m\u001b[0;32m    217\u001b[0m \u001b[1;33m\u001b[0m\u001b[0m\n\u001b[0;32m    218\u001b[0m     \u001b[1;32mdef\u001b[0m \u001b[0mget_next_color\u001b[0m\u001b[1;33m(\u001b[0m\u001b[0mself\u001b[0m\u001b[1;33m)\u001b[0m\u001b[1;33m:\u001b[0m\u001b[1;33m\u001b[0m\u001b[1;33m\u001b[0m\u001b[0m\n",
      "\u001b[1;32m~\\Anaconda3\\lib\\site-packages\\matplotlib\\axes\\_base.py\u001b[0m in \u001b[0;36m_plot_args\u001b[1;34m(self, tup, kwargs)\u001b[0m\n\u001b[0;32m    361\u001b[0m                 \u001b[1;34m\"2.2\"\u001b[0m\u001b[1;33m,\u001b[0m \u001b[0mmessage\u001b[0m\u001b[1;33m=\u001b[0m\u001b[1;34m\"cycling among columns of inputs with \"\u001b[0m\u001b[1;33m\u001b[0m\u001b[1;33m\u001b[0m\u001b[0m\n\u001b[0;32m    362\u001b[0m                 \"non-matching shapes is deprecated.\")\n\u001b[1;32m--> 363\u001b[1;33m         return [func(x[:, j % ncx], y[:, j % ncy], kw, kwargs)\n\u001b[0m\u001b[0;32m    364\u001b[0m                 for j in range(max(ncx, ncy))]\n\u001b[0;32m    365\u001b[0m \u001b[1;33m\u001b[0m\u001b[0m\n",
      "\u001b[1;32m~\\Anaconda3\\lib\\site-packages\\matplotlib\\axes\\_base.py\u001b[0m in \u001b[0;36m<listcomp>\u001b[1;34m(.0)\u001b[0m\n\u001b[0;32m    361\u001b[0m                 \u001b[1;34m\"2.2\"\u001b[0m\u001b[1;33m,\u001b[0m \u001b[0mmessage\u001b[0m\u001b[1;33m=\u001b[0m\u001b[1;34m\"cycling among columns of inputs with \"\u001b[0m\u001b[1;33m\u001b[0m\u001b[1;33m\u001b[0m\u001b[0m\n\u001b[0;32m    362\u001b[0m                 \"non-matching shapes is deprecated.\")\n\u001b[1;32m--> 363\u001b[1;33m         return [func(x[:, j % ncx], y[:, j % ncy], kw, kwargs)\n\u001b[0m\u001b[0;32m    364\u001b[0m                 for j in range(max(ncx, ncy))]\n\u001b[0;32m    365\u001b[0m \u001b[1;33m\u001b[0m\u001b[0m\n",
      "\u001b[1;32m~\\Anaconda3\\lib\\site-packages\\matplotlib\\axes\\_base.py\u001b[0m in \u001b[0;36m_makeline\u001b[1;34m(self, x, y, kw, kwargs)\u001b[0m\n\u001b[0;32m    253\u001b[0m         \u001b[0mdefault_dict\u001b[0m \u001b[1;33m=\u001b[0m \u001b[0mself\u001b[0m\u001b[1;33m.\u001b[0m\u001b[0m_getdefaults\u001b[0m\u001b[1;33m(\u001b[0m\u001b[0mset\u001b[0m\u001b[1;33m(\u001b[0m\u001b[1;33m)\u001b[0m\u001b[1;33m,\u001b[0m \u001b[0mkw\u001b[0m\u001b[1;33m)\u001b[0m\u001b[1;33m\u001b[0m\u001b[1;33m\u001b[0m\u001b[0m\n\u001b[0;32m    254\u001b[0m         \u001b[0mself\u001b[0m\u001b[1;33m.\u001b[0m\u001b[0m_setdefaults\u001b[0m\u001b[1;33m(\u001b[0m\u001b[0mdefault_dict\u001b[0m\u001b[1;33m,\u001b[0m \u001b[0mkw\u001b[0m\u001b[1;33m)\u001b[0m\u001b[1;33m\u001b[0m\u001b[1;33m\u001b[0m\u001b[0m\n\u001b[1;32m--> 255\u001b[1;33m         \u001b[0mseg\u001b[0m \u001b[1;33m=\u001b[0m \u001b[0mmlines\u001b[0m\u001b[1;33m.\u001b[0m\u001b[0mLine2D\u001b[0m\u001b[1;33m(\u001b[0m\u001b[0mx\u001b[0m\u001b[1;33m,\u001b[0m \u001b[0my\u001b[0m\u001b[1;33m,\u001b[0m \u001b[1;33m**\u001b[0m\u001b[0mkw\u001b[0m\u001b[1;33m)\u001b[0m\u001b[1;33m\u001b[0m\u001b[1;33m\u001b[0m\u001b[0m\n\u001b[0m\u001b[0;32m    256\u001b[0m         \u001b[1;32mreturn\u001b[0m \u001b[0mseg\u001b[0m\u001b[1;33m\u001b[0m\u001b[1;33m\u001b[0m\u001b[0m\n\u001b[0;32m    257\u001b[0m \u001b[1;33m\u001b[0m\u001b[0m\n",
      "\u001b[1;32m~\\Anaconda3\\lib\\site-packages\\matplotlib\\lines.py\u001b[0m in \u001b[0;36m__init__\u001b[1;34m(self, xdata, ydata, linewidth, linestyle, color, marker, markersize, markeredgewidth, markeredgecolor, markerfacecolor, markerfacecoloralt, fillstyle, antialiased, dash_capstyle, solid_capstyle, dash_joinstyle, solid_joinstyle, pickradius, drawstyle, markevery, **kwargs)\u001b[0m\n\u001b[0;32m    398\u001b[0m         \u001b[1;31m# update kwargs before updating data to give the caller a\u001b[0m\u001b[1;33m\u001b[0m\u001b[1;33m\u001b[0m\u001b[1;33m\u001b[0m\u001b[0m\n\u001b[0;32m    399\u001b[0m         \u001b[1;31m# chance to init axes (and hence unit support)\u001b[0m\u001b[1;33m\u001b[0m\u001b[1;33m\u001b[0m\u001b[1;33m\u001b[0m\u001b[0m\n\u001b[1;32m--> 400\u001b[1;33m         \u001b[0mself\u001b[0m\u001b[1;33m.\u001b[0m\u001b[0mupdate\u001b[0m\u001b[1;33m(\u001b[0m\u001b[0mkwargs\u001b[0m\u001b[1;33m)\u001b[0m\u001b[1;33m\u001b[0m\u001b[1;33m\u001b[0m\u001b[0m\n\u001b[0m\u001b[0;32m    401\u001b[0m         \u001b[0mself\u001b[0m\u001b[1;33m.\u001b[0m\u001b[0mpickradius\u001b[0m \u001b[1;33m=\u001b[0m \u001b[0mpickradius\u001b[0m\u001b[1;33m\u001b[0m\u001b[1;33m\u001b[0m\u001b[0m\n\u001b[0;32m    402\u001b[0m         \u001b[0mself\u001b[0m\u001b[1;33m.\u001b[0m\u001b[0mind_offset\u001b[0m \u001b[1;33m=\u001b[0m \u001b[1;36m0\u001b[0m\u001b[1;33m\u001b[0m\u001b[1;33m\u001b[0m\u001b[0m\n",
      "\u001b[1;32m~\\Anaconda3\\lib\\site-packages\\matplotlib\\artist.py\u001b[0m in \u001b[0;36mupdate\u001b[1;34m(self, props)\u001b[0m\n\u001b[0;32m   1004\u001b[0m \u001b[1;33m\u001b[0m\u001b[0m\n\u001b[0;32m   1005\u001b[0m         \u001b[1;32mwith\u001b[0m \u001b[0mcbook\u001b[0m\u001b[1;33m.\u001b[0m\u001b[0m_setattr_cm\u001b[0m\u001b[1;33m(\u001b[0m\u001b[0mself\u001b[0m\u001b[1;33m,\u001b[0m \u001b[0meventson\u001b[0m\u001b[1;33m=\u001b[0m\u001b[1;32mFalse\u001b[0m\u001b[1;33m)\u001b[0m\u001b[1;33m:\u001b[0m\u001b[1;33m\u001b[0m\u001b[1;33m\u001b[0m\u001b[0m\n\u001b[1;32m-> 1006\u001b[1;33m             \u001b[0mret\u001b[0m \u001b[1;33m=\u001b[0m \u001b[1;33m[\u001b[0m\u001b[0m_update_property\u001b[0m\u001b[1;33m(\u001b[0m\u001b[0mself\u001b[0m\u001b[1;33m,\u001b[0m \u001b[0mk\u001b[0m\u001b[1;33m,\u001b[0m \u001b[0mv\u001b[0m\u001b[1;33m)\u001b[0m \u001b[1;32mfor\u001b[0m \u001b[0mk\u001b[0m\u001b[1;33m,\u001b[0m \u001b[0mv\u001b[0m \u001b[1;32min\u001b[0m \u001b[0mprops\u001b[0m\u001b[1;33m.\u001b[0m\u001b[0mitems\u001b[0m\u001b[1;33m(\u001b[0m\u001b[1;33m)\u001b[0m\u001b[1;33m]\u001b[0m\u001b[1;33m\u001b[0m\u001b[1;33m\u001b[0m\u001b[0m\n\u001b[0m\u001b[0;32m   1007\u001b[0m \u001b[1;33m\u001b[0m\u001b[0m\n\u001b[0;32m   1008\u001b[0m         \u001b[1;32mif\u001b[0m \u001b[0mlen\u001b[0m\u001b[1;33m(\u001b[0m\u001b[0mret\u001b[0m\u001b[1;33m)\u001b[0m\u001b[1;33m:\u001b[0m\u001b[1;33m\u001b[0m\u001b[1;33m\u001b[0m\u001b[0m\n",
      "\u001b[1;32m~\\Anaconda3\\lib\\site-packages\\matplotlib\\artist.py\u001b[0m in \u001b[0;36m<listcomp>\u001b[1;34m(.0)\u001b[0m\n\u001b[0;32m   1004\u001b[0m \u001b[1;33m\u001b[0m\u001b[0m\n\u001b[0;32m   1005\u001b[0m         \u001b[1;32mwith\u001b[0m \u001b[0mcbook\u001b[0m\u001b[1;33m.\u001b[0m\u001b[0m_setattr_cm\u001b[0m\u001b[1;33m(\u001b[0m\u001b[0mself\u001b[0m\u001b[1;33m,\u001b[0m \u001b[0meventson\u001b[0m\u001b[1;33m=\u001b[0m\u001b[1;32mFalse\u001b[0m\u001b[1;33m)\u001b[0m\u001b[1;33m:\u001b[0m\u001b[1;33m\u001b[0m\u001b[1;33m\u001b[0m\u001b[0m\n\u001b[1;32m-> 1006\u001b[1;33m             \u001b[0mret\u001b[0m \u001b[1;33m=\u001b[0m \u001b[1;33m[\u001b[0m\u001b[0m_update_property\u001b[0m\u001b[1;33m(\u001b[0m\u001b[0mself\u001b[0m\u001b[1;33m,\u001b[0m \u001b[0mk\u001b[0m\u001b[1;33m,\u001b[0m \u001b[0mv\u001b[0m\u001b[1;33m)\u001b[0m \u001b[1;32mfor\u001b[0m \u001b[0mk\u001b[0m\u001b[1;33m,\u001b[0m \u001b[0mv\u001b[0m \u001b[1;32min\u001b[0m \u001b[0mprops\u001b[0m\u001b[1;33m.\u001b[0m\u001b[0mitems\u001b[0m\u001b[1;33m(\u001b[0m\u001b[1;33m)\u001b[0m\u001b[1;33m]\u001b[0m\u001b[1;33m\u001b[0m\u001b[1;33m\u001b[0m\u001b[0m\n\u001b[0m\u001b[0;32m   1007\u001b[0m \u001b[1;33m\u001b[0m\u001b[0m\n\u001b[0;32m   1008\u001b[0m         \u001b[1;32mif\u001b[0m \u001b[0mlen\u001b[0m\u001b[1;33m(\u001b[0m\u001b[0mret\u001b[0m\u001b[1;33m)\u001b[0m\u001b[1;33m:\u001b[0m\u001b[1;33m\u001b[0m\u001b[1;33m\u001b[0m\u001b[0m\n",
      "\u001b[1;32m~\\Anaconda3\\lib\\site-packages\\matplotlib\\artist.py\u001b[0m in \u001b[0;36m_update_property\u001b[1;34m(self, k, v)\u001b[0m\n\u001b[0;32m    999\u001b[0m                 \u001b[0mfunc\u001b[0m \u001b[1;33m=\u001b[0m \u001b[0mgetattr\u001b[0m\u001b[1;33m(\u001b[0m\u001b[0mself\u001b[0m\u001b[1;33m,\u001b[0m \u001b[1;34m'set_'\u001b[0m \u001b[1;33m+\u001b[0m \u001b[0mk\u001b[0m\u001b[1;33m,\u001b[0m \u001b[1;32mNone\u001b[0m\u001b[1;33m)\u001b[0m\u001b[1;33m\u001b[0m\u001b[1;33m\u001b[0m\u001b[0m\n\u001b[0;32m   1000\u001b[0m                 \u001b[1;32mif\u001b[0m \u001b[1;32mnot\u001b[0m \u001b[0mcallable\u001b[0m\u001b[1;33m(\u001b[0m\u001b[0mfunc\u001b[0m\u001b[1;33m)\u001b[0m\u001b[1;33m:\u001b[0m\u001b[1;33m\u001b[0m\u001b[1;33m\u001b[0m\u001b[0m\n\u001b[1;32m-> 1001\u001b[1;33m                     raise AttributeError('{!r} object has no property {!r}'\n\u001b[0m\u001b[0;32m   1002\u001b[0m                                          .format(type(self).__name__, k))\n\u001b[0;32m   1003\u001b[0m                 \u001b[1;32mreturn\u001b[0m \u001b[0mfunc\u001b[0m\u001b[1;33m(\u001b[0m\u001b[0mv\u001b[0m\u001b[1;33m)\u001b[0m\u001b[1;33m\u001b[0m\u001b[1;33m\u001b[0m\u001b[0m\n",
      "\u001b[1;31mAttributeError\u001b[0m: 'Line2D' object has no property 'rotation'"
     ]
    }
   ],
   "source": [
    "#sns.distplot(df['time'],kde=False)\n",
    "\n",
    "ax = sns.lineplot(x=\"name\", y=\"time\", \n",
    "\n",
    "            data=df, marker='o',rotation=45)"
   ]
  },
  {
   "cell_type": "code",
   "execution_count": 33,
   "metadata": {},
   "outputs": [
    {
     "ename": "AttributeError",
     "evalue": "module 'seaborn' has no attribute 'displot'",
     "output_type": "error",
     "traceback": [
      "\u001b[1;31m---------------------------------------------------------------------------\u001b[0m",
      "\u001b[1;31mAttributeError\u001b[0m                            Traceback (most recent call last)",
      "\u001b[1;32m<ipython-input-33-617606be8da0>\u001b[0m in \u001b[0;36m<module>\u001b[1;34m\u001b[0m\n\u001b[0;32m      1\u001b[0m \u001b[0mpenguins\u001b[0m \u001b[1;33m=\u001b[0m \u001b[0msns\u001b[0m\u001b[1;33m.\u001b[0m\u001b[0mload_dataset\u001b[0m\u001b[1;33m(\u001b[0m\u001b[1;34m\"penguins\"\u001b[0m\u001b[1;33m)\u001b[0m\u001b[1;33m\u001b[0m\u001b[1;33m\u001b[0m\u001b[0m\n\u001b[1;32m----> 2\u001b[1;33m \u001b[0msns\u001b[0m\u001b[1;33m.\u001b[0m\u001b[0mdisplot\u001b[0m\u001b[1;33m(\u001b[0m\u001b[0mdata\u001b[0m\u001b[1;33m=\u001b[0m\u001b[0mpenguins\u001b[0m\u001b[1;33m,\u001b[0m \u001b[0mx\u001b[0m\u001b[1;33m=\u001b[0m\u001b[1;34m\"flipper_length_mm\"\u001b[0m\u001b[1;33m)\u001b[0m\u001b[1;33m\u001b[0m\u001b[1;33m\u001b[0m\u001b[0m\n\u001b[0m",
      "\u001b[1;31mAttributeError\u001b[0m: module 'seaborn' has no attribute 'displot'"
     ]
    }
   ],
   "source": [
    "penguins = sns.load_dataset(\"penguins\")\n",
    "sns.displot(data=penguins, x=\"flipper_length_mm\")"
   ]
  },
  {
   "cell_type": "code",
   "execution_count": 35,
   "metadata": {},
   "outputs": [
    {
     "data": {
      "image/png": "[encoded data removed]",
      "image/svg+xml": [
       "<?xml version=\"1.0\" encoding=\"utf-8\" standalone=\"no\"?>\r\n",
       "<!DOCTYPE svg PUBLIC \"-//W3C//DTD SVG 1.1//EN\"\r\n",
       "  \"http://www.w3.org/Graphics/SVG/1.1/DTD/svg11.dtd\">\r\n",
       "<!-- Created with matplotlib (https://matplotlib.org/) -->\r\n",
       "<svg height=\"248.518125pt\" version=\"1.1\" viewBox=\"0 0 378.465625 248.518125\" width=\"378.465625pt\" xmlns=\"http://www.w3.org/2000/svg\" xmlns:xlink=\"http://www.w3.org/1999/xlink\">\r\n",
       " <defs>\r\n",
       "  <style type=\"text/css\">\r\n",
       "*{stroke-linecap:butt;stroke-linejoin:round;}\r\n",
       "  </style>\r\n",
       " </defs>\r\n",
       " <g id=\"figure_1\">\r\n",
       "  <g id=\"patch_1\">\r\n",
       "   <path d=\"M 0 248.518125 \r\n",
       "L 378.465625 248.518125 \r\n",
       "L 378.465625 0 \r\n",
       "L 0 0 \r\n",
       "z\r\n",
       "\" style=\"fill:none;\"/>\r\n",
       "  </g>\r\n",
       "  <g id=\"axes_1\">\r\n",
       "   <g id=\"patch_2\">\r\n",
       "    <path d=\"M 36.465625 224.64 \r\n",
       "L 371.265625 224.64 \r\n",
       "L 371.265625 7.2 \r\n",
       "L 36.465625 7.2 \r\n",
       "z\r\n",
       "\" style=\"fill:#ffffff;\"/>\r\n",
       "   </g>\r\n",
       "   <g id=\"patch_3\">\r\n",
       "    <path clip-path=\"url(#p8fa1f0b807)\" d=\"M 105.74126 224.64 \r\n",
       "L 133.776793 224.64 \r\n",
       "L 133.776793 171.198525 \r\n",
       "L 105.74126 171.198525 \r\n",
       "z\r\n",
       "\" style=\"fill:#1f77b4;opacity:0.4;\"/>\r\n",
       "   </g>\r\n",
       "   <g id=\"patch_4\">\r\n",
       "    <path clip-path=\"url(#p8fa1f0b807)\" d=\"M 133.776793 224.64 \r\n",
       "L 161.812326 224.64 \r\n",
       "L 161.812326 131.117419 \r\n",
       "L 133.776793 131.117419 \r\n",
       "z\r\n",
       "\" style=\"fill:#1f77b4;opacity:0.4;\"/>\r\n",
       "   </g>\r\n",
       "   <g id=\"patch_5\">\r\n",
       "    <path clip-path=\"url(#p8fa1f0b807)\" d=\"M 161.812326 224.64 \r\n",
       "L 189.847859 224.64 \r\n",
       "L 189.847859 157.838157 \r\n",
       "L 161.812326 157.838157 \r\n",
       "z\r\n",
       "\" style=\"fill:#1f77b4;opacity:0.4;\"/>\r\n",
       "   </g>\r\n",
       "   <g id=\"patch_6\">\r\n",
       "    <path clip-path=\"url(#p8fa1f0b807)\" d=\"M 189.847859 224.64 \r\n",
       "L 217.883391 224.64 \r\n",
       "L 217.883391 57.635392 \r\n",
       "L 189.847859 57.635392 \r\n",
       "z\r\n",
       "\" style=\"fill:#1f77b4;opacity:0.4;\"/>\r\n",
       "   </g>\r\n",
       "   <g id=\"patch_7\">\r\n",
       "    <path clip-path=\"url(#p8fa1f0b807)\" d=\"M 217.883391 224.64 \r\n",
       "L 245.918924 224.64 \r\n",
       "L 245.918924 17.554286 \r\n",
       "L 217.883391 17.554286 \r\n",
       "z\r\n",
       "\" style=\"fill:#1f77b4;opacity:0.4;\"/>\r\n",
       "   </g>\r\n",
       "   <g id=\"patch_8\">\r\n",
       "    <path clip-path=\"url(#p8fa1f0b807)\" d=\"M 245.918924 224.64 \r\n",
       "L 273.954457 224.64 \r\n",
       "L 273.954457 171.198525 \r\n",
       "L 245.918924 171.198525 \r\n",
       "z\r\n",
       "\" style=\"fill:#1f77b4;opacity:0.4;\"/>\r\n",
       "   </g>\r\n",
       "   <g id=\"patch_9\">\r\n",
       "    <path clip-path=\"url(#p8fa1f0b807)\" d=\"M 273.954457 224.64 \r\n",
       "L 301.98999 224.64 \r\n",
       "L 301.98999 197.919263 \r\n",
       "L 273.954457 197.919263 \r\n",
       "z\r\n",
       "\" style=\"fill:#1f77b4;opacity:0.4;\"/>\r\n",
       "   </g>\r\n",
       "   <g id=\"matplotlib.axis_1\">\r\n",
       "    <g id=\"xtick_1\">\r\n",
       "     <g id=\"line2d_1\">\r\n",
       "      <defs>\r\n",
       "       <path d=\"M 0 0 \r\n",
       "L 0 3.5 \r\n",
       "\" id=\"mf0b4248c9c\" style=\"stroke:#000000;stroke-width:0.8;\"/>\r\n",
       "      </defs>\r\n",
       "      <g>\r\n",
       "       <use style=\"stroke:#000000;stroke-width:0.8;\" x=\"44.03493\" xlink:href=\"#mf0b4248c9c\" y=\"224.64\"/>\r\n",
       "      </g>\r\n",
       "     </g>\r\n",
       "     <g id=\"text_1\">\r\n",
       "      <!-- −4 -->\r\n",
       "      <defs>\r\n",
       "       <path d=\"M 10.59375 35.5 \r\n",
       "L 73.1875 35.5 \r\n",
       "L 73.1875 27.203125 \r\n",
       "L 10.59375 27.203125 \r\n",
       "z\r\n",
       "\" id=\"DejaVuSans-8722\"/>\r\n",
       "       <path d=\"M 37.796875 64.3125 \r\n",
       "L 12.890625 25.390625 \r\n",
       "L 37.796875 25.390625 \r\n",
       "z\r\n",
       "M 35.203125 72.90625 \r\n",
       "L 47.609375 72.90625 \r\n",
       "L 47.609375 25.390625 \r\n",
       "L 58.015625 25.390625 \r\n",
       "L 58.015625 17.1875 \r\n",
       "L 47.609375 17.1875 \r\n",
       "L 47.609375 0 \r\n",
       "L 37.796875 0 \r\n",
       "L 37.796875 17.1875 \r\n",
       "L 4.890625 17.1875 \r\n",
       "L 4.890625 26.703125 \r\n",
       "z\r\n",
       "\" id=\"DejaVuSans-52\"/>\r\n",
       "      </defs>\r\n",
       "      <g transform=\"translate(36.663836 239.238437)scale(0.1 -0.1)\">\r\n",
       "       <use xlink:href=\"#DejaVuSans-8722\"/>\r\n",
       "       <use x=\"83.789062\" xlink:href=\"#DejaVuSans-52\"/>\r\n",
       "      </g>\r\n",
       "     </g>\r\n",
       "    </g>\r\n",
       "    <g id=\"xtick_2\">\r\n",
       "     <g id=\"line2d_2\">\r\n",
       "      <g>\r\n",
       "       <use style=\"stroke:#000000;stroke-width:0.8;\" x=\"82.755691\" xlink:href=\"#mf0b4248c9c\" y=\"224.64\"/>\r\n",
       "      </g>\r\n",
       "     </g>\r\n",
       "     <g id=\"text_2\">\r\n",
       "      <!-- −3 -->\r\n",
       "      <defs>\r\n",
       "       <path d=\"M 40.578125 39.3125 \r\n",
       "Q 47.65625 37.796875 51.625 33 \r\n",
       "Q 55.609375 28.21875 55.609375 21.1875 \r\n",
       "Q 55.609375 10.40625 48.1875 4.484375 \r\n",
       "Q 40.765625 -1.421875 27.09375 -1.421875 \r\n",
       "Q 22.515625 -1.421875 17.65625 -0.515625 \r\n",
       "Q 12.796875 0.390625 7.625 2.203125 \r\n",
       "L 7.625 11.71875 \r\n",
       "Q 11.71875 9.328125 16.59375 8.109375 \r\n",
       "Q 21.484375 6.890625 26.8125 6.890625 \r\n",
       "Q 36.078125 6.890625 40.9375 10.546875 \r\n",
       "Q 45.796875 14.203125 45.796875 21.1875 \r\n",
       "Q 45.796875 27.640625 41.28125 31.265625 \r\n",
       "Q 36.765625 34.90625 28.71875 34.90625 \r\n",
       "L 20.21875 34.90625 \r\n",
       "L 20.21875 43.015625 \r\n",
       "L 29.109375 43.015625 \r\n",
       "Q 36.375 43.015625 40.234375 45.921875 \r\n",
       "Q 44.09375 48.828125 44.09375 54.296875 \r\n",
       "Q 44.09375 59.90625 40.109375 62.90625 \r\n",
       "Q 36.140625 65.921875 28.71875 65.921875 \r\n",
       "Q 24.65625 65.921875 20.015625 65.03125 \r\n",
       "Q 15.375 64.15625 9.8125 62.3125 \r\n",
       "L 9.8125 71.09375 \r\n",
       "Q 15.4375 72.65625 20.34375 73.4375 \r\n",
       "Q 25.25 74.21875 29.59375 74.21875 \r\n",
       "Q 40.828125 74.21875 47.359375 69.109375 \r\n",
       "Q 53.90625 64.015625 53.90625 55.328125 \r\n",
       "Q 53.90625 49.265625 50.4375 45.09375 \r\n",
       "Q 46.96875 40.921875 40.578125 39.3125 \r\n",
       "z\r\n",
       "\" id=\"DejaVuSans-51\"/>\r\n",
       "      </defs>\r\n",
       "      <g transform=\"translate(75.384597 239.238437)scale(0.1 -0.1)\">\r\n",
       "       <use xlink:href=\"#DejaVuSans-8722\"/>\r\n",
       "       <use x=\"83.789062\" xlink:href=\"#DejaVuSans-51\"/>\r\n",
       "      </g>\r\n",
       "     </g>\r\n",
       "    </g>\r\n",
       "    <g id=\"xtick_3\">\r\n",
       "     <g id=\"line2d_3\">\r\n",
       "      <g>\r\n",
       "       <use style=\"stroke:#000000;stroke-width:0.8;\" x=\"121.476451\" xlink:href=\"#mf0b4248c9c\" y=\"224.64\"/>\r\n",
       "      </g>\r\n",
       "     </g>\r\n",
       "     <g id=\"text_3\">\r\n",
       "      <!-- −2 -->\r\n",
       "      <defs>\r\n",
       "       <path d=\"M 19.1875 8.296875 \r\n",
       "L 53.609375 8.296875 \r\n",
       "L 53.609375 0 \r\n",
       "L 7.328125 0 \r\n",
       "L 7.328125 8.296875 \r\n",
       "Q 12.9375 14.109375 22.625 23.890625 \r\n",
       "Q 32.328125 33.6875 34.8125 36.53125 \r\n",
       "Q 39.546875 41.84375 41.421875 45.53125 \r\n",
       "Q 43.3125 49.21875 43.3125 52.78125 \r\n",
       "Q 43.3125 58.59375 39.234375 62.25 \r\n",
       "Q 35.15625 65.921875 28.609375 65.921875 \r\n",
       "Q 23.96875 65.921875 18.8125 64.3125 \r\n",
       "Q 13.671875 62.703125 7.8125 59.421875 \r\n",
       "L 7.8125 69.390625 \r\n",
       "Q 13.765625 71.78125 18.9375 73 \r\n",
       "Q 24.125 74.21875 28.421875 74.21875 \r\n",
       "Q 39.75 74.21875 46.484375 68.546875 \r\n",
       "Q 53.21875 62.890625 53.21875 53.421875 \r\n",
       "Q 53.21875 48.921875 51.53125 44.890625 \r\n",
       "Q 49.859375 40.875 45.40625 35.40625 \r\n",
       "Q 44.1875 33.984375 37.640625 27.21875 \r\n",
       "Q 31.109375 20.453125 19.1875 8.296875 \r\n",
       "z\r\n",
       "\" id=\"DejaVuSans-50\"/>\r\n",
       "      </defs>\r\n",
       "      <g transform=\"translate(114.105358 239.238437)scale(0.1 -0.1)\">\r\n",
       "       <use xlink:href=\"#DejaVuSans-8722\"/>\r\n",
       "       <use x=\"83.789062\" xlink:href=\"#DejaVuSans-50\"/>\r\n",
       "      </g>\r\n",
       "     </g>\r\n",
       "    </g>\r\n",
       "    <g id=\"xtick_4\">\r\n",
       "     <g id=\"line2d_4\">\r\n",
       "      <g>\r\n",
       "       <use style=\"stroke:#000000;stroke-width:0.8;\" x=\"160.197212\" xlink:href=\"#mf0b4248c9c\" y=\"224.64\"/>\r\n",
       "      </g>\r\n",
       "     </g>\r\n",
       "     <g id=\"text_4\">\r\n",
       "      <!-- −1 -->\r\n",
       "      <defs>\r\n",
       "       <path d=\"M 12.40625 8.296875 \r\n",
       "L 28.515625 8.296875 \r\n",
       "L 28.515625 63.921875 \r\n",
       "L 10.984375 60.40625 \r\n",
       "L 10.984375 69.390625 \r\n",
       "L 28.421875 72.90625 \r\n",
       "L 38.28125 72.90625 \r\n",
       "L 38.28125 8.296875 \r\n",
       "L 54.390625 8.296875 \r\n",
       "L 54.390625 0 \r\n",
       "L 12.40625 0 \r\n",
       "z\r\n",
       "\" id=\"DejaVuSans-49\"/>\r\n",
       "      </defs>\r\n",
       "      <g transform=\"translate(152.826118 239.238437)scale(0.1 -0.1)\">\r\n",
       "       <use xlink:href=\"#DejaVuSans-8722\"/>\r\n",
       "       <use x=\"83.789062\" xlink:href=\"#DejaVuSans-49\"/>\r\n",
       "      </g>\r\n",
       "     </g>\r\n",
       "    </g>\r\n",
       "    <g id=\"xtick_5\">\r\n",
       "     <g id=\"line2d_5\">\r\n",
       "      <g>\r\n",
       "       <use style=\"stroke:#000000;stroke-width:0.8;\" x=\"198.917973\" xlink:href=\"#mf0b4248c9c\" y=\"224.64\"/>\r\n",
       "      </g>\r\n",
       "     </g>\r\n",
       "     <g id=\"text_5\">\r\n",
       "      <!-- 0 -->\r\n",
       "      <defs>\r\n",
       "       <path d=\"M 31.78125 66.40625 \r\n",
       "Q 24.171875 66.40625 20.328125 58.90625 \r\n",
       "Q 16.5 51.421875 16.5 36.375 \r\n",
       "Q 16.5 21.390625 20.328125 13.890625 \r\n",
       "Q 24.171875 6.390625 31.78125 6.390625 \r\n",
       "Q 39.453125 6.390625 43.28125 13.890625 \r\n",
       "Q 47.125 21.390625 47.125 36.375 \r\n",
       "Q 47.125 51.421875 43.28125 58.90625 \r\n",
       "Q 39.453125 66.40625 31.78125 66.40625 \r\n",
       "z\r\n",
       "M 31.78125 74.21875 \r\n",
       "Q 44.046875 74.21875 50.515625 64.515625 \r\n",
       "Q 56.984375 54.828125 56.984375 36.375 \r\n",
       "Q 56.984375 17.96875 50.515625 8.265625 \r\n",
       "Q 44.046875 -1.421875 31.78125 -1.421875 \r\n",
       "Q 19.53125 -1.421875 13.0625 8.265625 \r\n",
       "Q 6.59375 17.96875 6.59375 36.375 \r\n",
       "Q 6.59375 54.828125 13.0625 64.515625 \r\n",
       "Q 19.53125 74.21875 31.78125 74.21875 \r\n",
       "z\r\n",
       "\" id=\"DejaVuSans-48\"/>\r\n",
       "      </defs>\r\n",
       "      <g transform=\"translate(195.736723 239.238437)scale(0.1 -0.1)\">\r\n",
       "       <use xlink:href=\"#DejaVuSans-48\"/>\r\n",
       "      </g>\r\n",
       "     </g>\r\n",
       "    </g>\r\n",
       "    <g id=\"xtick_6\">\r\n",
       "     <g id=\"line2d_6\">\r\n",
       "      <g>\r\n",
       "       <use style=\"stroke:#000000;stroke-width:0.8;\" x=\"237.638734\" xlink:href=\"#mf0b4248c9c\" y=\"224.64\"/>\r\n",
       "      </g>\r\n",
       "     </g>\r\n",
       "     <g id=\"text_6\">\r\n",
       "      <!-- 1 -->\r\n",
       "      <g transform=\"translate(234.457484 239.238437)scale(0.1 -0.1)\">\r\n",
       "       <use xlink:href=\"#DejaVuSans-49\"/>\r\n",
       "      </g>\r\n",
       "     </g>\r\n",
       "    </g>\r\n",
       "    <g id=\"xtick_7\">\r\n",
       "     <g id=\"line2d_7\">\r\n",
       "      <g>\r\n",
       "       <use style=\"stroke:#000000;stroke-width:0.8;\" x=\"276.359494\" xlink:href=\"#mf0b4248c9c\" y=\"224.64\"/>\r\n",
       "      </g>\r\n",
       "     </g>\r\n",
       "     <g id=\"text_7\">\r\n",
       "      <!-- 2 -->\r\n",
       "      <g transform=\"translate(273.178244 239.238437)scale(0.1 -0.1)\">\r\n",
       "       <use xlink:href=\"#DejaVuSans-50\"/>\r\n",
       "      </g>\r\n",
       "     </g>\r\n",
       "    </g>\r\n",
       "    <g id=\"xtick_8\">\r\n",
       "     <g id=\"line2d_8\">\r\n",
       "      <g>\r\n",
       "       <use style=\"stroke:#000000;stroke-width:0.8;\" x=\"315.080255\" xlink:href=\"#mf0b4248c9c\" y=\"224.64\"/>\r\n",
       "      </g>\r\n",
       "     </g>\r\n",
       "     <g id=\"text_8\">\r\n",
       "      <!-- 3 -->\r\n",
       "      <g transform=\"translate(311.899005 239.238437)scale(0.1 -0.1)\">\r\n",
       "       <use xlink:href=\"#DejaVuSans-51\"/>\r\n",
       "      </g>\r\n",
       "     </g>\r\n",
       "    </g>\r\n",
       "    <g id=\"xtick_9\">\r\n",
       "     <g id=\"line2d_9\">\r\n",
       "      <g>\r\n",
       "       <use style=\"stroke:#000000;stroke-width:0.8;\" x=\"353.801016\" xlink:href=\"#mf0b4248c9c\" y=\"224.64\"/>\r\n",
       "      </g>\r\n",
       "     </g>\r\n",
       "     <g id=\"text_9\">\r\n",
       "      <!-- 4 -->\r\n",
       "      <g transform=\"translate(350.619766 239.238437)scale(0.1 -0.1)\">\r\n",
       "       <use xlink:href=\"#DejaVuSans-52\"/>\r\n",
       "      </g>\r\n",
       "     </g>\r\n",
       "    </g>\r\n",
       "   </g>\r\n",
       "   <g id=\"matplotlib.axis_2\">\r\n",
       "    <g id=\"ytick_1\">\r\n",
       "     <g id=\"line2d_10\">\r\n",
       "      <defs>\r\n",
       "       <path d=\"M 0 0 \r\n",
       "L -3.5 0 \r\n",
       "\" id=\"m46b8f011f5\" style=\"stroke:#000000;stroke-width:0.8;\"/>\r\n",
       "      </defs>\r\n",
       "      <g>\r\n",
       "       <use style=\"stroke:#000000;stroke-width:0.8;\" x=\"36.465625\" xlink:href=\"#m46b8f011f5\" y=\"224.64\"/>\r\n",
       "      </g>\r\n",
       "     </g>\r\n",
       "     <g id=\"text_10\">\r\n",
       "      <!-- 0.00 -->\r\n",
       "      <defs>\r\n",
       "       <path d=\"M 10.6875 12.40625 \r\n",
       "L 21 12.40625 \r\n",
       "L 21 0 \r\n",
       "L 10.6875 0 \r\n",
       "z\r\n",
       "\" id=\"DejaVuSans-46\"/>\r\n",
       "      </defs>\r\n",
       "      <g transform=\"translate(7.2 228.439219)scale(0.1 -0.1)\">\r\n",
       "       <use xlink:href=\"#DejaVuSans-48\"/>\r\n",
       "       <use x=\"63.623047\" xlink:href=\"#DejaVuSans-46\"/>\r\n",
       "       <use x=\"95.410156\" xlink:href=\"#DejaVuSans-48\"/>\r\n",
       "       <use x=\"159.033203\" xlink:href=\"#DejaVuSans-48\"/>\r\n",
       "      </g>\r\n",
       "     </g>\r\n",
       "    </g>\r\n",
       "    <g id=\"ytick_2\">\r\n",
       "     <g id=\"line2d_11\">\r\n",
       "      <g>\r\n",
       "       <use style=\"stroke:#000000;stroke-width:0.8;\" x=\"36.465625\" xlink:href=\"#m46b8f011f5\" y=\"200.456265\"/>\r\n",
       "      </g>\r\n",
       "     </g>\r\n",
       "     <g id=\"text_11\">\r\n",
       "      <!-- 0.05 -->\r\n",
       "      <defs>\r\n",
       "       <path d=\"M 10.796875 72.90625 \r\n",
       "L 49.515625 72.90625 \r\n",
       "L 49.515625 64.59375 \r\n",
       "L 19.828125 64.59375 \r\n",
       "L 19.828125 46.734375 \r\n",
       "Q 21.96875 47.46875 24.109375 47.828125 \r\n",
       "Q 26.265625 48.1875 28.421875 48.1875 \r\n",
       "Q 40.625 48.1875 47.75 41.5 \r\n",
       "Q 54.890625 34.8125 54.890625 23.390625 \r\n",
       "Q 54.890625 11.625 47.5625 5.09375 \r\n",
       "Q 40.234375 -1.421875 26.90625 -1.421875 \r\n",
       "Q 22.3125 -1.421875 17.546875 -0.640625 \r\n",
       "Q 12.796875 0.140625 7.71875 1.703125 \r\n",
       "L 7.71875 11.625 \r\n",
       "Q 12.109375 9.234375 16.796875 8.0625 \r\n",
       "Q 21.484375 6.890625 26.703125 6.890625 \r\n",
       "Q 35.15625 6.890625 40.078125 11.328125 \r\n",
       "Q 45.015625 15.765625 45.015625 23.390625 \r\n",
       "Q 45.015625 31 40.078125 35.4375 \r\n",
       "Q 35.15625 39.890625 26.703125 39.890625 \r\n",
       "Q 22.75 39.890625 18.8125 39.015625 \r\n",
       "Q 14.890625 38.140625 10.796875 36.28125 \r\n",
       "z\r\n",
       "\" id=\"DejaVuSans-53\"/>\r\n",
       "      </defs>\r\n",
       "      <g transform=\"translate(7.2 204.255483)scale(0.1 -0.1)\">\r\n",
       "       <use xlink:href=\"#DejaVuSans-48\"/>\r\n",
       "       <use x=\"63.623047\" xlink:href=\"#DejaVuSans-46\"/>\r\n",
       "       <use x=\"95.410156\" xlink:href=\"#DejaVuSans-48\"/>\r\n",
       "       <use x=\"159.033203\" xlink:href=\"#DejaVuSans-53\"/>\r\n",
       "      </g>\r\n",
       "     </g>\r\n",
       "    </g>\r\n",
       "    <g id=\"ytick_3\">\r\n",
       "     <g id=\"line2d_12\">\r\n",
       "      <g>\r\n",
       "       <use style=\"stroke:#000000;stroke-width:0.8;\" x=\"36.465625\" xlink:href=\"#m46b8f011f5\" y=\"176.272529\"/>\r\n",
       "      </g>\r\n",
       "     </g>\r\n",
       "     <g id=\"text_12\">\r\n",
       "      <!-- 0.10 -->\r\n",
       "      <g transform=\"translate(7.2 180.071748)scale(0.1 -0.1)\">\r\n",
       "       <use xlink:href=\"#DejaVuSans-48\"/>\r\n",
       "       <use x=\"63.623047\" xlink:href=\"#DejaVuSans-46\"/>\r\n",
       "       <use x=\"95.410156\" xlink:href=\"#DejaVuSans-49\"/>\r\n",
       "       <use x=\"159.033203\" xlink:href=\"#DejaVuSans-48\"/>\r\n",
       "      </g>\r\n",
       "     </g>\r\n",
       "    </g>\r\n",
       "    <g id=\"ytick_4\">\r\n",
       "     <g id=\"line2d_13\">\r\n",
       "      <g>\r\n",
       "       <use style=\"stroke:#000000;stroke-width:0.8;\" x=\"36.465625\" xlink:href=\"#m46b8f011f5\" y=\"152.088794\"/>\r\n",
       "      </g>\r\n",
       "     </g>\r\n",
       "     <g id=\"text_13\">\r\n",
       "      <!-- 0.15 -->\r\n",
       "      <g transform=\"translate(7.2 155.888012)scale(0.1 -0.1)\">\r\n",
       "       <use xlink:href=\"#DejaVuSans-48\"/>\r\n",
       "       <use x=\"63.623047\" xlink:href=\"#DejaVuSans-46\"/>\r\n",
       "       <use x=\"95.410156\" xlink:href=\"#DejaVuSans-49\"/>\r\n",
       "       <use x=\"159.033203\" xlink:href=\"#DejaVuSans-53\"/>\r\n",
       "      </g>\r\n",
       "     </g>\r\n",
       "    </g>\r\n",
       "    <g id=\"ytick_5\">\r\n",
       "     <g id=\"line2d_14\">\r\n",
       "      <g>\r\n",
       "       <use style=\"stroke:#000000;stroke-width:0.8;\" x=\"36.465625\" xlink:href=\"#m46b8f011f5\" y=\"127.905058\"/>\r\n",
       "      </g>\r\n",
       "     </g>\r\n",
       "     <g id=\"text_14\">\r\n",
       "      <!-- 0.20 -->\r\n",
       "      <g transform=\"translate(7.2 131.704277)scale(0.1 -0.1)\">\r\n",
       "       <use xlink:href=\"#DejaVuSans-48\"/>\r\n",
       "       <use x=\"63.623047\" xlink:href=\"#DejaVuSans-46\"/>\r\n",
       "       <use x=\"95.410156\" xlink:href=\"#DejaVuSans-50\"/>\r\n",
       "       <use x=\"159.033203\" xlink:href=\"#DejaVuSans-48\"/>\r\n",
       "      </g>\r\n",
       "     </g>\r\n",
       "    </g>\r\n",
       "    <g id=\"ytick_6\">\r\n",
       "     <g id=\"line2d_15\">\r\n",
       "      <g>\r\n",
       "       <use style=\"stroke:#000000;stroke-width:0.8;\" x=\"36.465625\" xlink:href=\"#m46b8f011f5\" y=\"103.721323\"/>\r\n",
       "      </g>\r\n",
       "     </g>\r\n",
       "     <g id=\"text_15\">\r\n",
       "      <!-- 0.25 -->\r\n",
       "      <g transform=\"translate(7.2 107.520541)scale(0.1 -0.1)\">\r\n",
       "       <use xlink:href=\"#DejaVuSans-48\"/>\r\n",
       "       <use x=\"63.623047\" xlink:href=\"#DejaVuSans-46\"/>\r\n",
       "       <use x=\"95.410156\" xlink:href=\"#DejaVuSans-50\"/>\r\n",
       "       <use x=\"159.033203\" xlink:href=\"#DejaVuSans-53\"/>\r\n",
       "      </g>\r\n",
       "     </g>\r\n",
       "    </g>\r\n",
       "    <g id=\"ytick_7\">\r\n",
       "     <g id=\"line2d_16\">\r\n",
       "      <g>\r\n",
       "       <use style=\"stroke:#000000;stroke-width:0.8;\" x=\"36.465625\" xlink:href=\"#m46b8f011f5\" y=\"79.537587\"/>\r\n",
       "      </g>\r\n",
       "     </g>\r\n",
       "     <g id=\"text_16\">\r\n",
       "      <!-- 0.30 -->\r\n",
       "      <g transform=\"translate(7.2 83.336806)scale(0.1 -0.1)\">\r\n",
       "       <use xlink:href=\"#DejaVuSans-48\"/>\r\n",
       "       <use x=\"63.623047\" xlink:href=\"#DejaVuSans-46\"/>\r\n",
       "       <use x=\"95.410156\" xlink:href=\"#DejaVuSans-51\"/>\r\n",
       "       <use x=\"159.033203\" xlink:href=\"#DejaVuSans-48\"/>\r\n",
       "      </g>\r\n",
       "     </g>\r\n",
       "    </g>\r\n",
       "    <g id=\"ytick_8\">\r\n",
       "     <g id=\"line2d_17\">\r\n",
       "      <g>\r\n",
       "       <use style=\"stroke:#000000;stroke-width:0.8;\" x=\"36.465625\" xlink:href=\"#m46b8f011f5\" y=\"55.353852\"/>\r\n",
       "      </g>\r\n",
       "     </g>\r\n",
       "     <g id=\"text_17\">\r\n",
       "      <!-- 0.35 -->\r\n",
       "      <g transform=\"translate(7.2 59.15307)scale(0.1 -0.1)\">\r\n",
       "       <use xlink:href=\"#DejaVuSans-48\"/>\r\n",
       "       <use x=\"63.623047\" xlink:href=\"#DejaVuSans-46\"/>\r\n",
       "       <use x=\"95.410156\" xlink:href=\"#DejaVuSans-51\"/>\r\n",
       "       <use x=\"159.033203\" xlink:href=\"#DejaVuSans-53\"/>\r\n",
       "      </g>\r\n",
       "     </g>\r\n",
       "    </g>\r\n",
       "    <g id=\"ytick_9\">\r\n",
       "     <g id=\"line2d_18\">\r\n",
       "      <g>\r\n",
       "       <use style=\"stroke:#000000;stroke-width:0.8;\" x=\"36.465625\" xlink:href=\"#m46b8f011f5\" y=\"31.170116\"/>\r\n",
       "      </g>\r\n",
       "     </g>\r\n",
       "     <g id=\"text_18\">\r\n",
       "      <!-- 0.40 -->\r\n",
       "      <g transform=\"translate(7.2 34.969335)scale(0.1 -0.1)\">\r\n",
       "       <use xlink:href=\"#DejaVuSans-48\"/>\r\n",
       "       <use x=\"63.623047\" xlink:href=\"#DejaVuSans-46\"/>\r\n",
       "       <use x=\"95.410156\" xlink:href=\"#DejaVuSans-52\"/>\r\n",
       "       <use x=\"159.033203\" xlink:href=\"#DejaVuSans-48\"/>\r\n",
       "      </g>\r\n",
       "     </g>\r\n",
       "    </g>\r\n",
       "   </g>\r\n",
       "   <g id=\"line2d_19\">\r\n",
       "    <path clip-path=\"url(#p8fa1f0b807)\" d=\"M 51.683807 224.4994 \r\n",
       "L 58.873499 224.415177 \r\n",
       "L 63.666627 224.217338 \r\n",
       "L 68.459755 223.842126 \r\n",
       "L 73.252883 223.19734 \r\n",
       "L 75.649447 222.73653 \r\n",
       "L 78.046012 222.160297 \r\n",
       "L 80.442576 221.449914 \r\n",
       "L 82.83914 220.586212 \r\n",
       "L 85.235704 219.550273 \r\n",
       "L 87.632268 218.324235 \r\n",
       "L 90.028832 216.892175 \r\n",
       "L 92.425396 215.24102 \r\n",
       "L 94.82196 213.361436 \r\n",
       "L 97.218524 211.248609 \r\n",
       "L 99.615088 208.902837 \r\n",
       "L 102.011652 206.32987 \r\n",
       "L 104.408216 203.540901 \r\n",
       "L 106.80478 200.552185 \r\n",
       "L 111.597908 194.060965 \r\n",
       "L 116.391037 187.051186 \r\n",
       "L 123.580729 176.003649 \r\n",
       "L 133.166985 161.151807 \r\n",
       "L 137.960113 154.025374 \r\n",
       "L 142.753241 147.376 \r\n",
       "L 145.149805 144.312028 \r\n",
       "L 147.546369 141.4644 \r\n",
       "L 149.942934 138.857877 \r\n",
       "L 152.339498 136.506252 \r\n",
       "L 154.736062 134.40826 \r\n",
       "L 157.132626 132.544522 \r\n",
       "L 159.52919 130.876153 \r\n",
       "L 169.115446 124.795105 \r\n",
       "L 171.51201 123.003022 \r\n",
       "L 173.908574 120.939376 \r\n",
       "L 176.305138 118.544312 \r\n",
       "L 178.701702 115.778561 \r\n",
       "L 181.098266 112.625637 \r\n",
       "L 183.49483 109.091735 \r\n",
       "L 185.891395 105.203625 \r\n",
       "L 188.287959 101.005113 \r\n",
       "L 193.081087 91.912302 \r\n",
       "L 202.667343 72.939184 \r\n",
       "L 205.063907 68.490994 \r\n",
       "L 207.460471 64.334788 \r\n",
       "L 209.857035 60.566849 \r\n",
       "L 212.253599 57.288105 \r\n",
       "L 214.650163 54.60175 \r\n",
       "L 217.046727 52.60948 \r\n",
       "L 219.443291 51.406667 \r\n",
       "L 221.839855 51.077015 \r\n",
       "L 224.23642 51.687327 \r\n",
       "L 226.632984 53.283001 \r\n",
       "L 229.029548 55.88472 \r\n",
       "L 231.426112 59.48666 \r\n",
       "L 233.822676 64.056252 \r\n",
       "L 236.21924 69.535414 \r\n",
       "L 238.615804 75.84296 \r\n",
       "L 241.012368 82.877865 \r\n",
       "L 243.408932 90.52305 \r\n",
       "L 248.20206 107.119808 \r\n",
       "L 257.788316 141.638786 \r\n",
       "L 260.184881 149.763675 \r\n",
       "L 262.581445 157.455161 \r\n",
       "L 264.978009 164.623569 \r\n",
       "L 267.374573 171.198443 \r\n",
       "L 269.771137 177.130459 \r\n",
       "L 272.167701 182.3926 \r\n",
       "L 274.564265 186.980441 \r\n",
       "L 276.960829 190.911465 \r\n",
       "L 279.357393 194.22336 \r\n",
       "L 281.753957 196.971343 \r\n",
       "L 284.150521 199.224619 \r\n",
       "L 286.547085 201.062161 \r\n",
       "L 288.943649 202.568064 \r\n",
       "L 291.340213 203.826769 \r\n",
       "L 296.133342 205.915098 \r\n",
       "L 303.323034 208.867305 \r\n",
       "L 308.116162 211.083421 \r\n",
       "L 324.89211 219.322406 \r\n",
       "L 329.685238 221.091316 \r\n",
       "L 334.478367 222.42121 \r\n",
       "L 339.271495 223.340946 \r\n",
       "L 344.064623 223.926231 \r\n",
       "L 348.857751 224.266499 \r\n",
       "L 356.047443 224.48175 \r\n",
       "L 356.047443 224.48175 \r\n",
       "\" style=\"fill:none;stroke:#1f77b4;stroke-linecap:square;stroke-width:1.5;\"/>\r\n",
       "   </g>\r\n",
       "   <g id=\"patch_10\">\r\n",
       "    <path d=\"M 36.465625 224.64 \r\n",
       "L 36.465625 7.2 \r\n",
       "\" style=\"fill:none;stroke:#000000;stroke-linecap:square;stroke-linejoin:miter;stroke-width:0.8;\"/>\r\n",
       "   </g>\r\n",
       "   <g id=\"patch_11\">\r\n",
       "    <path d=\"M 371.265625 224.64 \r\n",
       "L 371.265625 7.2 \r\n",
       "\" style=\"fill:none;stroke:#000000;stroke-linecap:square;stroke-linejoin:miter;stroke-width:0.8;\"/>\r\n",
       "   </g>\r\n",
       "   <g id=\"patch_12\">\r\n",
       "    <path d=\"M 36.465625 224.64 \r\n",
       "L 371.265625 224.64 \r\n",
       "\" style=\"fill:none;stroke:#000000;stroke-linecap:square;stroke-linejoin:miter;stroke-width:0.8;\"/>\r\n",
       "   </g>\r\n",
       "   <g id=\"patch_13\">\r\n",
       "    <path d=\"M 36.465625 7.2 \r\n",
       "L 371.265625 7.2 \r\n",
       "\" style=\"fill:none;stroke:#000000;stroke-linecap:square;stroke-linejoin:miter;stroke-width:0.8;\"/>\r\n",
       "   </g>\r\n",
       "  </g>\r\n",
       " </g>\r\n",
       " <defs>\r\n",
       "  <clipPath id=\"p8fa1f0b807\">\r\n",
       "   <rect height=\"217.44\" width=\"334.8\" x=\"36.465625\" y=\"7.2\"/>\r\n",
       "  </clipPath>\r\n",
       " </defs>\r\n",
       "</svg>\r\n"
      ],
      "text/plain": [
       "<Figure size 432x288 with 1 Axes>"
      ]
     },
     "metadata": {
      "needs_background": "light"
     },
     "output_type": "display_data"
    }
   ],
   "source": [
    "import numpy as np\n",
    "\n",
    "x = np.random.normal(size=100)\n",
    "sns.distplot(x);"
   ]
  },
  {
   "cell_type": "code",
   "execution_count": 2,
   "metadata": {},
   "outputs": [],
   "source": [
    "import requests"
   ]
  },
  {
   "cell_type": "code",
   "execution_count": 4,
   "metadata": {},
   "outputs": [],
   "source": [
    "URL = 'https://speedskatingresults.com/index.php?p=18&s=57764&i=0'\n",
    "page = requests.get(URL)"
   ]
  },
  {
   "cell_type": "code",
   "execution_count": 5,
   "metadata": {},
   "outputs": [
    {
     "output_type": "stream",
     "name": "stdout",
     "text": [
      "<Response [200]>\n"
     ]
    }
   ],
   "source": [
    "print(page)"
   ]
  },
  {
   "cell_type": "code",
   "execution_count": 6,
   "metadata": {},
   "outputs": [],
   "source": [
    "import requests\n",
    "from bs4 import BeautifulSoup\n",
    "\n",
    "URL = 'https://speedskatingresults.com/index.php?p=18&s=57764&i=0'\n",
    "page = requests.get(URL)\n",
    "\n",
    "soup = BeautifulSoup(page.content, 'html.parser')\n"
   ]
  },
  {
   "cell_type": "code",
   "execution_count": 8,
   "metadata": {
    "tags": [
     "outputPrepend"
    ]
   },
   "outputs": [
    {
     "output_type": "stream",
     "name": "stdout",
     "text": [
      "1-2012            </option>\n<option value=\"2010\">\n            2010-2011            </option>\n<option value=\"2009\">\n            2009-2010            </option>\n<option value=\"2008\">\n            2008-2009            </option>\n<option value=\"2007\">\n            2007-2008            </option>\n<option value=\"2006\">\n            2006-2007            </option>\n</select>\n<label>Distance</label>\n<select name=\"d\">\n<option value=\"500\">\n            500m            </option>\n<option value=\"1000\">\n            1000m            </option>\n<option value=\"1500\">\n            1500m            </option>\n<option value=\"3000\">\n            3000m            </option>\n<option value=\"5000\">\n            5000m            </option>\n<option value=\"10000\">\n            10000m            </option>\n<option value=\"100\">\n            100m            </option>\n<option value=\"200\">\n            200m            </option>\n<option value=\"300\">\n            300m            </option>\n<option value=\"400\">\n            400m            </option>\n<option value=\"700\">\n            700m            </option>\n</select>\n<label>Location</label>\n<select name=\"t\">\n<option selected=\"selected\" value=\"9999\">\n                &lt;All&gt;\n            </option>\n<option value=\"99\">\n            Adavere (EST)            </option>\n<option value=\"125\">\n            Akan (JPN)            </option>\n<option value=\"72\">\n            Alkmaar (NED)            </option>\n<option value=\"247\">\n            Alta (NOR)            </option>\n<option value=\"195\">\n            Åmli-Dølemo (NOR)            </option>\n<option value=\"163\">\n            Ammerstol (NED)            </option>\n<option value=\"118\">\n            Amsterdam (NED)            </option>\n<option value=\"244\">\n            Amsterdam-Olympic (NED)            </option>\n<option value=\"183\">\n            Anchorage (USA)            </option>\n<option value=\"94\">\n            Arendal (NOR)            </option>\n<option value=\"272\">\n            Arkhangelsk-Dinamo (RUS)            </option>\n<option value=\"160\">\n            Arkhangelsk-Trud (RUS)            </option>\n<option value=\"280\">\n            Arsenev (RUS)            </option>\n<option value=\"153\">\n            Asahikawa (JPN)            </option>\n<option value=\"53\">\n            Asama (JPN)            </option>\n<option value=\"68\">\n            Asker (NOR)            </option>\n<option value=\"88\">\n            Assen (NED)            </option>\n<option value=\"116\">\n            Barnaul (RUS)            </option>\n<option value=\"119\">\n            Basel (SUI)            </option>\n<option value=\"17\">\n            Baselga di Pinè (ITA)            </option>\n<option value=\"129\">\n            Båstad (NOR)            </option>\n<option value=\"283\">\n            Beijing (CHN)            </option>\n<option value=\"130\">\n            Bergen (NOR)            </option>\n<option value=\"22\">\n            Berlin (GER)            </option>\n<option value=\"214\">\n            Berlin-Wilmersdorf (GER)            </option>\n<option value=\"275\">\n            Birobidzhan (RUS)            </option>\n<option value=\"117\">\n            Bjugn (NOR)            </option>\n<option value=\"245\">\n            Borlänge (SWE)            </option>\n<option value=\"64\">\n            Breda (NED)            </option>\n<option value=\"16\">\n            Budapest (HUN)            </option>\n<option value=\"5\">\n            Calgary (CAN)            </option>\n<option value=\"102\">\n            Changchun (CHN)            </option>\n<option value=\"57\">\n            Chelyabinsk (RUS)            </option>\n<option value=\"219\">\n            Chelyabinsk-Inga (RUS)            </option>\n<option value=\"26\">\n            Chemnitz (GER)            </option>\n<option value=\"149\">\n            Cherepovecz (RUS)            </option>\n<option value=\"89\">\n            Chino (JPN)            </option>\n<option value=\"206\">\n            Chita (RUS)            </option>\n<option value=\"10\">\n            Collalbo (ITA)            </option>\n<option value=\"190\">\n            Crimmitschau (GER)            </option>\n<option value=\"259\">\n            Daqing (CHN)            </option>\n<option value=\"20\">\n            Davos (SUI)            </option>\n<option value=\"200\">\n            Dawson Creek (CAN)            </option>\n<option value=\"52\">\n            Den Haag (NED)            </option>\n<option value=\"80\">\n            Deventer (NED)            </option>\n<option value=\"115\">\n            Divnogorsk (RUS)            </option>\n<option value=\"79\">\n            Drammen (NOR)            </option>\n<option value=\"63\">\n            Dresden (GER)            </option>\n<option value=\"196\">\n            Dronten (NED)            </option>\n<option value=\"176\">\n            Ede (NED)            </option>\n<option value=\"261\">\n            Edmonton (CAN)            </option>\n<option value=\"167\">\n            Eidsvoll (NOR)            </option>\n<option value=\"12\">\n            Eindhoven (NED)            </option>\n<option value=\"74\">\n            Ekaterinburg (RUS)            </option>\n<option value=\"154\">\n            El Calafate (ARG)            </option>\n<option value=\"263\">\n            Elbląg (POL)            </option>\n<option value=\"126\">\n            Ena (JPN)            </option>\n<option value=\"157\">\n            Enschede (NED)            </option>\n<option value=\"155\">\n            Erdenet (MGL)            </option>\n<option value=\"14\">\n            Erfurt (GER)            </option>\n<option value=\"104\">\n            Eskilstuna (SWE)            </option>\n<option value=\"228\">\n            Falun (SWE)            </option>\n<option value=\"107\">\n            Fort Saint John (CAN)            </option>\n<option value=\"181\">\n            Fort St. James (CAN)            </option>\n<option value=\"87\">\n            Frankfurt (GER)            </option>\n<option value=\"166\">\n            Frösön (SWE)            </option>\n<option value=\"121\">\n            Fujikyu (JPN)            </option>\n<option value=\"224\">\n            Fukang (CHN)            </option>\n<option value=\"267\">\n            Fushun (CHN)            </option>\n<option value=\"262\">\n            Gangneung (KOR)            </option>\n<option value=\"31\">\n            Geithus (NOR)            </option>\n<option value=\"132\">\n            Geleen (NED)            </option>\n<option value=\"204\">\n            Gjøvik (NOR)            </option>\n<option value=\"33\">\n            Gol (NOR)            </option>\n<option value=\"29\">\n            Göteborg (SWE)            </option>\n<option value=\"27\">\n            Grefrath (GER)            </option>\n<option value=\"24\">\n            Groningen (NED)            </option>\n<option value=\"229\">\n            Grou (NED)            </option>\n<option value=\"177\">\n            Haaksbergen (NED)            </option>\n<option value=\"54\">\n            Haarlem (NED)            </option>\n<option value=\"284\">\n            Hachinohe-Nagane (JPN)            </option>\n<option value=\"111\">\n            Hachinohe-Piping (JPN)            </option>\n<option value=\"134\">\n            Hagaström (SWE)            </option>\n<option value=\"215\">\n            Hailar (CHN)            </option>\n<option value=\"198\">\n            Halifax (CAN)            </option>\n<option value=\"8\">\n            Hamar (NOR)            </option>\n<option value=\"47\">\n            Harbin (CHN)            </option>\n<option value=\"67\">\n            Harstad (NOR)            </option>\n<option value=\"9\">\n            Heerenveen (NED)            </option>\n<option value=\"60\">\n            Helsinki (FIN)            </option>\n<option value=\"222\">\n            Hengelo (NED)            </option>\n<option value=\"171\">\n            Hol (NOR)            </option>\n<option value=\"218\">\n            Holmestrand (NOR)            </option>\n<option value=\"100\">\n            Hoorn (NED)            </option>\n<option value=\"141\">\n            Hundorp (NOR)            </option>\n<option value=\"59\">\n            Ikaho (JPN)            </option>\n<option value=\"19\">\n            Innsbruck (AUT)            </option>\n<option value=\"11\">\n            Inzell (GER)            </option>\n<option value=\"287\">\n            Irkutsk-Baikal (RUS)            </option>\n<option value=\"147\">\n            Irkutsk-Trud (RUS)            </option>\n<option value=\"150\">\n            Ivanovo (RUS)            </option>\n<option value=\"252\">\n            Izhevsk (RUS)            </option>\n<option value=\"162\">\n            Jevnaker (NOR)            </option>\n<option value=\"142\">\n            Jyväskylä (FIN)            </option>\n<option value=\"258\">\n            Kansk (RUS)            </option>\n<option value=\"84\">\n            Karlstad (SWE)            </option>\n<option value=\"34\">\n            Karuizawa (JPN)            </option>\n<option value=\"241\">\n            Kazan (RUS)            </option>\n<option value=\"237\">\n            Kemerovo (RUS)            </option>\n<option value=\"256\">\n            Khabarovsk (RUS)            </option>\n<option value=\"75\">\n            Kirov (RUS)            </option>\n<option value=\"151\">\n            Kirovo-Chepeczk (RUS)            </option>\n<option value=\"172\">\n            Kitami (JPN)            </option>\n<option value=\"101\">\n            Kolomna (RUS)            </option>\n<option value=\"276\">\n            Kolosovka (RUS)            </option>\n<option value=\"92\">\n            Kongsberg (NOR)            </option>\n<option value=\"127\">\n            Kongsvinger (NOR)            </option>\n<option value=\"124\">\n            Koriyama (JPN)            </option>\n<option value=\"254\">\n            Kostanaj (KAZ)            </option>\n<option value=\"227\">\n            Krasnoyarsk (RUS)            </option>\n<option value=\"205\">\n            Kristiansund (NOR)            </option>\n<option value=\"168\">\n            Kristinehamn (SWE)            </option>\n<option value=\"285\">\n            Kuopio (FIN)            </option>\n<option value=\"91\">\n            Kushiro (JPN)            </option>\n<option value=\"188\">\n            Kvam-Norheimsund (NOR)            </option>\n<option value=\"36\">\n            København (DEN)            </option>\n<option value=\"2\">\n            Lake Placid (USA)            </option>\n<option value=\"49\">\n            Larvik (NOR)            </option>\n<option value=\"255\">\n            Leeuwarden (NED)            </option>\n<option value=\"189\">\n            Leppävirta (FIN)            </option>\n<option value=\"242\">\n            Lesnoj (RUS)            </option>\n<option value=\"223\">\n            Losser (NED)            </option>\n<option value=\"122\">\n            Lubin (POL)            </option>\n<option value=\"208\">\n            Lærdal (NOR)            </option>\n<option value=\"277\">\n            Makinsk (KAZ)            </option>\n<option value=\"133\">\n            Matsubarako (JPN)            </option>\n<option value=\"13\">\n            Medeu (KAZ)            </option>\n<option value=\"3\">\n            Milwaukee (USA)            </option>\n<option value=\"96\">\n            Minsk (BLR)            </option>\n<option value=\"282\">\n            Minusinsk (RUS)            </option>\n<option value=\"216\">\n            Monchegorsk (RUS)            </option>\n<option value=\"239\">\n            Moose Jaw (CAN)            </option>\n<option value=\"81\">\n            Morioka (JPN)            </option>\n<option value=\"83\">\n            Moscow (RUS)            </option>\n<option value=\"97\">\n            Motala (SWE)            </option>\n<option value=\"62\">\n            München (GER)            </option>\n<option value=\"234\">\n            Murmansk (RUS)            </option>\n<option value=\"179\">\n            Murom (RUS)            </option>\n<option value=\"7\">\n            Nagano (JPN)            </option>\n<option value=\"273\">\n            Nakashibetsu (JPN)            </option>\n<option value=\"144\">\n            Narvik (NOR)            </option>\n<option value=\"243\">\n            Nemuro (JPN)            </option>\n<option value=\"82\">\n            Nijmegen (NED)            </option>\n<option value=\"61\">\n            Nikko (JPN)            </option>\n<option value=\"86\">\n            Nizhny Novgorod (RUS)            </option>\n<option value=\"231\">\n            Norheimsund (NOR)            </option>\n<option value=\"266\">\n            Notodden (NOR)            </option>\n<option value=\"246\">\n            Novocheboksarsk (RUS)            </option>\n<option value=\"203\">\n            Nur-Sultan (KAZ)            </option>\n<option value=\"90\">\n            Obihiro (JPN)            </option>\n<option value=\"143\">\n            Okaya (JPN)            </option>\n<option value=\"146\">\n            Olenegorsk (RUS)            </option>\n<option value=\"173\">\n            Omsk (RUS)            </option>\n<option value=\"106\">\n            Örebro (SWE)            </option>\n<option value=\"192\">\n            Oslo - Frogner (NOR)            </option>\n<option value=\"37\">\n            Oslo - Valle Hovin (NOR)            </option>\n<option value=\"197\">\n            Östersund (SWE)            </option>\n<option value=\"137\">\n            Ottawa (CAN)            </option>\n<option value=\"109\">\n            Oulu (FIN)            </option>\n<option value=\"148\">\n            Perm (RUS)            </option>\n<option value=\"108\">\n            Pori (FIN)            </option>\n<option value=\"250\">\n            Prince George (CAN)            </option>\n<option value=\"48\">\n            Pujon (PRK)            </option>\n<option value=\"140\">\n            Qiqihar (CHN)            </option>\n<option value=\"6\">\n            Quebec City (CAN)            </option>\n<option value=\"274\">\n            Red Deer (CAN)            </option>\n<option value=\"202\">\n            Regina (CAN)            </option>\n<option value=\"159\">\n            Richmond (CAN)            </option>\n<option value=\"4\">\n            Roseville (USA)            </option>\n<option value=\"265\">\n            Rotterdam (NED)            </option>\n<option value=\"257\">\n            Saint Petersburg (RUS)            </option>\n<option value=\"164\">\n            Sala (SWE)            </option>\n<option value=\"1\">\n            Salt Lake City (USA)            </option>\n<option value=\"156\">\n            Samjion (PRK)            </option>\n<option value=\"165\">\n            Sand (NOR)            </option>\n<option value=\"194\">\n            Sandefjord (NOR)            </option>\n<option value=\"187\">\n            Sandviken (SWE)            </option>\n<option value=\"18\">\n            Sanok (POL)            </option>\n<option value=\"50\">\n            Sapporo (JPN)            </option>\n<option value=\"232\">\n            Saratov (RUS)            </option>\n<option value=\"182\">\n            Saskatoon (CAN)            </option>\n<option value=\"185\">\n            Sault Sainte Marie (CAN)            </option>\n<option value=\"77\">\n            Seinäjoki (FIN)            </option>\n<option value=\"270\">\n            Selenginsk (RUS)            </option>\n<option value=\"56\">\n            Seoul (KOR)            </option>\n<option value=\"235\">\n            Severouralsk (RUS)            </option>\n<option value=\"260\">\n            Seversk (RUS)            </option>\n<option value=\"95\">\n            Shenyang (CHN)            </option>\n<option value=\"279\">\n            Shhuchinsk (KAZ)            </option>\n<option value=\"230\">\n            Shostka (UKR)            </option>\n<option value=\"269\">\n            Shushenskoe (RUS)            </option>\n<option value=\"73\">\n            Skien (NOR)            </option>\n<option value=\"217\">\n            Skjervøy (NOR)            </option>\n<option value=\"288\">\n            Skreia (NOR)            </option>\n<option value=\"264\">\n            Skutskär (SWE)            </option>\n<option value=\"226\">\n            Sochi (RUS)            </option>\n<option value=\"158\">\n            Sollentuna (SWE)            </option>\n<option value=\"253\">\n            Sortavala (RUS)            </option>\n<option value=\"44\">\n            St. Moritz (SUI)            </option>\n<option value=\"180\">\n            Stange (NOR)            </option>\n<option value=\"191\">\n            Stavanger (NOR)            </option>\n<option value=\"21\">\n            Stockholm (SWE)            </option>\n<option value=\"136\">\n            Stord (NOR)            </option>\n<option value=\"161\">\n            Studnice u Hlinsko (CZE)            </option>\n<option value=\"103\">\n            Sundsvall (SWE)            </option>\n<option value=\"268\">\n            Syktyvkar (RUS)            </option>\n<option value=\"286\">\n            Tallinn (EST)            </option>\n<option value=\"251\">\n            Tambov (RUS)            </option>\n<option value=\"170\">\n            Tampere-Pyynikin (FIN)            </option>\n<option value=\"289\">\n            Tampere-Sorsapuiston (FIN)            </option>\n<option value=\"174\">\n            Tierra del Fuego (ARG)            </option>\n<option value=\"186\">\n            Tilburg (NED)            </option>\n<option value=\"55\">\n            Tomakomai (JPN)            </option>\n<option value=\"58\">\n            Tomaszów-Mazowiecki (POL)            </option>\n<option value=\"93\">\n            Torino (ITA)            </option>\n<option value=\"138\">\n            Trollhättan (SWE)            </option>\n<option value=\"110\">\n            Tromsø (NOR)            </option>\n<option value=\"131\">\n            Trondheim-Leangen (NOR)            </option>\n<option value=\"249\">\n            Tula (RUS)            </option>\n<option value=\"145\">\n            Tynset (NOR)            </option>\n<option value=\"112\">\n            Tønsberg (NOR)            </option>\n<option value=\"46\">\n            Ulaanbaatar (MGL)            </option>\n<option value=\"105\">\n            Uppsala (SWE)            </option>\n<option value=\"201\">\n            Urumqi (CHN)            </option>\n<option value=\"152\">\n            Ushuaia (ARG)            </option>\n<option value=\"248\">\n            Ust-Ishim (RUS)            </option>\n<option value=\"38\">\n            Utrecht (NED)            </option>\n<option value=\"169\">\n            Valkeakoski (FIN)            </option>\n<option value=\"184\">\n            Västerås (SWE)            </option>\n<option value=\"240\">\n            Viljandi (EST)            </option>\n<option value=\"238\">\n            Vologda (RUS)            </option>\n<option value=\"236\">\n            Wangqing (CHN)            </option>\n<option value=\"71\">\n            Warsaw (POL)            </option>\n<option value=\"220\">\n            Weiteveen (NED)            </option>\n<option value=\"114\">\n            Whitehorse (CAN)            </option>\n<option value=\"135\">\n            Winnipeg (CAN)            </option>\n<option value=\"193\">\n            Wirdum (NED)            </option>\n<option value=\"123\">\n            Yamagata (JPN)            </option>\n<option value=\"139\">\n            Yatsugatake (JPN)            </option>\n<option value=\"128\">\n            Zakopane (POL)            </option>\n<option value=\"199\">\n            Žďár nad Sázavou (CZE)            </option>\n<option value=\"221\">\n            Zenderen (NED)            </option>\n<option value=\"278\">\n            Zerenda (KAZ)            </option>\n<option value=\"225\">\n            Zoetermeer (NED)            </option>\n<option value=\"120\">\n            Zürich (SUI)            </option>\n</select>\n<label>Sort</label>\n<select name=\"o\">\n<option selected=\"selected\" value=\"1\">\n            Time: fast to slow            </option>\n<option value=\"2\">\n            Time: slow to fast            </option>\n<option value=\"3\">\n            Date: later to earlier            </option>\n<option value=\"4\">\n            Date: earlier to later            </option>\n</select>\n<input type=\"submit\" value=\"Select\"/>\n</div>\n</form>\n</div>\n</div>\n<div class=\"ads\">\n<script async=\"\" src=\"//pagead2.googlesyndication.com/pagead/js/adsbygoogle.js\"></script>\n<ins class=\"adsbygoogle\" data-ad-client=\"ca-pub-5128896821148301\" data-ad-slot=\"8653890291\" style=\"display:inline-block;width:160px;height:600px\"></ins>\n<script>\n            (adsbygoogle = window.adsbygoogle || []).push({});\n        </script>\n</div>\n<div class=\"facebook\">\n<a href=\"https://www.facebook.com/pages/SpeedskatingResultscom/159857987424131\">\n<img alt=\"SpeedskatingResults.com on Facebook\" src=\"images/ssrc_fb_button_160.png\"/>\n</a>\n</div>\n</nav>\n<footer>\n<p>Copyright © 2021 John McClennan \n                    (<a href=\"mailto:ovalstats@q.com\">ovalstats@q.com</a>)</p>\n</footer>\n</div>\n</body>\n</html>\n\n"
     ]
    }
   ],
   "source": [
    "print(soup)"
   ]
  },
  {
   "cell_type": "code",
   "execution_count": 24,
   "metadata": {},
   "outputs": [],
   "source": [
    "results = soup.find(id='time')\n"
   ]
  },
  {
   "cell_type": "code",
   "execution_count": 25,
   "metadata": {
    "tags": []
   },
   "outputs": [
    {
     "output_type": "error",
     "ename": "AttributeError",
     "evalue": "'NoneType' object has no attribute 'prettify'",
     "traceback": [
      "\u001b[1;31m---------------------------------------------------------------------------\u001b[0m",
      "\u001b[1;31mAttributeError\u001b[0m                            Traceback (most recent call last)",
      "\u001b[1;32m<ipython-input-25-d240cd3bd521>\u001b[0m in \u001b[0;36m<module>\u001b[1;34m\u001b[0m\n\u001b[1;32m----> 1\u001b[1;33m \u001b[0mprint\u001b[0m\u001b[1;33m(\u001b[0m\u001b[0mresults\u001b[0m\u001b[1;33m.\u001b[0m\u001b[0mprettify\u001b[0m\u001b[1;33m(\u001b[0m\u001b[1;33m)\u001b[0m\u001b[1;33m)\u001b[0m\u001b[1;33m\u001b[0m\u001b[1;33m\u001b[0m\u001b[0m\n\u001b[0m",
      "\u001b[1;31mAttributeError\u001b[0m: 'NoneType' object has no attribute 'prettify'"
     ]
    }
   ],
   "source": [
    "print(results.prettify())"
   ]
  },
  {
   "cell_type": "code",
   "execution_count": null,
   "metadata": {},
   "outputs": [],
   "source": []
  }
 ],
 "metadata": {
  "kernelspec": {
   "display_name": "Python 3",
   "language": "python",
   "name": "python3"
  },
  "language_info": {
   "codemirror_mode": {
    "name": "ipython",
    "version": 3
   },
   "file_extension": ".py",
   "mimetype": "text/x-python",
   "name": "python",
   "nbconvert_exporter": "python",
   "pygments_lexer": "ipython3",
   "version": "3.8.3-final"
  }
 },
 "nbformat": 4,
 "nbformat_minor": 4
}